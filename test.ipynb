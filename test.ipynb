{
 "cells": [
  {
   "cell_type": "code",
   "execution_count": 3,
   "metadata": {},
   "outputs": [
    {
     "data": {
      "application/vnd.plotly.v1+json": {
       "config": {
        "plotlyServerURL": "https://plot.ly"
       },
       "data": [
        {
         "customdata": [
          [
           "A perfect solid cube with a side length of 8 blocks. It is composed of redstone ore. It is floating within an empty void."
          ],
          [
           "A perfect solid cube with a side length of 8 blocks. It is composed of waxed copper block. It is floating within an empty void."
          ],
          [
           "A perfect solid cube with a side length of 8 blocks. It is composed of smooth quartz. It is floating within an empty void."
          ],
          [
           "A perfect solid cube with a side length of 8 blocks. It is composed of dead brain coral block. It is floating within an empty void."
          ],
          [
           "A perfect solid cube with a side length of 8 blocks. It is composed of white terracotta. It is floating within an empty void."
          ],
          [
           "A perfect solid cube with a side length of 8 blocks. It is composed of brown concrete powder. It is floating within an empty void."
          ],
          [
           "A perfect solid cube with a side length of 8 blocks. It is composed of infested cracked stone bricks. It is floating within an empty void."
          ],
          [
           "A perfect solid cube with a side length of 8 blocks. It is composed of polished blackstone bricks. It is floating within an empty void."
          ],
          [
           "A perfect solid cube with a side length of 8 blocks. It is composed of stone. It is floating within an empty void."
          ],
          [
           "A perfect solid cube with a side length of 8 blocks. It is composed of cyan stained glass. It is floating within an empty void."
          ],
          [
           "A perfect solid cube with a side length of 8 blocks. It is composed of target. It is floating within an empty void."
          ],
          [
           "A perfect solid cube with a side length of 8 blocks. It is composed of ancient debris. It is floating within an empty void."
          ],
          [
           "A perfect solid cube with a side length of 8 blocks. It is composed of stripped dark oak log. It is floating within an empty void."
          ],
          [
           "A perfect solid cube with a side length of 8 blocks. It is composed of cyan wool. It is floating within an empty void."
          ],
          [
           "A perfect solid cube with a side length of 8 blocks. It is composed of prismarine bricks. It is floating within an empty void."
          ],
          [
           "A perfect solid cube with a side length of 8 blocks. It is composed of deepslate copper ore. It is floating within an empty void."
          ],
          [
           "A perfect solid cube with a side length of 8 blocks. It is composed of jungle leaves. It is floating within an empty void."
          ],
          [
           "A perfect solid cube with a side length of 8 blocks. It is composed of deepslate iron ore. It is floating within an empty void."
          ],
          [
           "A perfect solid cube with a side length of 8 blocks. It is composed of blue ice. It is floating within an empty void."
          ],
          [
           "A perfect solid cube with a side length of 8 blocks. It is composed of sandstone. It is floating within an empty void."
          ],
          [
           "A perfect solid cube with a side length of 8 blocks. It is composed of waxed weathered cut copper. It is floating within an empty void."
          ],
          [
           "A perfect solid cube with a side length of 8 blocks. It is composed of jukebox. It is floating within an empty void."
          ],
          [
           "A perfect solid cube with a side length of 8 blocks. It is composed of warped wart block. It is floating within an empty void."
          ],
          [
           "A perfect solid cube with a side length of 8 blocks. It is composed of green concrete powder. It is floating within an empty void."
          ],
          [
           "A perfect solid cube with a side length of 8 blocks. It is composed of purple wool. It is floating within an empty void."
          ],
          [
           "A perfect solid cube with a side length of 8 blocks. It is composed of birch leaves. It is floating within an empty void."
          ],
          [
           "A perfect solid cube with a side length of 8 blocks. It is composed of iron ore. It is floating within an empty void."
          ],
          [
           "A perfect solid cube with a side length of 8 blocks. It is composed of acacia planks. It is floating within an empty void."
          ],
          [
           "A perfect solid cube with a side length of 8 blocks. It is composed of dark oak wood. It is floating within an empty void."
          ],
          [
           "A perfect solid cube with a side length of 8 blocks. It is composed of nether gold ore. It is floating within an empty void."
          ],
          [
           "A perfect solid cube with a side length of 8 blocks. It is composed of dirt. It is floating within an empty void."
          ],
          [
           "A perfect solid cube with a side length of 8 blocks. It is composed of red sand. It is floating within an empty void."
          ],
          [
           "A perfect solid cube with a side length of 8 blocks. It is composed of brown wool. It is floating within an empty void."
          ],
          [
           "A perfect solid cube with a side length of 8 blocks. It is composed of weathered copper. It is floating within an empty void."
          ],
          [
           "A perfect solid cube with a side length of 8 blocks. It is composed of diorite. It is floating within an empty void."
          ],
          [
           "A perfect solid cube with a side length of 8 blocks. It is composed of cracked deepslate tiles. It is floating within an empty void."
          ],
          [
           "A perfect solid cube with a side length of 8 blocks. It is composed of birch log. It is floating within an empty void."
          ],
          [
           "A perfect solid cube with a side length of 8 blocks. It is composed of packed ice. It is floating within an empty void."
          ],
          [
           "A perfect solid cube with a side length of 8 blocks. It is composed of light blue concrete. It is floating within an empty void."
          ],
          [
           "A perfect solid cube with a side length of 8 blocks. It is composed of nether quartz ore. It is floating within an empty void."
          ],
          [
           "A perfect solid cube with a side length of 8 blocks. It is composed of light gray concrete. It is floating within an empty void."
          ],
          [
           "A perfect solid cube with a side length of 8 blocks. It is composed of emerald block. It is floating within an empty void."
          ],
          [
           "A perfect solid cube with a side length of 8 blocks. It is composed of deepslate diamond ore. It is floating within an empty void."
          ],
          [
           "A perfect solid cube with a side length of 8 blocks. It is composed of light blue concrete powder. It is floating within an empty void."
          ],
          [
           "A perfect solid cube with a side length of 8 blocks. It is composed of cracked deepslate bricks. It is floating within an empty void."
          ],
          [
           "A perfect solid cube with a side length of 8 blocks. It is composed of gray terracotta. It is floating within an empty void."
          ],
          [
           "A perfect solid cube with a side length of 8 blocks. It is composed of light blue stained glass. It is floating within an empty void."
          ],
          [
           "A perfect solid cube with a side length of 8 blocks. It is composed of cyan concrete. It is floating within an empty void."
          ],
          [
           "A perfect solid cube with a side length of 8 blocks. It is composed of horn coral block. It is floating within an empty void."
          ],
          [
           "A perfect solid cube with a side length of 8 blocks. It is composed of pink terracotta. It is floating within an empty void."
          ],
          [
           "A perfect solid cube with a side length of 8 blocks. It is composed of white stained glass. It is floating within an empty void."
          ],
          [
           "A perfect solid cube with a side length of 8 blocks. It is composed of quartz bricks. It is floating within an empty void."
          ],
          [
           "A perfect solid cube with a side length of 8 blocks. It is composed of acacia wood. It is floating within an empty void."
          ],
          [
           "A perfect solid cube with a side length of 8 blocks. It is composed of sea lantern. It is floating within an empty void."
          ],
          [
           "A perfect solid cube with a side length of 8 blocks. It is composed of spruce leaves. It is floating within an empty void."
          ],
          [
           "A perfect solid cube with a side length of 8 blocks. It is composed of copper ore. It is floating within an empty void."
          ],
          [
           "A perfect solid cube with a side length of 8 blocks. It is composed of pink wool. It is floating within an empty void."
          ],
          [
           "A perfect solid cube with a side length of 8 blocks. It is composed of stripped oak log. It is floating within an empty void."
          ],
          [
           "A perfect solid cube with a side length of 8 blocks. It is composed of jungle planks. It is floating within an empty void."
          ],
          [
           "A perfect solid cube with a side length of 8 blocks. It is composed of orange wool. It is floating within an empty void."
          ],
          [
           "A perfect solid cube with a side length of 8 blocks. It is composed of pink concrete powder. It is floating within an empty void."
          ],
          [
           "A perfect solid cube with a side length of 8 blocks. It is composed of yellow stained glass. It is floating within an empty void."
          ],
          [
           "A perfect solid cube with a side length of 8 blocks. It is composed of deepslate tiles. It is floating within an empty void."
          ],
          [
           "A perfect solid cube with a side length of 8 blocks. It is composed of dead horn coral block. It is floating within an empty void."
          ],
          [
           "A perfect solid cube with a side length of 8 blocks. It is composed of carved pumpkin. It is floating within an empty void."
          ],
          [
           "A perfect solid cube with a side length of 8 blocks. It is composed of stripped oak wood. It is floating within an empty void."
          ],
          [
           "A perfect solid cube with a side length of 8 blocks. It is composed of deepslate lapis ore. It is floating within an empty void."
          ],
          [
           "A perfect solid cube with a side length of 8 blocks. It is composed of orange terracotta. It is floating within an empty void."
          ],
          [
           "A perfect solid cube with a side length of 8 blocks. It is composed of rooted dirt. It is floating within an empty void."
          ],
          [
           "A perfect solid cube with a side length of 8 blocks. It is composed of frosted ice. It is floating within an empty void."
          ],
          [
           "A perfect solid cube with a side length of 8 blocks. It is composed of light gray stained glass. It is floating within an empty void."
          ],
          [
           "A perfect solid cube with a side length of 8 blocks. It is composed of smooth sandstone. It is floating within an empty void."
          ],
          [
           "A perfect solid cube with a side length of 8 blocks. It is composed of magenta stained glass. It is floating within an empty void."
          ],
          [
           "A perfect solid cube with a side length of 8 blocks. It is composed of quartz block. It is floating within an empty void."
          ],
          [
           "A perfect solid cube with a side length of 8 blocks. It is composed of gold block. It is floating within an empty void."
          ],
          [
           "A perfect solid cube with a side length of 8 blocks. It is composed of smooth basalt. It is floating within an empty void."
          ],
          [
           "A perfect solid cube with a side length of 8 blocks. It is composed of infested chiseled stone bricks. It is floating within an empty void."
          ],
          [
           "A perfect solid cube with a side length of 8 blocks. It is composed of lime concrete. It is floating within an empty void."
          ],
          [
           "A perfect solid cube with a side length of 8 blocks. It is composed of emerald ore. It is floating within an empty void."
          ],
          [
           "A perfect solid cube with a side length of 8 blocks. It is composed of chiseled deepslate. It is floating within an empty void."
          ],
          [
           "A perfect solid cube with a side length of 8 blocks. It is composed of green terracotta. It is floating within an empty void."
          ],
          [
           "A perfect solid cube with a side length of 8 blocks. It is composed of magenta concrete. It is floating within an empty void."
          ],
          [
           "A perfect solid cube with a side length of 8 blocks. It is composed of pink concrete. It is floating within an empty void."
          ],
          [
           "A perfect solid cube with a side length of 8 blocks. It is composed of light gray wool. It is floating within an empty void."
          ],
          [
           "A perfect solid cube with a side length of 8 blocks. It is composed of blue concrete powder. It is floating within an empty void."
          ],
          [
           "A perfect solid cube with a side length of 8 blocks. It is composed of dead bubble coral block. It is floating within an empty void."
          ],
          [
           "A perfect solid cube with a side length of 8 blocks. It is composed of honeycomb block. It is floating within an empty void."
          ],
          [
           "A perfect solid cube with a side length of 8 blocks. It is composed of brown terracotta. It is floating within an empty void."
          ],
          [
           "A perfect solid cube with a side length of 8 blocks. It is composed of polished blackstone. It is floating within an empty void."
          ],
          [
           "A perfect solid cube with a side length of 8 blocks. It is composed of black terracotta. It is floating within an empty void."
          ],
          [
           "A perfect solid cube with a side length of 8 blocks. It is composed of wet sponge. It is floating within an empty void."
          ],
          [
           "A perfect solid cube with a side length of 8 blocks. It is composed of light gray terracotta. It is floating within an empty void."
          ],
          [
           "A perfect solid cube with a side length of 8 blocks. It is composed of cyan concrete powder. It is floating within an empty void."
          ],
          [
           "A perfect solid cube with a side length of 8 blocks. It is composed of tube coral block. It is floating within an empty void."
          ],
          [
           "A perfect solid cube with a side length of 8 blocks. It is composed of raw copper block. It is floating within an empty void."
          ],
          [
           "A perfect solid cube with a side length of 8 blocks. It is composed of honey block. It is floating within an empty void."
          ],
          [
           "A perfect solid cube with a side length of 8 blocks. It is composed of cyan terracotta. It is floating within an empty void."
          ],
          [
           "A perfect solid cube with a side length of 8 blocks. It is composed of pink stained glass. It is floating within an empty void."
          ],
          [
           "A perfect solid cube with a side length of 8 blocks. It is composed of chiseled sandstone. It is floating within an empty void."
          ],
          [
           "A perfect solid cube with a side length of 8 blocks. It is composed of infested stone bricks. It is floating within an empty void."
          ]
         ],
         "hovertemplate": "label=simple_cubes<br>x=%{x}<br>y=%{y}<br>description=%{customdata[0]}<extra></extra>",
         "legendgroup": "simple_cubes",
         "marker": {
          "color": "#636efa",
          "symbol": "circle"
         },
         "mode": "markers",
         "name": "simple_cubes",
         "orientation": "v",
         "showlegend": true,
         "type": "scatter",
         "x": [
          -2.794227123260498,
          2.5664730072021484,
          -0.9760082960128784,
          -7.126351833343506,
          0.4706290364265442,
          7.756221771240234,
          -4.344871997833252,
          1.6479216814041138,
          0.8806642293930054,
          5.474738597869873,
          -0.22543181478977203,
          3.1764328479766846,
          4.075404644012451,
          -3.1620965003967285,
          -3.017890214920044,
          -0.020643288269639015,
          1.989298701286316,
          -1.0624041557312012,
          9.098175048828125,
          1.6473474502563477,
          2.5204830169677734,
          -0.9434446692466736,
          -3.0871660709381104,
          7.4457197189331055,
          -3.450627326965332,
          3.9385128021240234,
          -1.2746305465698242,
          1.897748351097107,
          3.3789570331573486,
          -2.5589687824249268,
          -2.0651323795318604,
          2.5988292694091797,
          -2.5139448642730713,
          2.0503737926483154,
          0.48803529143333435,
          2.5570929050445557,
          4.222781181335449,
          9.262859344482422,
          6.231670379638672,
          -2.6409237384796143,
          6.128685474395752,
          -4.412195682525635,
          -1.1385444402694702,
          6.833154201507568,
          2.758983612060547,
          0.994750440120697,
          4.929133892059326,
          6.134824275970459,
          -5.947893142700195,
          -0.2408784180879593,
          4.857107639312744,
          -1.3480291366577148,
          2.0381059646606445,
          3.564337968826294,
          3.979740619659424,
          0.37150639295578003,
          -3.2190589904785156,
          4.072126865386963,
          1.6966809034347534,
          -2.5604331493377686,
          8.252913475036621,
          5.2512311935424805,
          2.157487392425537,
          -6.328511714935303,
          3.0788121223449707,
          3.503831624984741,
          -0.8362646698951721,
          0.46686655282974243,
          -2.079742431640625,
          9.080751419067383,
          4.746201992034912,
          1.5665301084518433,
          6.165560245513916,
          -1.6996784210205078,
          -2.173619508743286,
          0.8904069066047668,
          -4.2313008308410645,
          8.725428581237793,
          -4.118910312652588,
          2.1095924377441406,
          1.3007811307907104,
          7.517021656036377,
          8.231748580932617,
          -2.1347360610961914,
          7.130340099334717,
          -6.718918800354004,
          6.743427276611328,
          0.7822381258010864,
          1.592807650566101,
          0.6806023716926575,
          6.367762565612793,
          1.5955898761749268,
          6.682388782501221,
          -5.78741455078125,
          1.5194343328475952,
          6.747794151306152,
          -0.12485730648040771,
          6.04432487487793,
          1.5306721925735474,
          -4.302932262420654
         ],
         "xaxis": "x",
         "y": [
          -4.426976203918457,
          -6.72929573059082,
          -0.2605784237384796,
          0.7220159769058228,
          4.522751331329346,
          -1.3153105974197388,
          4.1580023765563965,
          1.8104873895645142,
          0.692695140838623,
          2.8088903427124023,
          1.995750069618225,
          -0.6612527966499329,
          8.224038124084473,
          8.622662544250488,
          -0.4890195429325104,
          -5.736464977264404,
          10.893156051635742,
          -5.75300931930542,
          3.0998644828796387,
          -0.16928881406784058,
          -7.072377681732178,
          1.6409227848052979,
          1.6654486656188965,
          -1.8171108961105347,
          8.472085952758789,
          10.428838729858398,
          -6.1393046379089355,
          8.6486177444458,
          7.526726245880127,
          -3.1623947620391846,
          2.7327072620391846,
          0.4144776165485382,
          7.981787204742432,
          -7.2900872230529785,
          -1.7700097560882568,
          -2.875189781188965,
          9.445863723754883,
          3.298247814178467,
          0.0023227191995829344,
          -3.3043034076690674,
          0.09942550212144852,
          -3.88730788230896,
          -4.60194730758667,
          -0.55464106798172,
          -2.7449378967285156,
          4.358304977416992,
          2.756502628326416,
          -1.3235573768615723,
          0.4452518820762634,
          5.283565521240234,
          3.533020496368408,
          -0.07236063480377197,
          8.451483726501465,
          2.3568480014801025,
          10.580860137939453,
          -6.285720348358154,
          7.89192008972168,
          8.371715545654297,
          10.736213684082031,
          8.579383850097656,
          -0.5174182653427124,
          3.8157572746276855,
          -2.8441879749298096,
          0.4204104244709015,
          5.631141185760498,
          7.88374662399292,
          -4.33952522277832,
          5.565098285675049,
          2.787233352661133,
          3.263392448425293,
          3.0449934005737305,
          -0.1888691633939743,
          2.9412097930908203,
          -0.30963268876075745,
          -1.9642163515090942,
          -1.0896700620651245,
          4.1348443031311035,
          -2.1109120845794678,
          -4.058703422546387,
          -2.0432167053222656,
          5.218515396118164,
          0.6589191555976868,
          0.010215239599347115,
          8.089805603027344,
          -0.9998700022697449,
          0.8927204608917236,
          6.6779656410217285,
          5.0658745765686035,
          1.6785916090011597,
          3.8789145946502686,
          -3.265733480453491,
          4.296133995056152,
          -1.6715396642684937,
          0.8633257150650024,
          -6.610562801361084,
          6.679387092590332,
          4.39786958694458,
          3.571652889251709,
          -0.08995411545038223,
          4.151353359222412
         ],
         "yaxis": "y"
        }
       ],
       "layout": {
        "font": {
         "color": "white"
        },
        "legend": {
         "title": {
          "text": "label"
         },
         "tracegroupgap": 0
        },
        "margin": {
         "t": 60
        },
        "paper_bgcolor": "rgba(0,0,0,0)",
        "plot_bgcolor": "rgba(0,0,0,0)",
        "template": {
         "data": {
          "bar": [
           {
            "error_x": {
             "color": "#f2f5fa"
            },
            "error_y": {
             "color": "#f2f5fa"
            },
            "marker": {
             "line": {
              "color": "rgb(17,17,17)",
              "width": 0.5
             },
             "pattern": {
              "fillmode": "overlay",
              "size": 10,
              "solidity": 0.2
             }
            },
            "type": "bar"
           }
          ],
          "barpolar": [
           {
            "marker": {
             "line": {
              "color": "rgb(17,17,17)",
              "width": 0.5
             },
             "pattern": {
              "fillmode": "overlay",
              "size": 10,
              "solidity": 0.2
             }
            },
            "type": "barpolar"
           }
          ],
          "carpet": [
           {
            "aaxis": {
             "endlinecolor": "#A2B1C6",
             "gridcolor": "#506784",
             "linecolor": "#506784",
             "minorgridcolor": "#506784",
             "startlinecolor": "#A2B1C6"
            },
            "baxis": {
             "endlinecolor": "#A2B1C6",
             "gridcolor": "#506784",
             "linecolor": "#506784",
             "minorgridcolor": "#506784",
             "startlinecolor": "#A2B1C6"
            },
            "type": "carpet"
           }
          ],
          "choropleth": [
           {
            "colorbar": {
             "outlinewidth": 0,
             "ticks": ""
            },
            "type": "choropleth"
           }
          ],
          "contour": [
           {
            "colorbar": {
             "outlinewidth": 0,
             "ticks": ""
            },
            "colorscale": [
             [
              0,
              "#0d0887"
             ],
             [
              0.1111111111111111,
              "#46039f"
             ],
             [
              0.2222222222222222,
              "#7201a8"
             ],
             [
              0.3333333333333333,
              "#9c179e"
             ],
             [
              0.4444444444444444,
              "#bd3786"
             ],
             [
              0.5555555555555556,
              "#d8576b"
             ],
             [
              0.6666666666666666,
              "#ed7953"
             ],
             [
              0.7777777777777778,
              "#fb9f3a"
             ],
             [
              0.8888888888888888,
              "#fdca26"
             ],
             [
              1,
              "#f0f921"
             ]
            ],
            "type": "contour"
           }
          ],
          "contourcarpet": [
           {
            "colorbar": {
             "outlinewidth": 0,
             "ticks": ""
            },
            "type": "contourcarpet"
           }
          ],
          "heatmap": [
           {
            "colorbar": {
             "outlinewidth": 0,
             "ticks": ""
            },
            "colorscale": [
             [
              0,
              "#0d0887"
             ],
             [
              0.1111111111111111,
              "#46039f"
             ],
             [
              0.2222222222222222,
              "#7201a8"
             ],
             [
              0.3333333333333333,
              "#9c179e"
             ],
             [
              0.4444444444444444,
              "#bd3786"
             ],
             [
              0.5555555555555556,
              "#d8576b"
             ],
             [
              0.6666666666666666,
              "#ed7953"
             ],
             [
              0.7777777777777778,
              "#fb9f3a"
             ],
             [
              0.8888888888888888,
              "#fdca26"
             ],
             [
              1,
              "#f0f921"
             ]
            ],
            "type": "heatmap"
           }
          ],
          "heatmapgl": [
           {
            "colorbar": {
             "outlinewidth": 0,
             "ticks": ""
            },
            "colorscale": [
             [
              0,
              "#0d0887"
             ],
             [
              0.1111111111111111,
              "#46039f"
             ],
             [
              0.2222222222222222,
              "#7201a8"
             ],
             [
              0.3333333333333333,
              "#9c179e"
             ],
             [
              0.4444444444444444,
              "#bd3786"
             ],
             [
              0.5555555555555556,
              "#d8576b"
             ],
             [
              0.6666666666666666,
              "#ed7953"
             ],
             [
              0.7777777777777778,
              "#fb9f3a"
             ],
             [
              0.8888888888888888,
              "#fdca26"
             ],
             [
              1,
              "#f0f921"
             ]
            ],
            "type": "heatmapgl"
           }
          ],
          "histogram": [
           {
            "marker": {
             "pattern": {
              "fillmode": "overlay",
              "size": 10,
              "solidity": 0.2
             }
            },
            "type": "histogram"
           }
          ],
          "histogram2d": [
           {
            "colorbar": {
             "outlinewidth": 0,
             "ticks": ""
            },
            "colorscale": [
             [
              0,
              "#0d0887"
             ],
             [
              0.1111111111111111,
              "#46039f"
             ],
             [
              0.2222222222222222,
              "#7201a8"
             ],
             [
              0.3333333333333333,
              "#9c179e"
             ],
             [
              0.4444444444444444,
              "#bd3786"
             ],
             [
              0.5555555555555556,
              "#d8576b"
             ],
             [
              0.6666666666666666,
              "#ed7953"
             ],
             [
              0.7777777777777778,
              "#fb9f3a"
             ],
             [
              0.8888888888888888,
              "#fdca26"
             ],
             [
              1,
              "#f0f921"
             ]
            ],
            "type": "histogram2d"
           }
          ],
          "histogram2dcontour": [
           {
            "colorbar": {
             "outlinewidth": 0,
             "ticks": ""
            },
            "colorscale": [
             [
              0,
              "#0d0887"
             ],
             [
              0.1111111111111111,
              "#46039f"
             ],
             [
              0.2222222222222222,
              "#7201a8"
             ],
             [
              0.3333333333333333,
              "#9c179e"
             ],
             [
              0.4444444444444444,
              "#bd3786"
             ],
             [
              0.5555555555555556,
              "#d8576b"
             ],
             [
              0.6666666666666666,
              "#ed7953"
             ],
             [
              0.7777777777777778,
              "#fb9f3a"
             ],
             [
              0.8888888888888888,
              "#fdca26"
             ],
             [
              1,
              "#f0f921"
             ]
            ],
            "type": "histogram2dcontour"
           }
          ],
          "mesh3d": [
           {
            "colorbar": {
             "outlinewidth": 0,
             "ticks": ""
            },
            "type": "mesh3d"
           }
          ],
          "parcoords": [
           {
            "line": {
             "colorbar": {
              "outlinewidth": 0,
              "ticks": ""
             }
            },
            "type": "parcoords"
           }
          ],
          "pie": [
           {
            "automargin": true,
            "type": "pie"
           }
          ],
          "scatter": [
           {
            "marker": {
             "line": {
              "color": "#283442"
             }
            },
            "type": "scatter"
           }
          ],
          "scatter3d": [
           {
            "line": {
             "colorbar": {
              "outlinewidth": 0,
              "ticks": ""
             }
            },
            "marker": {
             "colorbar": {
              "outlinewidth": 0,
              "ticks": ""
             }
            },
            "type": "scatter3d"
           }
          ],
          "scattercarpet": [
           {
            "marker": {
             "colorbar": {
              "outlinewidth": 0,
              "ticks": ""
             }
            },
            "type": "scattercarpet"
           }
          ],
          "scattergeo": [
           {
            "marker": {
             "colorbar": {
              "outlinewidth": 0,
              "ticks": ""
             }
            },
            "type": "scattergeo"
           }
          ],
          "scattergl": [
           {
            "marker": {
             "line": {
              "color": "#283442"
             }
            },
            "type": "scattergl"
           }
          ],
          "scattermapbox": [
           {
            "marker": {
             "colorbar": {
              "outlinewidth": 0,
              "ticks": ""
             }
            },
            "type": "scattermapbox"
           }
          ],
          "scatterpolar": [
           {
            "marker": {
             "colorbar": {
              "outlinewidth": 0,
              "ticks": ""
             }
            },
            "type": "scatterpolar"
           }
          ],
          "scatterpolargl": [
           {
            "marker": {
             "colorbar": {
              "outlinewidth": 0,
              "ticks": ""
             }
            },
            "type": "scatterpolargl"
           }
          ],
          "scatterternary": [
           {
            "marker": {
             "colorbar": {
              "outlinewidth": 0,
              "ticks": ""
             }
            },
            "type": "scatterternary"
           }
          ],
          "surface": [
           {
            "colorbar": {
             "outlinewidth": 0,
             "ticks": ""
            },
            "colorscale": [
             [
              0,
              "#0d0887"
             ],
             [
              0.1111111111111111,
              "#46039f"
             ],
             [
              0.2222222222222222,
              "#7201a8"
             ],
             [
              0.3333333333333333,
              "#9c179e"
             ],
             [
              0.4444444444444444,
              "#bd3786"
             ],
             [
              0.5555555555555556,
              "#d8576b"
             ],
             [
              0.6666666666666666,
              "#ed7953"
             ],
             [
              0.7777777777777778,
              "#fb9f3a"
             ],
             [
              0.8888888888888888,
              "#fdca26"
             ],
             [
              1,
              "#f0f921"
             ]
            ],
            "type": "surface"
           }
          ],
          "table": [
           {
            "cells": {
             "fill": {
              "color": "#506784"
             },
             "line": {
              "color": "rgb(17,17,17)"
             }
            },
            "header": {
             "fill": {
              "color": "#2a3f5f"
             },
             "line": {
              "color": "rgb(17,17,17)"
             }
            },
            "type": "table"
           }
          ]
         },
         "layout": {
          "annotationdefaults": {
           "arrowcolor": "#f2f5fa",
           "arrowhead": 0,
           "arrowwidth": 1
          },
          "autotypenumbers": "strict",
          "coloraxis": {
           "colorbar": {
            "outlinewidth": 0,
            "ticks": ""
           }
          },
          "colorscale": {
           "diverging": [
            [
             0,
             "#8e0152"
            ],
            [
             0.1,
             "#c51b7d"
            ],
            [
             0.2,
             "#de77ae"
            ],
            [
             0.3,
             "#f1b6da"
            ],
            [
             0.4,
             "#fde0ef"
            ],
            [
             0.5,
             "#f7f7f7"
            ],
            [
             0.6,
             "#e6f5d0"
            ],
            [
             0.7,
             "#b8e186"
            ],
            [
             0.8,
             "#7fbc41"
            ],
            [
             0.9,
             "#4d9221"
            ],
            [
             1,
             "#276419"
            ]
           ],
           "sequential": [
            [
             0,
             "#0d0887"
            ],
            [
             0.1111111111111111,
             "#46039f"
            ],
            [
             0.2222222222222222,
             "#7201a8"
            ],
            [
             0.3333333333333333,
             "#9c179e"
            ],
            [
             0.4444444444444444,
             "#bd3786"
            ],
            [
             0.5555555555555556,
             "#d8576b"
            ],
            [
             0.6666666666666666,
             "#ed7953"
            ],
            [
             0.7777777777777778,
             "#fb9f3a"
            ],
            [
             0.8888888888888888,
             "#fdca26"
            ],
            [
             1,
             "#f0f921"
            ]
           ],
           "sequentialminus": [
            [
             0,
             "#0d0887"
            ],
            [
             0.1111111111111111,
             "#46039f"
            ],
            [
             0.2222222222222222,
             "#7201a8"
            ],
            [
             0.3333333333333333,
             "#9c179e"
            ],
            [
             0.4444444444444444,
             "#bd3786"
            ],
            [
             0.5555555555555556,
             "#d8576b"
            ],
            [
             0.6666666666666666,
             "#ed7953"
            ],
            [
             0.7777777777777778,
             "#fb9f3a"
            ],
            [
             0.8888888888888888,
             "#fdca26"
            ],
            [
             1,
             "#f0f921"
            ]
           ]
          },
          "colorway": [
           "#636efa",
           "#EF553B",
           "#00cc96",
           "#ab63fa",
           "#FFA15A",
           "#19d3f3",
           "#FF6692",
           "#B6E880",
           "#FF97FF",
           "#FECB52"
          ],
          "font": {
           "color": "#f2f5fa"
          },
          "geo": {
           "bgcolor": "rgb(17,17,17)",
           "lakecolor": "rgb(17,17,17)",
           "landcolor": "rgb(17,17,17)",
           "showlakes": true,
           "showland": true,
           "subunitcolor": "#506784"
          },
          "hoverlabel": {
           "align": "left"
          },
          "hovermode": "closest",
          "mapbox": {
           "style": "dark"
          },
          "paper_bgcolor": "rgb(17,17,17)",
          "plot_bgcolor": "rgb(17,17,17)",
          "polar": {
           "angularaxis": {
            "gridcolor": "#506784",
            "linecolor": "#506784",
            "ticks": ""
           },
           "bgcolor": "rgb(17,17,17)",
           "radialaxis": {
            "gridcolor": "#506784",
            "linecolor": "#506784",
            "ticks": ""
           }
          },
          "scene": {
           "xaxis": {
            "backgroundcolor": "rgb(17,17,17)",
            "gridcolor": "#506784",
            "gridwidth": 2,
            "linecolor": "#506784",
            "showbackground": true,
            "ticks": "",
            "zerolinecolor": "#C8D4E3"
           },
           "yaxis": {
            "backgroundcolor": "rgb(17,17,17)",
            "gridcolor": "#506784",
            "gridwidth": 2,
            "linecolor": "#506784",
            "showbackground": true,
            "ticks": "",
            "zerolinecolor": "#C8D4E3"
           },
           "zaxis": {
            "backgroundcolor": "rgb(17,17,17)",
            "gridcolor": "#506784",
            "gridwidth": 2,
            "linecolor": "#506784",
            "showbackground": true,
            "ticks": "",
            "zerolinecolor": "#C8D4E3"
           }
          },
          "shapedefaults": {
           "line": {
            "color": "#f2f5fa"
           }
          },
          "sliderdefaults": {
           "bgcolor": "#C8D4E3",
           "bordercolor": "rgb(17,17,17)",
           "borderwidth": 1,
           "tickwidth": 0
          },
          "ternary": {
           "aaxis": {
            "gridcolor": "#506784",
            "linecolor": "#506784",
            "ticks": ""
           },
           "baxis": {
            "gridcolor": "#506784",
            "linecolor": "#506784",
            "ticks": ""
           },
           "bgcolor": "rgb(17,17,17)",
           "caxis": {
            "gridcolor": "#506784",
            "linecolor": "#506784",
            "ticks": ""
           }
          },
          "title": {
           "x": 0.05
          },
          "updatemenudefaults": {
           "bgcolor": "#506784",
           "borderwidth": 0
          },
          "xaxis": {
           "automargin": true,
           "gridcolor": "#283442",
           "linecolor": "#506784",
           "ticks": "",
           "title": {
            "standoff": 15
           },
           "zerolinecolor": "#283442",
           "zerolinewidth": 2
          },
          "yaxis": {
           "automargin": true,
           "gridcolor": "#283442",
           "linecolor": "#506784",
           "ticks": "",
           "title": {
            "standoff": 15
           },
           "zerolinecolor": "#283442",
           "zerolinewidth": 2
          }
         }
        },
        "title": {
         "text": "t-SNE visualization of sentence embeddings"
        },
        "xaxis": {
         "anchor": "y",
         "domain": [
          0,
          1
         ],
         "title": {
          "text": "t-SNE dimension 1"
         }
        },
        "yaxis": {
         "anchor": "x",
         "domain": [
          0,
          1
         ],
         "title": {
          "text": "t-SNE dimension 2"
         }
        }
       }
      }
     },
     "metadata": {},
     "output_type": "display_data"
    }
   ],
   "source": [
    "import os\n",
    "\n",
    "import h5py\n",
    "import numpy as np\n",
    "import plotly.express as px\n",
    "from sklearn.manifold import TSNE\n",
    "\n",
    "from common.file_paths import BASE_DIR\n",
    "\n",
    "embeddings = []\n",
    "descriptions = []\n",
    "labels = []\n",
    "\n",
    "with h5py.File(os.path.join(BASE_DIR, 'data.h5'), 'r') as hf:\n",
    "    # Iterate over dataset splits (train, val, test)\n",
    "    for split in hf:\n",
    "        group = hf[split]\n",
    "\n",
    "        # Iterate over datasets\n",
    "        for dataset in group:\n",
    "            for sample in group[dataset]:\n",
    "                # Get the embedding\n",
    "                embedding = group[dataset][sample]['features'][:]\n",
    "                embeddings.append(embedding)\n",
    "                description = group[dataset][sample]['description'][()].decode('utf-8')\n",
    "                descriptions.append(description)\n",
    "\n",
    "                # Get the label\n",
    "                labels.append(dataset)\n",
    "\n",
    "# Convert your list of embeddings into a numpy array\n",
    "embeddings_array = np.array(embeddings)\n",
    "\n",
    "perplexity_value = min(30, len(embeddings_array) - 1)\n",
    "\n",
    "# Use t-SNE to reduce the dimensionality\n",
    "tsne = TSNE(n_components=2, random_state=0, perplexity=perplexity_value)\n",
    "reduced_embeddings = tsne.fit_transform(embeddings_array)\n",
    "\n",
    "# Create a DataFrame for Plotly\n",
    "import pandas as pd\n",
    "df = pd.DataFrame(reduced_embeddings, columns=['x', 'y'])\n",
    "df['label'] = labels\n",
    "df['description'] = descriptions\n",
    "\n",
    "# Create an interactive scatter plot\n",
    "fig = px.scatter(df, x='x', y='y', color='label', hover_data=['description'])\n",
    "fig.update_layout(title='t-SNE visualization of sentence embeddings', xaxis_title='t-SNE dimension 1', yaxis_title='t-SNE dimension 2')\n",
    "\n",
    "# Update the layout for dark mode\n",
    "fig.update_layout(\n",
    "    template=\"plotly_dark\",  # Use the built-in dark mode template\n",
    "    plot_bgcolor='rgba(0,0,0,0)',  # Set plot background to black\n",
    "    paper_bgcolor='rgba(0,0,0,0)',  # Set the overall background to black\n",
    "    font_color=\"white\",  # Set text color to white\n",
    ")\n",
    "\n",
    "fig.show()"
   ]
  }
 ],
 "metadata": {
  "kernelspec": {
   "display_name": ".venv",
   "language": "python",
   "name": "python3"
  },
  "language_info": {
   "codemirror_mode": {
    "name": "ipython",
    "version": 3
   },
   "file_extension": ".py",
   "mimetype": "text/x-python",
   "name": "python",
   "nbconvert_exporter": "python",
   "pygments_lexer": "ipython3",
   "version": "3.11.4"
  }
 },
 "nbformat": 4,
 "nbformat_minor": 2
}
