{
 "cells": [
  {
   "cell_type": "markdown",
   "metadata": {},
   "source": [
    "Load Data"
   ]
  },
  {
   "cell_type": "code",
   "execution_count": null,
   "metadata": {},
   "outputs": [],
   "source": [
    "import os\n",
    "\n",
    "from common.file_paths import BASE_DIR\n",
    "from converter import SchematicArrayConverter\n",
    "from modules.data_module import MinecraftDataModule\n",
    "\n",
    "hdf5_file = os.path.join(BASE_DIR, 'data.h5')\n",
    "data_module = MinecraftDataModule(\n",
    "    file_path=hdf5_file,\n",
    "    batch_size=1\n",
    ")\n",
    "\n",
    "data_module.setup()\n",
    "val_dataloaders = data_module.val_dataloader()\n",
    "schematic_array_converter = SchematicArrayConverter()"
   ]
  },
  {
   "cell_type": "markdown",
   "metadata": {},
   "source": [
    "Choose Random Sample"
   ]
  },
  {
   "cell_type": "code",
   "execution_count": null,
   "metadata": {},
   "outputs": [],
   "source": [
    "import random\n",
    "from pathlib import Path\n",
    "\n",
    "# Pick a random validation dataloader\n",
    "dataloader = random.choice(val_dataloaders)\n",
    "i = val_dataloaders.index(dataloader)\n",
    "dataset = data_module.val_datasets[i][1]\n",
    "\n",
    "# Pick a random sample from the dataloader\n",
    "i = random.randint(0, len(dataset) - 1)\n",
    "full_structure, _ = dataset[i]\n",
    "\n",
    "full_structure_schematic = schematic_array_converter.array_to_schematic(full_structure)\n",
    "full_structure_schematic.name = 'Test'\n",
    "\n",
    "# Save the sample\n",
    "full_structure_path = 'schematic_viewer/public/schematics/masked/sample.schem'\n",
    "full_structure_schematic.save_to_file(Path(full_structure_path), 2)"
   ]
  },
  {
   "cell_type": "markdown",
   "metadata": {},
   "source": [
    "Mask Sample"
   ]
  },
  {
   "cell_type": "code",
   "execution_count": null,
   "metadata": {},
   "outputs": [],
   "source": [
    "from model import MinecraftDataset\n",
    "\n",
    "# Mask the structure\n",
    "masked_structure = MinecraftDataset._mask_structure(full_structure)\n",
    "\n",
    "# Fill the masked positions with light gray stained glass\n",
    "masked_structure[masked_structure == 0] = 36\n",
    "\n",
    "# Convert the masked structure to a schematic\n",
    "masked_structure_schematic = schematic_array_converter.array_to_schematic(masked_structure)\n",
    "masked_structure_schematic.name = 'Test'\n",
    "\n",
    "# Save the sample\n",
    "masked_structure_schematic.save_to_file(Path('schematic_viewer/public/schematics/filled/sample.schem'), 2)"
   ]
  },
  {
   "cell_type": "markdown",
   "metadata": {},
   "source": [
    "Choose Random Sample"
   ]
  },
  {
   "cell_type": "code",
   "execution_count": null,
   "metadata": {},
   "outputs": [],
   "source": [
    "%load_ext autoreload\n",
    "%autoreload 2\n",
    "\n",
    "import shutil\n",
    "import random\n",
    "from pathlib import Path\n",
    "from schempy import Schematic\n",
    "from converter import SchematicArrayConverter\n",
    "\n",
    "# Define the source and destination directories\n",
    "source_dir = Path('data/schematics/ethos_lp_ep550')\n",
    "destination_dir = Path('schematic_viewer/public/schematics/masked')\n",
    "\n",
    "# List all files in the source directory\n",
    "files = list(source_dir.glob('*'))\n",
    "\n",
    "# Choose a random file\n",
    "random_file = random.choice(files)\n",
    "\n",
    "# Define a new filename for the copied file\n",
    "new_filename = 'sample.schem'\n",
    "\n",
    "# Copy the file to the destination directory with the new filename\n",
    "shutil.copy(random_file, destination_dir / new_filename)"
   ]
  },
  {
   "cell_type": "code",
   "execution_count": null,
   "metadata": {},
   "outputs": [],
   "source": [
    "schematic_array_converter = SchematicArrayConverter()\n",
    "\n",
    "schematic = Schematic.from_file(Path(random_file))\n",
    "sample_array = schematic_array_converter.schematic_to_array(schematic)\n",
    "\n",
    "processed_sample_schematic = schematic_array_converter.array_to_schematic(sample_array)\n",
    "processed_sample_schematic.name = 'Processed'\n",
    "\n",
    "# Save the processed sample\n",
    "processed_sample_path = 'schematic_viewer/public/schematics/filled/sample.schem'\n",
    "processed_sample_schematic.save_to_file(Path(processed_sample_path), 2)"
   ]
  },
  {
   "cell_type": "markdown",
   "metadata": {},
   "source": [
    "Process Sample"
   ]
  },
  {
   "cell_type": "code",
   "execution_count": null,
   "metadata": {},
   "outputs": [],
   "source": [
    "%load_ext autoreload\n",
    "%autoreload 2\n",
    "\n",
    "from data_preparer.loader import get_schematic_data\n",
    "\n",
    "processed_sample = get_schematic_data('test', full_structure_path)\n",
    "\n",
    "schematic_array_converter = SchematicArrayConverter()\n",
    "\n",
    "processed_sample_schematic = schematic_array_converter.array_to_schematic(processed_sample)\n",
    "processed_sample_schematic.name = 'Processed'\n",
    "\n",
    "# Save the processed sample\n",
    "processed_sample_path = 'schematic_viewer/public/schematics/filled/sample.schem'\n",
    "processed_sample_schematic.save_to_file(Path(processed_sample_path), 2)"
   ]
  },
  {
   "cell_type": "code",
   "execution_count": null,
   "metadata": {},
   "outputs": [],
   "source": [
    "import shutil\n",
    "import random\n",
    "from pathlib import Path\n",
    "\n",
    "# Define the source and destination directories\n",
    "source_dir = Path('data/schematics/ethos_lp_ep550')\n",
    "destination_dir = Path('schematic_viewer/public/schematics/masked')\n",
    "\n",
    "# List all files in the source directory\n",
    "files = list(source_dir.glob('*'))\n",
    "\n",
    "# Choose a random file\n",
    "random_file = random.choice(files)\n",
    "\n",
    "schematic_array_converter = SchematicArrayConverter()\n",
    "\n",
    "processed_sample_schematic = schematic_array_converter.array_to_schematic(processed_sample)\n",
    "processed_sample_schematic.name = 'Processed'\n",
    "\n",
    "# Save the processed sample\n",
    "processed_sample_path = 'schematic_viewer/public/schematics/filled/sample.schem'\n",
    "processed_sample_schematic.save_to_file(Path(processed_sample_path), 2)"
   ]
  }
 ],
 "metadata": {
  "kernelspec": {
   "display_name": ".venv",
   "language": "python",
   "name": "python3"
  },
  "language_info": {
   "codemirror_mode": {
    "name": "ipython",
    "version": 3
   },
   "file_extension": ".py",
   "mimetype": "text/x-python",
   "name": "python",
   "nbconvert_exporter": "python",
   "pygments_lexer": "ipython3",
   "version": "3.10.11"
  }
 },
 "nbformat": 4,
 "nbformat_minor": 2
}
