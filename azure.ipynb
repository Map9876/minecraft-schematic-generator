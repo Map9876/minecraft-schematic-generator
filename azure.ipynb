{
 "cells": [
  {
   "cell_type": "code",
   "execution_count": 10,
   "metadata": {},
   "outputs": [],
   "source": [
    "from azure.ai.ml import MLClient, command\n",
    "from azure.identity import DefaultAzureCredential\n",
    "\n",
    "credential = DefaultAzureCredential()\n",
    "\n",
    "SUBSCRIPTION = \"259a7e74-5f5c-44af-b40f-91487da4fdf0\"\n",
    "RESOURCE_GROUP = \"model\"\n",
    "WS_NAME = \"test\"\n",
    "\n",
    "ml_client = MLClient(\n",
    "    credential=credential,\n",
    "    subscription_id=SUBSCRIPTION,\n",
    "    resource_group_name=RESOURCE_GROUP,\n",
    "    workspace_name=WS_NAME,\n",
    ")\n",
    "\n",
    "job = command(\n",
    "    code=\"./train.py\",\n",
    "    command=\"python train.py\",\n",
    "    display_name=\"credit_default_prediction\",\n",
    "    environment=\"azureml://registries/azureml/environments/acpt-pytorch-1.13-cuda11.7/versions/24\"\n",
    ")\n",
    "\n",
    "ml_client.create_or_update(job)"
   ]
  }
 ],
 "metadata": {
  "kernelspec": {
   "display_name": ".venv",
   "language": "python",
   "name": "python3"
  },
  "language_info": {
   "codemirror_mode": {
    "name": "ipython",
    "version": 3
   },
   "file_extension": ".py",
   "mimetype": "text/x-python",
   "name": "python",
   "nbconvert_exporter": "python",
   "pygments_lexer": "ipython3",
   "version": "3.11.4"
  }
 },
 "nbformat": 4,
 "nbformat_minor": 2
}
