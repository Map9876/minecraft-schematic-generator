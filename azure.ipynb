{
 "cells": [
  {
   "cell_type": "markdown",
   "metadata": {},
   "source": [
    "Set up workspace"
   ]
  },
  {
   "cell_type": "code",
   "execution_count": 10,
   "metadata": {},
   "outputs": [],
   "source": [
    "from azure.ai.ml import MLClient\n",
    "from azure.identity import DefaultAzureCredential\n",
    "\n",
    "credential = DefaultAzureCredential()\n",
    "\n",
    "SUBSCRIPTION = \"259a7e74-5f5c-44af-b40f-91487da4fdf0\"\n",
    "RESOURCE_GROUP = \"model\"\n",
    "WS_NAME = \"test\"\n",
    "\n",
    "ml_client = MLClient(\n",
    "    credential=credential,\n",
    "    subscription_id=SUBSCRIPTION,\n",
    "    resource_group_name=RESOURCE_GROUP,\n",
    "    workspace_name=WS_NAME,\n",
    ")"
   ]
  },
  {
   "cell_type": "code",
   "execution_count": 11,
   "metadata": {},
   "outputs": [
    {
     "name": "stdout",
     "output_type": "stream",
     "text": [
      "eastus2 : model\n"
     ]
    }
   ],
   "source": [
    "# Verify that the handle works correctly.\n",
    "# If you ge an error here, modify your SUBSCRIPTION, RESOURCE_GROUP, and WS_NAME in the previous cell.\n",
    "ws = ml_client.workspaces.get(WS_NAME)\n",
    "print(ws.location, \":\", ws.resource_group)"
   ]
  },
  {
   "cell_type": "code",
   "execution_count": 17,
   "metadata": {},
   "outputs": [
    {
     "name": "stdout",
     "output_type": "stream",
     "text": [
      "AzureML-AI-Studio-Development\n",
      "AzureML-ACPT-pytorch-1.13-py38-cuda11.7-gpu\n",
      "AzureML-ACPT-pytorch-1.12-py38-cuda11.6-gpu\n",
      "AzureML-ACPT-pytorch-1.12-py39-cuda11.6-gpu\n",
      "AzureML-ACPT-pytorch-1.11-py38-cuda11.5-gpu\n",
      "AzureML-ACPT-pytorch-1.11-py38-cuda11.3-gpu\n",
      "AzureML-responsibleai-0.21-ubuntu20.04-py38-cpu\n",
      "AzureML-responsibleai-0.20-ubuntu20.04-py38-cpu\n",
      "AzureML-tensorflow-2.5-ubuntu20.04-py38-cuda11-gpu\n",
      "AzureML-tensorflow-2.6-ubuntu20.04-py38-cuda11-gpu\n",
      "AzureML-tensorflow-2.7-ubuntu20.04-py38-cuda11-gpu\n",
      "AzureML-sklearn-1.0-ubuntu20.04-py38-cpu\n",
      "AzureML-pytorch-1.10-ubuntu18.04-py38-cuda11-gpu\n",
      "AzureML-pytorch-1.9-ubuntu18.04-py37-cuda11-gpu\n",
      "AzureML-pytorch-1.8-ubuntu18.04-py37-cuda11-gpu\n",
      "AzureML-sklearn-0.24-ubuntu18.04-py37-cpu\n",
      "AzureML-lightgbm-3.2-ubuntu18.04-py37-cpu\n",
      "AzureML-pytorch-1.7-ubuntu18.04-py37-cuda11-gpu\n",
      "AzureML-tensorflow-2.4-ubuntu18.04-py37-cuda11-gpu\n",
      "AzureML-Triton\n",
      "AzureML-Designer-Score\n",
      "AzureML-VowpalWabbit-8.8.0\n",
      "AzureML-PyTorch-1.3-CPU\n"
     ]
    }
   ],
   "source": [
    "for env in ml_client.environments.list():\n",
    "    print(env.name)"
   ]
  },
  {
   "cell_type": "markdown",
   "metadata": {},
   "source": [
    "Create command"
   ]
  },
  {
   "cell_type": "code",
   "execution_count": 21,
   "metadata": {},
   "outputs": [
    {
     "ename": "ResourceNotFoundError",
     "evalue": "(UserError) No environment exists for name: AzureML-ACPT-pytorch-1.13-py38-cuda11.7-gpu, version: latest, label: \nCode: UserError\nMessage: No environment exists for name: AzureML-ACPT-pytorch-1.13-py38-cuda11.7-gpu, version: latest, label: ",
     "output_type": "error",
     "traceback": [
      "\u001b[1;31m---------------------------------------------------------------------------\u001b[0m",
      "\u001b[1;31mResourceNotFoundError\u001b[0m                     Traceback (most recent call last)",
      "\u001b[1;32mc:\\Users\\mmmfr\\Documents\\Repositories\\minecraft-schematic-generator\\azure.ipynb Cell 6\u001b[0m line \u001b[0;36m4\n\u001b[0;32m      <a href='vscode-notebook-cell:/c%3A/Users/mmmfr/Documents/Repositories/minecraft-schematic-generator/azure.ipynb#W4sZmlsZQ%3D%3D?line=0'>1</a>\u001b[0m \u001b[39mfrom\u001b[39;00m \u001b[39mazure\u001b[39;00m\u001b[39m.\u001b[39;00m\u001b[39mai\u001b[39;00m\u001b[39m.\u001b[39;00m\u001b[39mml\u001b[39;00m \u001b[39mimport\u001b[39;00m command\n\u001b[0;32m      <a href='vscode-notebook-cell:/c%3A/Users/mmmfr/Documents/Repositories/minecraft-schematic-generator/azure.ipynb#W4sZmlsZQ%3D%3D?line=2'>3</a>\u001b[0m environment_name \u001b[39m=\u001b[39m \u001b[39m\"\u001b[39m\u001b[39mAzureML-ACPT-pytorch-1.13-py38-cuda11.7-gpu\u001b[39m\u001b[39m\"\u001b[39m\n\u001b[1;32m----> <a href='vscode-notebook-cell:/c%3A/Users/mmmfr/Documents/Repositories/minecraft-schematic-generator/azure.ipynb#W4sZmlsZQ%3D%3D?line=3'>4</a>\u001b[0m environment \u001b[39m=\u001b[39m ml_client\u001b[39m.\u001b[39;49menvironments\u001b[39m.\u001b[39;49mget(name\u001b[39m=\u001b[39;49menvironment_name, version\u001b[39m=\u001b[39;49m\u001b[39m\"\u001b[39;49m\u001b[39mlatest\u001b[39;49m\u001b[39m\"\u001b[39;49m)\n\u001b[0;32m      <a href='vscode-notebook-cell:/c%3A/Users/mmmfr/Documents/Repositories/minecraft-schematic-generator/azure.ipynb#W4sZmlsZQ%3D%3D?line=5'>6</a>\u001b[0m job \u001b[39m=\u001b[39m command(\n\u001b[0;32m      <a href='vscode-notebook-cell:/c%3A/Users/mmmfr/Documents/Repositories/minecraft-schematic-generator/azure.ipynb#W4sZmlsZQ%3D%3D?line=6'>7</a>\u001b[0m     code\u001b[39m=\u001b[39m\u001b[39m\"\u001b[39m\u001b[39m./train.py\u001b[39m\u001b[39m\"\u001b[39m,\n\u001b[0;32m      <a href='vscode-notebook-cell:/c%3A/Users/mmmfr/Documents/Repositories/minecraft-schematic-generator/azure.ipynb#W4sZmlsZQ%3D%3D?line=7'>8</a>\u001b[0m     command\u001b[39m=\u001b[39m\u001b[39m\"\u001b[39m\u001b[39mpython train.py\u001b[39m\u001b[39m\"\u001b[39m,\n\u001b[0;32m      <a href='vscode-notebook-cell:/c%3A/Users/mmmfr/Documents/Repositories/minecraft-schematic-generator/azure.ipynb#W4sZmlsZQ%3D%3D?line=8'>9</a>\u001b[0m     display_name\u001b[39m=\u001b[39m\u001b[39m\"\u001b[39m\u001b[39mcredit_default_prediction\u001b[39m\u001b[39m\"\u001b[39m,\n\u001b[0;32m     <a href='vscode-notebook-cell:/c%3A/Users/mmmfr/Documents/Repositories/minecraft-schematic-generator/azure.ipynb#W4sZmlsZQ%3D%3D?line=9'>10</a>\u001b[0m     environment\u001b[39m=\u001b[39menvironment\n\u001b[0;32m     <a href='vscode-notebook-cell:/c%3A/Users/mmmfr/Documents/Repositories/minecraft-schematic-generator/azure.ipynb#W4sZmlsZQ%3D%3D?line=10'>11</a>\u001b[0m )\n",
      "File \u001b[1;32mc:\\Users\\mmmfr\\Documents\\Repositories\\minecraft-schematic-generator\\.venv\\Lib\\site-packages\\azure\\ai\\ml\\_telemetry\\activity.py:275\u001b[0m, in \u001b[0;36mmonitor_with_activity.<locals>.monitor.<locals>.wrapper\u001b[1;34m(*args, **kwargs)\u001b[0m\n\u001b[0;32m    272\u001b[0m \u001b[39m@functools\u001b[39m\u001b[39m.\u001b[39mwraps(f)\n\u001b[0;32m    273\u001b[0m \u001b[39mdef\u001b[39;00m \u001b[39mwrapper\u001b[39m(\u001b[39m*\u001b[39margs, \u001b[39m*\u001b[39m\u001b[39m*\u001b[39mkwargs):\n\u001b[0;32m    274\u001b[0m     \u001b[39mwith\u001b[39;00m log_activity(logger, activity_name \u001b[39mor\u001b[39;00m f\u001b[39m.\u001b[39m\u001b[39m__name__\u001b[39m, activity_type, custom_dimensions):\n\u001b[1;32m--> 275\u001b[0m         \u001b[39mreturn\u001b[39;00m f(\u001b[39m*\u001b[39;49margs, \u001b[39m*\u001b[39;49m\u001b[39m*\u001b[39;49mkwargs)\n",
      "File \u001b[1;32mc:\\Users\\mmmfr\\Documents\\Repositories\\minecraft-schematic-generator\\.venv\\Lib\\site-packages\\azure\\ai\\ml\\operations\\_environment_operations.py:289\u001b[0m, in \u001b[0;36mEnvironmentOperations.get\u001b[1;34m(self, name, version, label)\u001b[0m\n\u001b[0;32m    281\u001b[0m     \u001b[39mraise\u001b[39;00m ValidationException(\n\u001b[0;32m    282\u001b[0m         message\u001b[39m=\u001b[39mmsg,\n\u001b[0;32m    283\u001b[0m         target\u001b[39m=\u001b[39mErrorTarget\u001b[39m.\u001b[39mENVIRONMENT,\n\u001b[1;32m   (...)\u001b[0m\n\u001b[0;32m    286\u001b[0m         error_type\u001b[39m=\u001b[39mValidationErrorType\u001b[39m.\u001b[39mMISSING_FIELD,\n\u001b[0;32m    287\u001b[0m     )\n\u001b[0;32m    288\u001b[0m name \u001b[39m=\u001b[39m _preprocess_environment_name(name)\n\u001b[1;32m--> 289\u001b[0m env_version_resource \u001b[39m=\u001b[39m \u001b[39mself\u001b[39;49m\u001b[39m.\u001b[39;49m_get(name, version)\n\u001b[0;32m    291\u001b[0m \u001b[39mreturn\u001b[39;00m Environment\u001b[39m.\u001b[39m_from_rest_object(env_version_resource)\n",
      "File \u001b[1;32mc:\\Users\\mmmfr\\Documents\\Repositories\\minecraft-schematic-generator\\.venv\\Lib\\site-packages\\azure\\ai\\ml\\operations\\_environment_operations.py:218\u001b[0m, in \u001b[0;36mEnvironmentOperations._get\u001b[1;34m(self, name, version)\u001b[0m\n\u001b[0;32m    207\u001b[0m \u001b[39mdef\u001b[39;00m \u001b[39m_get\u001b[39m(\u001b[39mself\u001b[39m, name: \u001b[39mstr\u001b[39m, version: Optional[\u001b[39mstr\u001b[39m] \u001b[39m=\u001b[39m \u001b[39mNone\u001b[39;00m) \u001b[39m-\u001b[39m\u001b[39m>\u001b[39m EnvironmentVersion:\n\u001b[0;32m    208\u001b[0m     \u001b[39mif\u001b[39;00m version:\n\u001b[0;32m    209\u001b[0m         \u001b[39mreturn\u001b[39;00m (\n\u001b[0;32m    210\u001b[0m             \u001b[39mself\u001b[39m\u001b[39m.\u001b[39m_version_operations\u001b[39m.\u001b[39mget(\n\u001b[0;32m    211\u001b[0m                 name\u001b[39m=\u001b[39mname,\n\u001b[0;32m    212\u001b[0m                 version\u001b[39m=\u001b[39mversion,\n\u001b[0;32m    213\u001b[0m                 registry_name\u001b[39m=\u001b[39m\u001b[39mself\u001b[39m\u001b[39m.\u001b[39m_registry_name,\n\u001b[0;32m    214\u001b[0m                 \u001b[39m*\u001b[39m\u001b[39m*\u001b[39m\u001b[39mself\u001b[39m\u001b[39m.\u001b[39m_scope_kwargs,\n\u001b[0;32m    215\u001b[0m                 \u001b[39m*\u001b[39m\u001b[39m*\u001b[39m\u001b[39mself\u001b[39m\u001b[39m.\u001b[39m_kwargs,\n\u001b[0;32m    216\u001b[0m             )\n\u001b[0;32m    217\u001b[0m             \u001b[39mif\u001b[39;00m \u001b[39mself\u001b[39m\u001b[39m.\u001b[39m_registry_name\n\u001b[1;32m--> 218\u001b[0m             \u001b[39melse\u001b[39;00m \u001b[39mself\u001b[39;49m\u001b[39m.\u001b[39;49m_version_operations\u001b[39m.\u001b[39;49mget(\n\u001b[0;32m    219\u001b[0m                 name\u001b[39m=\u001b[39;49mname,\n\u001b[0;32m    220\u001b[0m                 version\u001b[39m=\u001b[39;49mversion,\n\u001b[0;32m    221\u001b[0m                 workspace_name\u001b[39m=\u001b[39;49m\u001b[39mself\u001b[39;49m\u001b[39m.\u001b[39;49m_workspace_name,\n\u001b[0;32m    222\u001b[0m                 \u001b[39m*\u001b[39;49m\u001b[39m*\u001b[39;49m\u001b[39mself\u001b[39;49m\u001b[39m.\u001b[39;49m_scope_kwargs,\n\u001b[0;32m    223\u001b[0m                 \u001b[39m*\u001b[39;49m\u001b[39m*\u001b[39;49m\u001b[39mself\u001b[39;49m\u001b[39m.\u001b[39;49m_kwargs,\n\u001b[0;32m    224\u001b[0m             )\n\u001b[0;32m    225\u001b[0m         )\n\u001b[0;32m    226\u001b[0m     \u001b[39mreturn\u001b[39;00m (\n\u001b[0;32m    227\u001b[0m         \u001b[39mself\u001b[39m\u001b[39m.\u001b[39m_containers_operations\u001b[39m.\u001b[39mget(\n\u001b[0;32m    228\u001b[0m             name\u001b[39m=\u001b[39mname,\n\u001b[1;32m   (...)\u001b[0m\n\u001b[0;32m    239\u001b[0m         )\n\u001b[0;32m    240\u001b[0m     )\n",
      "File \u001b[1;32mc:\\Users\\mmmfr\\Documents\\Repositories\\minecraft-schematic-generator\\.venv\\Lib\\site-packages\\azure\\core\\tracing\\decorator.py:78\u001b[0m, in \u001b[0;36mdistributed_trace.<locals>.decorator.<locals>.wrapper_use_tracer\u001b[1;34m(*args, **kwargs)\u001b[0m\n\u001b[0;32m     76\u001b[0m span_impl_type \u001b[39m=\u001b[39m settings\u001b[39m.\u001b[39mtracing_implementation()\n\u001b[0;32m     77\u001b[0m \u001b[39mif\u001b[39;00m span_impl_type \u001b[39mis\u001b[39;00m \u001b[39mNone\u001b[39;00m:\n\u001b[1;32m---> 78\u001b[0m     \u001b[39mreturn\u001b[39;00m func(\u001b[39m*\u001b[39;49margs, \u001b[39m*\u001b[39;49m\u001b[39m*\u001b[39;49mkwargs)\n\u001b[0;32m     80\u001b[0m \u001b[39m# Merge span is parameter is set, but only if no explicit parent are passed\u001b[39;00m\n\u001b[0;32m     81\u001b[0m \u001b[39mif\u001b[39;00m merge_span \u001b[39mand\u001b[39;00m \u001b[39mnot\u001b[39;00m passed_in_parent:\n",
      "File \u001b[1;32mc:\\Users\\mmmfr\\Documents\\Repositories\\minecraft-schematic-generator\\.venv\\Lib\\site-packages\\azure\\ai\\ml\\_restclient\\v2023_04_01_preview\\operations\\_environment_versions_operations.py:467\u001b[0m, in \u001b[0;36mEnvironmentVersionsOperations.get\u001b[1;34m(self, resource_group_name, workspace_name, name, version, **kwargs)\u001b[0m\n\u001b[0;32m    464\u001b[0m response \u001b[39m=\u001b[39m pipeline_response\u001b[39m.\u001b[39mhttp_response\n\u001b[0;32m    466\u001b[0m \u001b[39mif\u001b[39;00m response\u001b[39m.\u001b[39mstatus_code \u001b[39mnot\u001b[39;00m \u001b[39min\u001b[39;00m [\u001b[39m200\u001b[39m]:\n\u001b[1;32m--> 467\u001b[0m     map_error(status_code\u001b[39m=\u001b[39;49mresponse\u001b[39m.\u001b[39;49mstatus_code, response\u001b[39m=\u001b[39;49mresponse, error_map\u001b[39m=\u001b[39;49merror_map)\n\u001b[0;32m    468\u001b[0m     error \u001b[39m=\u001b[39m \u001b[39mself\u001b[39m\u001b[39m.\u001b[39m_deserialize\u001b[39m.\u001b[39mfailsafe_deserialize(_models\u001b[39m.\u001b[39mErrorResponse, pipeline_response)\n\u001b[0;32m    469\u001b[0m     \u001b[39mraise\u001b[39;00m HttpResponseError(response\u001b[39m=\u001b[39mresponse, model\u001b[39m=\u001b[39merror, error_format\u001b[39m=\u001b[39mARMErrorFormat)\n",
      "File \u001b[1;32mc:\\Users\\mmmfr\\Documents\\Repositories\\minecraft-schematic-generator\\.venv\\Lib\\site-packages\\azure\\core\\exceptions.py:165\u001b[0m, in \u001b[0;36mmap_error\u001b[1;34m(status_code, response, error_map)\u001b[0m\n\u001b[0;32m    163\u001b[0m     \u001b[39mreturn\u001b[39;00m\n\u001b[0;32m    164\u001b[0m error \u001b[39m=\u001b[39m error_type(response\u001b[39m=\u001b[39mresponse)\n\u001b[1;32m--> 165\u001b[0m \u001b[39mraise\u001b[39;00m error\n",
      "\u001b[1;31mResourceNotFoundError\u001b[0m: (UserError) No environment exists for name: AzureML-ACPT-pytorch-1.13-py38-cuda11.7-gpu, version: latest, label: \nCode: UserError\nMessage: No environment exists for name: AzureML-ACPT-pytorch-1.13-py38-cuda11.7-gpu, version: latest, label: "
     ]
    }
   ],
   "source": [
    "from azure.ai.ml import command\n",
    "\n",
    "environment_name = \"AzureML-ACPT-pytorch-1.13-py38-cuda11.7-gpu\"\n",
    "environment = ml_client.environments.get(name=environment_name, version=\"24\")\n",
    "\n",
    "job = command(\n",
    "    code=\"./train.py\",\n",
    "    command=\"python train.py\",\n",
    "    display_name=\"credit_default_prediction\",\n",
    "    environment=environment\n",
    ")"
   ]
  },
  {
   "cell_type": "code",
   "execution_count": 19,
   "metadata": {},
   "outputs": [
    {
     "name": "stderr",
     "output_type": "stream",
     "text": [
      "\u001b[32mUploading minecraft-schematic-generator (1.85 MBs): 100%|##########| 1851678/1851678 [00:01<00:00, 1347890.01it/s]\n",
      "\u001b[39m\n",
      "\n"
     ]
    },
    {
     "ename": "HttpResponseError",
     "evalue": "(UserError) Invalid AssetId: azureml:AzureML-ACPT-pytorch-1.13-py38-cuda11.7-gpu\nCode: UserError\nMessage: Invalid AssetId: azureml:AzureML-ACPT-pytorch-1.13-py38-cuda11.7-gpu\nAdditional Information:Type: ComponentName\nInfo: {\n    \"value\": \"managementfrontend\"\n}Type: Correlation\nInfo: {\n    \"value\": {\n        \"operation\": \"eb3a46c7772377c647b55035c0239410\",\n        \"request\": \"fe942f3b4d3f8851\"\n    }\n}Type: Environment\nInfo: {\n    \"value\": \"eastus2\"\n}Type: Location\nInfo: {\n    \"value\": \"eastus2\"\n}Type: Time\nInfo: {\n    \"value\": \"2023-12-09T22:27:39.5039757+00:00\"\n}Type: InnerError\nInfo: {\n    \"value\": {\n        \"code\": \"BadArgument\",\n        \"innerError\": {\n            \"code\": \"ArgumentInvalid\",\n            \"innerError\": null\n        }\n    }\n}",
     "output_type": "error",
     "traceback": [
      "\u001b[1;31m---------------------------------------------------------------------------\u001b[0m",
      "\u001b[1;31mHttpResponseError\u001b[0m                         Traceback (most recent call last)",
      "\u001b[1;32mc:\\Users\\mmmfr\\Documents\\Repositories\\minecraft-schematic-generator\\azure.ipynb Cell 7\u001b[0m line \u001b[0;36m1\n\u001b[1;32m----> <a href='vscode-notebook-cell:/c%3A/Users/mmmfr/Documents/Repositories/minecraft-schematic-generator/azure.ipynb#W5sZmlsZQ%3D%3D?line=0'>1</a>\u001b[0m ml_client\u001b[39m.\u001b[39;49mcreate_or_update(job)\n",
      "File \u001b[1;32mc:\\Users\\mmmfr\\Documents\\Repositories\\minecraft-schematic-generator\\.venv\\Lib\\site-packages\\azure\\ai\\ml\\_ml_client.py:1063\u001b[0m, in \u001b[0;36mMLClient.create_or_update\u001b[1;34m(self, entity, **kwargs)\u001b[0m\n\u001b[0;32m   1047\u001b[0m \u001b[39mdef\u001b[39;00m \u001b[39mcreate_or_update\u001b[39m(\n\u001b[0;32m   1048\u001b[0m     \u001b[39mself\u001b[39m,\n\u001b[0;32m   1049\u001b[0m     entity: T,\n\u001b[0;32m   1050\u001b[0m     \u001b[39m*\u001b[39m\u001b[39m*\u001b[39mkwargs,\n\u001b[0;32m   1051\u001b[0m ) \u001b[39m-\u001b[39m\u001b[39m>\u001b[39m T:\n\u001b[0;32m   1052\u001b[0m \u001b[39m    \u001b[39m\u001b[39m\"\"\"Creates or updates an Azure ML resource.\u001b[39;00m\n\u001b[0;32m   1053\u001b[0m \n\u001b[0;32m   1054\u001b[0m \u001b[39m    :param entity: The resource to create or update.\u001b[39;00m\n\u001b[1;32m   (...)\u001b[0m\n\u001b[0;32m   1060\u001b[0m \u001b[39m        , ~azure.ai.ml.entities.Environment, ~azure.ai.ml.entities.Component, ~azure.ai.ml.entities.Datastore]\u001b[39;00m\n\u001b[0;32m   1061\u001b[0m \u001b[39m    \"\"\"\u001b[39;00m\n\u001b[1;32m-> 1063\u001b[0m     \u001b[39mreturn\u001b[39;00m _create_or_update(entity, \u001b[39mself\u001b[39;49m\u001b[39m.\u001b[39;49m_operation_container\u001b[39m.\u001b[39;49mall_operations, \u001b[39m*\u001b[39;49m\u001b[39m*\u001b[39;49mkwargs)\n",
      "File \u001b[1;32m~\\AppData\\Local\\Programs\\Python\\Python311\\Lib\\functools.py:909\u001b[0m, in \u001b[0;36msingledispatch.<locals>.wrapper\u001b[1;34m(*args, **kw)\u001b[0m\n\u001b[0;32m    905\u001b[0m \u001b[39mif\u001b[39;00m \u001b[39mnot\u001b[39;00m args:\n\u001b[0;32m    906\u001b[0m     \u001b[39mraise\u001b[39;00m \u001b[39mTypeError\u001b[39;00m(\u001b[39mf\u001b[39m\u001b[39m'\u001b[39m\u001b[39m{\u001b[39;00mfuncname\u001b[39m}\u001b[39;00m\u001b[39m requires at least \u001b[39m\u001b[39m'\u001b[39m\n\u001b[0;32m    907\u001b[0m                     \u001b[39m'\u001b[39m\u001b[39m1 positional argument\u001b[39m\u001b[39m'\u001b[39m)\n\u001b[1;32m--> 909\u001b[0m \u001b[39mreturn\u001b[39;00m dispatch(args[\u001b[39m0\u001b[39;49m]\u001b[39m.\u001b[39;49m\u001b[39m__class__\u001b[39;49m)(\u001b[39m*\u001b[39;49margs, \u001b[39m*\u001b[39;49m\u001b[39m*\u001b[39;49mkw)\n",
      "File \u001b[1;32mc:\\Users\\mmmfr\\Documents\\Repositories\\minecraft-schematic-generator\\.venv\\Lib\\site-packages\\azure\\ai\\ml\\_ml_client.py:1122\u001b[0m, in \u001b[0;36m_\u001b[1;34m(entity, operations, **kwargs)\u001b[0m\n\u001b[0;32m   1119\u001b[0m \u001b[39m@_create_or_update\u001b[39m\u001b[39m.\u001b[39mregister(Job)\n\u001b[0;32m   1120\u001b[0m \u001b[39mdef\u001b[39;00m \u001b[39m_\u001b[39m(entity: Job, operations, \u001b[39m*\u001b[39m\u001b[39m*\u001b[39mkwargs):\n\u001b[0;32m   1121\u001b[0m     module_logger\u001b[39m.\u001b[39mdebug(\u001b[39m\"\u001b[39m\u001b[39mCreating or updating job\u001b[39m\u001b[39m\"\u001b[39m)\n\u001b[1;32m-> 1122\u001b[0m     \u001b[39mreturn\u001b[39;00m operations[AzureMLResourceType\u001b[39m.\u001b[39;49mJOB]\u001b[39m.\u001b[39;49mcreate_or_update(entity, \u001b[39m*\u001b[39;49m\u001b[39m*\u001b[39;49mkwargs)\n",
      "File \u001b[1;32mc:\\Users\\mmmfr\\Documents\\Repositories\\minecraft-schematic-generator\\.venv\\Lib\\site-packages\\azure\\core\\tracing\\decorator.py:78\u001b[0m, in \u001b[0;36mdistributed_trace.<locals>.decorator.<locals>.wrapper_use_tracer\u001b[1;34m(*args, **kwargs)\u001b[0m\n\u001b[0;32m     76\u001b[0m span_impl_type \u001b[39m=\u001b[39m settings\u001b[39m.\u001b[39mtracing_implementation()\n\u001b[0;32m     77\u001b[0m \u001b[39mif\u001b[39;00m span_impl_type \u001b[39mis\u001b[39;00m \u001b[39mNone\u001b[39;00m:\n\u001b[1;32m---> 78\u001b[0m     \u001b[39mreturn\u001b[39;00m func(\u001b[39m*\u001b[39;49margs, \u001b[39m*\u001b[39;49m\u001b[39m*\u001b[39;49mkwargs)\n\u001b[0;32m     80\u001b[0m \u001b[39m# Merge span is parameter is set, but only if no explicit parent are passed\u001b[39;00m\n\u001b[0;32m     81\u001b[0m \u001b[39mif\u001b[39;00m merge_span \u001b[39mand\u001b[39;00m \u001b[39mnot\u001b[39;00m passed_in_parent:\n",
      "File \u001b[1;32mc:\\Users\\mmmfr\\Documents\\Repositories\\minecraft-schematic-generator\\.venv\\Lib\\site-packages\\azure\\ai\\ml\\_telemetry\\activity.py:350\u001b[0m, in \u001b[0;36mmonitor_with_telemetry_mixin.<locals>.monitor.<locals>.wrapper\u001b[1;34m(*args, **kwargs)\u001b[0m\n\u001b[0;32m    348\u001b[0m dimensions \u001b[39m=\u001b[39m {\u001b[39m*\u001b[39m\u001b[39m*\u001b[39mparameter_dimensions, \u001b[39m*\u001b[39m\u001b[39m*\u001b[39m(custom_dimensions \u001b[39mor\u001b[39;00m {})}\n\u001b[0;32m    349\u001b[0m \u001b[39mwith\u001b[39;00m log_activity(logger, activity_name \u001b[39mor\u001b[39;00m f\u001b[39m.\u001b[39m\u001b[39m__name__\u001b[39m, activity_type, dimensions) \u001b[39mas\u001b[39;00m activityLogger:\n\u001b[1;32m--> 350\u001b[0m     return_value \u001b[39m=\u001b[39m f(\u001b[39m*\u001b[39;49margs, \u001b[39m*\u001b[39;49m\u001b[39m*\u001b[39;49mkwargs)\n\u001b[0;32m    351\u001b[0m     \u001b[39mif\u001b[39;00m \u001b[39mnot\u001b[39;00m parameter_dimensions:\n\u001b[0;32m    352\u001b[0m         \u001b[39m# collect from return if no dimensions from parameter\u001b[39;00m\n\u001b[0;32m    353\u001b[0m         activityLogger\u001b[39m.\u001b[39mactivity_info\u001b[39m.\u001b[39mupdate(_collect_from_return_value(return_value))\n",
      "File \u001b[1;32mc:\\Users\\mmmfr\\Documents\\Repositories\\minecraft-schematic-generator\\.venv\\Lib\\site-packages\\azure\\ai\\ml\\operations\\_job_operations.py:667\u001b[0m, in \u001b[0;36mJobOperations.create_or_update\u001b[1;34m(self, job, description, compute, tags, experiment_name, skip_validation, **kwargs)\u001b[0m\n\u001b[0;32m    661\u001b[0m \u001b[39mif\u001b[39;00m (rest_job_resource\u001b[39m.\u001b[39mproperties\u001b[39m.\u001b[39mjob_type \u001b[39m==\u001b[39m RestJobType\u001b[39m.\u001b[39mPIPELINE) \u001b[39mor\u001b[39;00m (\n\u001b[0;32m    662\u001b[0m     \u001b[39mhasattr\u001b[39m(rest_job_resource\u001b[39m.\u001b[39mproperties, \u001b[39m\"\u001b[39m\u001b[39midentity\u001b[39m\u001b[39m\"\u001b[39m)\n\u001b[0;32m    663\u001b[0m     \u001b[39mand\u001b[39;00m (\u001b[39misinstance\u001b[39m(rest_job_resource\u001b[39m.\u001b[39mproperties\u001b[39m.\u001b[39midentity, UserIdentity))\n\u001b[0;32m    664\u001b[0m ):\n\u001b[0;32m    665\u001b[0m     \u001b[39mself\u001b[39m\u001b[39m.\u001b[39m_set_headers_with_user_aml_token(kwargs)\n\u001b[1;32m--> 667\u001b[0m result \u001b[39m=\u001b[39m \u001b[39mself\u001b[39;49m\u001b[39m.\u001b[39;49m_operation_2023_02_preview\u001b[39m.\u001b[39;49mcreate_or_update(\n\u001b[0;32m    668\u001b[0m     \u001b[39mid\u001b[39;49m\u001b[39m=\u001b[39;49mrest_job_resource\u001b[39m.\u001b[39;49mname,  \u001b[39m# type: ignore\u001b[39;49;00m\n\u001b[0;32m    669\u001b[0m     resource_group_name\u001b[39m=\u001b[39;49m\u001b[39mself\u001b[39;49m\u001b[39m.\u001b[39;49m_operation_scope\u001b[39m.\u001b[39;49mresource_group_name,\n\u001b[0;32m    670\u001b[0m     workspace_name\u001b[39m=\u001b[39;49m\u001b[39mself\u001b[39;49m\u001b[39m.\u001b[39;49m_workspace_name,\n\u001b[0;32m    671\u001b[0m     body\u001b[39m=\u001b[39;49mrest_job_resource,\n\u001b[0;32m    672\u001b[0m     \u001b[39m*\u001b[39;49m\u001b[39m*\u001b[39;49mkwargs,\n\u001b[0;32m    673\u001b[0m )\n\u001b[0;32m    675\u001b[0m \u001b[39mif\u001b[39;00m is_local_run(result):\n\u001b[0;32m    676\u001b[0m     ws_base_url \u001b[39m=\u001b[39m \u001b[39mself\u001b[39m\u001b[39m.\u001b[39m_all_operations\u001b[39m.\u001b[39mall_operations[\n\u001b[0;32m    677\u001b[0m         AzureMLResourceType\u001b[39m.\u001b[39mWORKSPACE\n\u001b[0;32m    678\u001b[0m     ]\u001b[39m.\u001b[39m_operation\u001b[39m.\u001b[39m_client\u001b[39m.\u001b[39m_base_url\n",
      "File \u001b[1;32mc:\\Users\\mmmfr\\Documents\\Repositories\\minecraft-schematic-generator\\.venv\\Lib\\site-packages\\azure\\core\\tracing\\decorator.py:78\u001b[0m, in \u001b[0;36mdistributed_trace.<locals>.decorator.<locals>.wrapper_use_tracer\u001b[1;34m(*args, **kwargs)\u001b[0m\n\u001b[0;32m     76\u001b[0m span_impl_type \u001b[39m=\u001b[39m settings\u001b[39m.\u001b[39mtracing_implementation()\n\u001b[0;32m     77\u001b[0m \u001b[39mif\u001b[39;00m span_impl_type \u001b[39mis\u001b[39;00m \u001b[39mNone\u001b[39;00m:\n\u001b[1;32m---> 78\u001b[0m     \u001b[39mreturn\u001b[39;00m func(\u001b[39m*\u001b[39;49margs, \u001b[39m*\u001b[39;49m\u001b[39m*\u001b[39;49mkwargs)\n\u001b[0;32m     80\u001b[0m \u001b[39m# Merge span is parameter is set, but only if no explicit parent are passed\u001b[39;00m\n\u001b[0;32m     81\u001b[0m \u001b[39mif\u001b[39;00m merge_span \u001b[39mand\u001b[39;00m \u001b[39mnot\u001b[39;00m passed_in_parent:\n",
      "File \u001b[1;32mc:\\Users\\mmmfr\\Documents\\Repositories\\minecraft-schematic-generator\\.venv\\Lib\\site-packages\\azure\\ai\\ml\\_restclient\\v2023_04_01_preview\\operations\\_jobs_operations.py:760\u001b[0m, in \u001b[0;36mJobsOperations.create_or_update\u001b[1;34m(self, resource_group_name, workspace_name, id, body, **kwargs)\u001b[0m\n\u001b[0;32m    758\u001b[0m     map_error(status_code\u001b[39m=\u001b[39mresponse\u001b[39m.\u001b[39mstatus_code, response\u001b[39m=\u001b[39mresponse, error_map\u001b[39m=\u001b[39merror_map)\n\u001b[0;32m    759\u001b[0m     error \u001b[39m=\u001b[39m \u001b[39mself\u001b[39m\u001b[39m.\u001b[39m_deserialize\u001b[39m.\u001b[39mfailsafe_deserialize(_models\u001b[39m.\u001b[39mErrorResponse, pipeline_response)\n\u001b[1;32m--> 760\u001b[0m     \u001b[39mraise\u001b[39;00m HttpResponseError(response\u001b[39m=\u001b[39mresponse, model\u001b[39m=\u001b[39merror, error_format\u001b[39m=\u001b[39mARMErrorFormat)\n\u001b[0;32m    762\u001b[0m \u001b[39mif\u001b[39;00m response\u001b[39m.\u001b[39mstatus_code \u001b[39m==\u001b[39m \u001b[39m200\u001b[39m:\n\u001b[0;32m    763\u001b[0m     deserialized \u001b[39m=\u001b[39m \u001b[39mself\u001b[39m\u001b[39m.\u001b[39m_deserialize(\u001b[39m'\u001b[39m\u001b[39mJobBase\u001b[39m\u001b[39m'\u001b[39m, pipeline_response)\n",
      "\u001b[1;31mHttpResponseError\u001b[0m: (UserError) Invalid AssetId: azureml:AzureML-ACPT-pytorch-1.13-py38-cuda11.7-gpu\nCode: UserError\nMessage: Invalid AssetId: azureml:AzureML-ACPT-pytorch-1.13-py38-cuda11.7-gpu\nAdditional Information:Type: ComponentName\nInfo: {\n    \"value\": \"managementfrontend\"\n}Type: Correlation\nInfo: {\n    \"value\": {\n        \"operation\": \"eb3a46c7772377c647b55035c0239410\",\n        \"request\": \"fe942f3b4d3f8851\"\n    }\n}Type: Environment\nInfo: {\n    \"value\": \"eastus2\"\n}Type: Location\nInfo: {\n    \"value\": \"eastus2\"\n}Type: Time\nInfo: {\n    \"value\": \"2023-12-09T22:27:39.5039757+00:00\"\n}Type: InnerError\nInfo: {\n    \"value\": {\n        \"code\": \"BadArgument\",\n        \"innerError\": {\n            \"code\": \"ArgumentInvalid\",\n            \"innerError\": null\n        }\n    }\n}"
     ]
    }
   ],
   "source": [
    "ml_client.create_or_update(job)"
   ]
  }
 ],
 "metadata": {
  "kernelspec": {
   "display_name": ".venv",
   "language": "python",
   "name": "python3"
  },
  "language_info": {
   "codemirror_mode": {
    "name": "ipython",
    "version": 3
   },
   "file_extension": ".py",
   "mimetype": "text/x-python",
   "name": "python",
   "nbconvert_exporter": "python",
   "pygments_lexer": "ipython3",
   "version": "3.11.4"
  }
 },
 "nbformat": 4,
 "nbformat_minor": 2
}
