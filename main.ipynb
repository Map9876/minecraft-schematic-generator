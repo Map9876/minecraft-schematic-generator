{
 "cells": [
  {
   "cell_type": "code",
   "execution_count": null,
   "metadata": {},
   "outputs": [],
   "source": [
    "%load_ext autoreload\n",
    "%autoreload 2"
   ]
  },
  {
   "cell_type": "markdown",
   "metadata": {},
   "source": [
    "Generate data"
   ]
  },
  {
   "cell_type": "code",
   "execution_count": null,
   "metadata": {},
   "outputs": [],
   "source": [
    "import random\n",
    "\n",
    "from common import constants\n",
    "from schematic_generator import generator\n",
    "\n",
    "configs = [\n",
    "    # Simple shapes\n",
    "    {\n",
    "        \"generator_type\": [\"shape\"],\n",
    "        \"shape_type\": [\"sphere\"],\n",
    "        \"radius\": [lambda: random.randint(1, (constants.region_size[0] // 2) - 1)] * 5,\n",
    "        \"structure_block_types\": [[block] for block in constants.simple_block_types] + [lambda: random.sample(constants.simple_block_types, 3)] * len(constants.simple_block_types),\n",
    "        \"background_block_types\": [[\"minecraft:air\"]],\n",
    "        \"position_offset\": [lambda: (random.randint(-100, 100), random.randint(-100, 100), random.randint(-100, 100))],\n",
    "        \"random_seed\": [lambda: random.randint(0, 2**32 - 1)],\n",
    "        \"region_size\": [constants.region_size]\n",
    "    },\n",
    "    {\n",
    "        \"generator_type\": [\"shape\"],\n",
    "        \"shape_type\": [\"cube\"],\n",
    "        \"side_length\": [lambda: random.randint(1, constants.region_size[0] - 1)] * 5,\n",
    "        \"structure_block_types\": [[block] for block in constants.simple_block_types] + [lambda: random.sample(constants.simple_block_types, 3)] * len(constants.simple_block_types),\n",
    "        \"background_block_types\": [[\"minecraft:air\"]],\n",
    "        \"position_offset\": [lambda: (random.randint(-100, 100), random.randint(-100, 100), random.randint(-100, 100))],\n",
    "        \"random_seed\": [lambda: random.randint(0, 2**32 - 1)],\n",
    "        \"region_size\": [constants.region_size]\n",
    "    },\n",
    "    # Filled\n",
    "    {\n",
    "        \"generator_type\": [\"shape\"],\n",
    "        \"shape_type\": [\"sphere\"],\n",
    "        \"radius\": [lambda: random.randint(3, (constants.region_size[0] // 2) - 1)] * 3,\n",
    "        \"structure_block_types\": [[block] for block in constants.simple_block_types] + [lambda: random.sample(constants.simple_block_types, 3)] * (len(constants.simple_block_types) // 3),\n",
    "        \"structure_fill_block_types\": [[\"minecraft:air\"], lambda: random.sample(constants.simple_block_types, 1), lambda: random.sample(constants.simple_block_types, 3)],\n",
    "        \"thickness\": [lambda: random.randint(1, 3)],\n",
    "        \"background_block_types\": [[\"minecraft:air\"]],\n",
    "        \"position_offset\": [lambda: (random.randint(-100, 100), random.randint(-100, 100), random.randint(-100, 100))],\n",
    "        \"random_seed\": [lambda: random.randint(0, 2**32 - 1)],\n",
    "        \"region_size\": [constants.region_size]\n",
    "    },\n",
    "    {\n",
    "        \"generator_type\": [\"shape\"],\n",
    "        \"shape_type\": [\"cube\"],\n",
    "        \"side_length\": [lambda: random.randint(7, constants.region_size[0] - 1)] * 3,\n",
    "        \"structure_block_types\": [[block] for block in constants.simple_block_types] + [lambda: random.sample(constants.simple_block_types, 3)] * (len(constants.simple_block_types) // 3),\n",
    "        \"structure_fill_block_types\": [[\"minecraft:air\"], lambda: random.sample(constants.simple_block_types, 1), lambda: random.sample(constants.simple_block_types, 3)],\n",
    "        \"thickness\": [lambda: random.randint(1, 3)],\n",
    "        \"background_block_types\": [[\"minecraft:air\"]],\n",
    "        \"position_offset\": [lambda: (random.randint(-100, 100), random.randint(-100, 100), random.randint(-100, 100))],\n",
    "        \"random_seed\": [lambda: random.randint(0, 2**32 - 1)],\n",
    "        \"region_size\": [constants.region_size]\n",
    "    }\n",
    "]\n",
    "\n",
    "generator.generate_samples_from_configurations(configs, dry_run=False)"
   ]
  },
  {
   "cell_type": "markdown",
   "metadata": {},
   "source": [
    "Prepare data"
   ]
  },
  {
   "cell_type": "code",
   "execution_count": null,
   "metadata": {},
   "outputs": [],
   "source": [
    "from model.data_preparer import prepare_data\n",
    "\n",
    "prepare_data()"
   ]
  },
  {
   "cell_type": "code",
   "execution_count": null,
   "metadata": {},
   "outputs": [],
   "source": [
    "import os\n",
    "\n",
    "import h5py\n",
    "\n",
    "from common.file_paths import TRAINING_DATA_DIR\n",
    "\n",
    "with h5py.File(os.path.join(TRAINING_DATA_DIR, 'data.h5'), 'r') as hf:\n",
    "    # Iterate over all groups in the root of the file\n",
    "    for group_name in hf:\n",
    "        group = hf[group_name]\n",
    "        \n",
    "        # Check if both \"input_embedding\" and \"target_tensor\" datasets exist in the current group\n",
    "        if \"input_embedding\" in group and \"target_tensor\" in group:\n",
    "            input_dataset = group[\"input_embedding\"]\n",
    "            target_dataset = group[\"target_tensor\"]\n",
    "            \n",
    "            # Optionally, print their shapes to verify\n",
    "            print(f\"Group '{group_name}':\")\n",
    "            print(f\"  Input Embedding Shape: {input_dataset.shape}\")\n",
    "            print(f\"  Target Tensor Shape: {target_dataset.shape}\")\n",
    "        else:\n",
    "            # If either dataset is missing, print a warning\n",
    "            print(f\"Warning: Group '{group_name}' is missing one or both of the required datasets.\")\n",
    "    \n",
    "    # Optionally, print the total number of groups in the file\n",
    "    print(f\"Total Groups: {len(hf)}\")"
   ]
  },
  {
   "cell_type": "markdown",
   "metadata": {},
   "source": [
    "Train"
   ]
  },
  {
   "cell_type": "code",
   "execution_count": 1,
   "metadata": {},
   "outputs": [
    {
     "name": "stdout",
     "output_type": "stream",
     "text": [
      "MinecraftStructureGenerator(\n",
      "  (fc1): Linear(in_features=1536, out_features=65536, bias=True)\n",
      "  (bn1): BatchNorm1d(65536, eps=1e-05, momentum=0.1, affine=True, track_running_stats=True)\n",
      "  (conv1): Conv3d(128, 64, kernel_size=(3, 3, 3), stride=(1, 1, 1), padding=(1, 1, 1))\n",
      "  (bn2): BatchNorm3d(64, eps=1e-05, momentum=0.1, affine=True, track_running_stats=True)\n",
      "  (conv2): Conv3d(64, 32, kernel_size=(5, 5, 5), stride=(1, 1, 1), padding=(3, 3, 3))\n",
      "  (bn3): BatchNorm3d(32, eps=1e-05, momentum=0.1, affine=True, track_running_stats=True)\n",
      "  (conv3): Conv3d(32, 345, kernel_size=(7, 7, 7), stride=(1, 1, 1), padding=(5, 5, 5))\n",
      ")\n",
      "Number of parameters: 105124441\n",
      "No checkpoints found. Starting training from scratch.\n",
      "Inputs Shape: torch.Size([10, 1536])\n",
      "Targets Shape: torch.Size([10, 64, 64, 64])\n",
      "Name: ('72ccf061e5200bb34100ca424e78a005a0f2a318acdf9c8b6c608eac680686f4', 'f30f5603fe2f9ba393ddf4974f8ae2c0831402f0158b4502d452c953bc2ad3e5', 'a4fc69d7ef4898a6e123e5b0426537af30ae336441b0dc036505e94b04bba4f5', 'e34cc2ac25c5364b6ec662538ea62da329591f192a3c8e85d7c0d5f0de33a837', '9c4a8d5be417a9b9f5348373d64b2ad6baf59d3476a16ffc76a4b6e84de0838d', '1c1eca1bbda7452d4138c85a5411c7a5036ff5170fdf577f89ed822980849909', '24eea91bbe3f40f2634bdc199b9b75dade68960e09aa386bcc0df5eeb2ce6ed4', '87f8209a27d43102f5ae80b04d2acf72dd7b64c97d70e129c6c08e851f16b49f', '94932577c034a8980cf5bbc39191a63ec49fd324da44d2f34e4c9ef5cb35d7ea', '87882d7968b6b2bc9fa1d69f168c26055e9b23d5f0735c90c50007cad9386e81')\n"
     ]
    },
    {
     "name": "stderr",
     "output_type": "stream",
     "text": [
      "Training Epoch 1/5000: 100%|██████████| 10/10 [00:03<00:00,  2.88it/s, loss=1.46]\n",
      "Validation Epoch 1/5000: 100%|██████████| 10/10 [00:01<00:00,  8.00it/s, loss=2.56]\n"
     ]
    },
    {
     "name": "stdout",
     "output_type": "stream",
     "text": [
      "Epoch 1/5000, Training Loss: 2.9716, Validation Loss: 2.6701\n"
     ]
    },
    {
     "name": "stderr",
     "output_type": "stream",
     "text": [
      "Training Epoch 2/5000: 100%|██████████| 10/10 [00:02<00:00,  3.58it/s, loss=1.63]\n",
      "Validation Epoch 2/5000: 100%|██████████| 10/10 [00:01<00:00,  9.98it/s, loss=2.81]\n"
     ]
    },
    {
     "name": "stdout",
     "output_type": "stream",
     "text": [
      "Epoch 2/5000, Training Loss: 1.2910, Validation Loss: 3.0719\n"
     ]
    },
    {
     "name": "stderr",
     "output_type": "stream",
     "text": [
      "Training Epoch 3/5000: 100%|██████████| 10/10 [00:02<00:00,  3.65it/s, loss=2.21]\n",
      "Validation Epoch 3/5000: 100%|██████████| 10/10 [00:01<00:00,  9.62it/s, loss=3.11]\n"
     ]
    },
    {
     "name": "stdout",
     "output_type": "stream",
     "text": [
      "Epoch 3/5000, Training Loss: 1.1455, Validation Loss: 3.5490\n"
     ]
    },
    {
     "name": "stderr",
     "output_type": "stream",
     "text": [
      "Training Epoch 4/5000: 100%|██████████| 10/10 [00:02<00:00,  3.66it/s, loss=0.647]\n",
      "Validation Epoch 4/5000: 100%|██████████| 10/10 [00:01<00:00,  9.88it/s, loss=3.27]\n"
     ]
    },
    {
     "name": "stdout",
     "output_type": "stream",
     "text": [
      "Epoch 4/5000, Training Loss: 1.0479, Validation Loss: 3.8092\n"
     ]
    },
    {
     "name": "stderr",
     "output_type": "stream",
     "text": [
      "Training Epoch 5/5000: 100%|██████████| 10/10 [00:02<00:00,  3.59it/s, loss=0.984]\n",
      "Validation Epoch 5/5000: 100%|██████████| 10/10 [00:01<00:00,  9.80it/s, loss=3.75]\n"
     ]
    },
    {
     "name": "stdout",
     "output_type": "stream",
     "text": [
      "Epoch 5/5000, Training Loss: 0.9741, Validation Loss: 4.3110\n"
     ]
    },
    {
     "name": "stderr",
     "output_type": "stream",
     "text": [
      "Training Epoch 6/5000: 100%|██████████| 10/10 [00:02<00:00,  3.50it/s, loss=1.1] \n",
      "Validation Epoch 6/5000: 100%|██████████| 10/10 [00:01<00:00,  9.56it/s, loss=3.4]\n"
     ]
    },
    {
     "name": "stdout",
     "output_type": "stream",
     "text": [
      "Epoch 6/5000, Training Loss: 0.8966, Validation Loss: 4.0911\n"
     ]
    },
    {
     "name": "stderr",
     "output_type": "stream",
     "text": [
      "Training Epoch 7/5000: 100%|██████████| 10/10 [00:02<00:00,  3.51it/s, loss=0.672]\n",
      "Validation Epoch 7/5000: 100%|██████████| 10/10 [00:01<00:00,  9.80it/s, loss=3.64]\n"
     ]
    },
    {
     "name": "stdout",
     "output_type": "stream",
     "text": [
      "Epoch 7/5000, Training Loss: 0.8360, Validation Loss: 4.3249\n"
     ]
    },
    {
     "name": "stderr",
     "output_type": "stream",
     "text": [
      "Training Epoch 8/5000: 100%|██████████| 10/10 [00:02<00:00,  3.58it/s, loss=0.617]\n",
      "Validation Epoch 8/5000: 100%|██████████| 10/10 [00:01<00:00,  9.31it/s, loss=3.33]\n"
     ]
    },
    {
     "name": "stdout",
     "output_type": "stream",
     "text": [
      "Epoch 8/5000, Training Loss: 0.7891, Validation Loss: 3.8551\n"
     ]
    },
    {
     "name": "stderr",
     "output_type": "stream",
     "text": [
      "Training Epoch 9/5000: 100%|██████████| 10/10 [00:02<00:00,  3.58it/s, loss=0.78]\n",
      "Validation Epoch 9/5000: 100%|██████████| 10/10 [00:01<00:00,  9.71it/s, loss=3.74]\n"
     ]
    },
    {
     "name": "stdout",
     "output_type": "stream",
     "text": [
      "Epoch 9/5000, Training Loss: 0.7654, Validation Loss: 4.3297\n"
     ]
    },
    {
     "name": "stderr",
     "output_type": "stream",
     "text": [
      "Training Epoch 10/5000: 100%|██████████| 10/10 [00:02<00:00,  3.63it/s, loss=1.13]\n",
      "Validation Epoch 10/5000: 100%|██████████| 10/10 [00:01<00:00,  9.81it/s, loss=3.3]\n"
     ]
    },
    {
     "name": "stdout",
     "output_type": "stream",
     "text": [
      "Epoch 10/5000, Training Loss: 0.7379, Validation Loss: 3.5850\n"
     ]
    },
    {
     "name": "stderr",
     "output_type": "stream",
     "text": [
      "Training Epoch 11/5000: 100%|██████████| 10/10 [00:02<00:00,  3.56it/s, loss=0.433]\n",
      "Validation Epoch 11/5000: 100%|██████████| 10/10 [00:01<00:00,  9.86it/s, loss=3.22]\n"
     ]
    },
    {
     "name": "stdout",
     "output_type": "stream",
     "text": [
      "Epoch 11/5000, Training Loss: 0.7417, Validation Loss: 3.3053\n"
     ]
    },
    {
     "name": "stderr",
     "output_type": "stream",
     "text": [
      "Training Epoch 12/5000: 100%|██████████| 10/10 [00:02<00:00,  3.59it/s, loss=0.377]\n",
      "Validation Epoch 12/5000: 100%|██████████| 10/10 [00:01<00:00,  9.71it/s, loss=3.26]\n"
     ]
    },
    {
     "name": "stdout",
     "output_type": "stream",
     "text": [
      "Epoch 12/5000, Training Loss: 0.6931, Validation Loss: 3.5370\n"
     ]
    },
    {
     "name": "stderr",
     "output_type": "stream",
     "text": [
      "Training Epoch 13/5000: 100%|██████████| 10/10 [00:02<00:00,  3.51it/s, loss=0.663]\n",
      "Validation Epoch 13/5000: 100%|██████████| 10/10 [00:01<00:00,  9.53it/s, loss=3.3]\n"
     ]
    },
    {
     "name": "stdout",
     "output_type": "stream",
     "text": [
      "Epoch 13/5000, Training Loss: 0.6692, Validation Loss: 3.4366\n"
     ]
    },
    {
     "name": "stderr",
     "output_type": "stream",
     "text": [
      "Training Epoch 14/5000: 100%|██████████| 10/10 [00:02<00:00,  3.59it/s, loss=0.549]\n",
      "Validation Epoch 14/5000: 100%|██████████| 10/10 [00:01<00:00,  9.69it/s, loss=3.49]\n"
     ]
    },
    {
     "name": "stdout",
     "output_type": "stream",
     "text": [
      "Epoch 14/5000, Training Loss: 0.6258, Validation Loss: 3.8715\n"
     ]
    },
    {
     "name": "stderr",
     "output_type": "stream",
     "text": [
      "Training Epoch 15/5000: 100%|██████████| 10/10 [00:02<00:00,  3.44it/s, loss=0.636]\n",
      "Validation Epoch 15/5000: 100%|██████████| 10/10 [00:01<00:00,  9.59it/s, loss=3.55]\n"
     ]
    },
    {
     "name": "stdout",
     "output_type": "stream",
     "text": [
      "Epoch 15/5000, Training Loss: 0.6883, Validation Loss: 3.6693\n"
     ]
    },
    {
     "name": "stderr",
     "output_type": "stream",
     "text": [
      "Training Epoch 16/5000: 100%|██████████| 10/10 [00:02<00:00,  3.63it/s, loss=0.588]\n",
      "Validation Epoch 16/5000: 100%|██████████| 10/10 [00:01<00:00,  9.66it/s, loss=3.68]\n"
     ]
    },
    {
     "name": "stdout",
     "output_type": "stream",
     "text": [
      "Epoch 16/5000, Training Loss: 0.6047, Validation Loss: 3.8847\n"
     ]
    },
    {
     "name": "stderr",
     "output_type": "stream",
     "text": [
      "Training Epoch 17/5000: 100%|██████████| 10/10 [00:02<00:00,  3.55it/s, loss=0.544]\n",
      "Validation Epoch 17/5000: 100%|██████████| 10/10 [00:01<00:00,  9.90it/s, loss=3.38]\n"
     ]
    },
    {
     "name": "stdout",
     "output_type": "stream",
     "text": [
      "Epoch 17/5000, Training Loss: 0.6268, Validation Loss: 3.5772\n"
     ]
    },
    {
     "name": "stderr",
     "output_type": "stream",
     "text": [
      "Training Epoch 18/5000: 100%|██████████| 10/10 [00:02<00:00,  3.51it/s, loss=0.299]\n",
      "Validation Epoch 18/5000: 100%|██████████| 10/10 [00:01<00:00,  9.71it/s, loss=3.69]\n"
     ]
    },
    {
     "name": "stdout",
     "output_type": "stream",
     "text": [
      "Epoch 18/5000, Training Loss: 0.5819, Validation Loss: 3.8064\n"
     ]
    },
    {
     "name": "stderr",
     "output_type": "stream",
     "text": [
      "Training Epoch 19/5000: 100%|██████████| 10/10 [00:02<00:00,  3.50it/s, loss=0.791]\n",
      "Validation Epoch 19/5000: 100%|██████████| 10/10 [00:01<00:00,  9.76it/s, loss=3.47]\n"
     ]
    },
    {
     "name": "stdout",
     "output_type": "stream",
     "text": [
      "Epoch 19/5000, Training Loss: 0.5089, Validation Loss: 3.9202\n"
     ]
    },
    {
     "name": "stderr",
     "output_type": "stream",
     "text": [
      "Training Epoch 20/5000: 100%|██████████| 10/10 [00:02<00:00,  3.53it/s, loss=0.399]\n",
      "Validation Epoch 20/5000: 100%|██████████| 10/10 [00:01<00:00,  9.72it/s, loss=4.43]\n"
     ]
    },
    {
     "name": "stdout",
     "output_type": "stream",
     "text": [
      "Epoch 20/5000, Training Loss: 0.4934, Validation Loss: 4.5824\n"
     ]
    },
    {
     "name": "stderr",
     "output_type": "stream",
     "text": [
      "Training Epoch 21/5000: 100%|██████████| 10/10 [00:02<00:00,  3.58it/s, loss=0.719]\n",
      "Validation Epoch 21/5000: 100%|██████████| 10/10 [00:01<00:00,  9.71it/s, loss=3.75]\n"
     ]
    },
    {
     "name": "stdout",
     "output_type": "stream",
     "text": [
      "Epoch 21/5000, Training Loss: 0.4620, Validation Loss: 3.8315\n"
     ]
    },
    {
     "name": "stderr",
     "output_type": "stream",
     "text": [
      "Training Epoch 22/5000: 100%|██████████| 10/10 [00:02<00:00,  3.44it/s, loss=0.641]\n",
      "Validation Epoch 22/5000: 100%|██████████| 10/10 [00:01<00:00,  9.63it/s, loss=3.54]\n"
     ]
    },
    {
     "name": "stdout",
     "output_type": "stream",
     "text": [
      "Epoch 22/5000, Training Loss: 0.4731, Validation Loss: 3.9110\n"
     ]
    },
    {
     "name": "stderr",
     "output_type": "stream",
     "text": [
      "Training Epoch 23/5000: 100%|██████████| 10/10 [00:02<00:00,  3.63it/s, loss=0.415]\n",
      "Validation Epoch 23/5000: 100%|██████████| 10/10 [00:01<00:00,  9.63it/s, loss=3.39]\n"
     ]
    },
    {
     "name": "stdout",
     "output_type": "stream",
     "text": [
      "Epoch 23/5000, Training Loss: 0.4378, Validation Loss: 4.1047\n"
     ]
    },
    {
     "name": "stderr",
     "output_type": "stream",
     "text": [
      "Training Epoch 24/5000: 100%|██████████| 10/10 [00:02<00:00,  3.56it/s, loss=0.496]\n",
      "Validation Epoch 24/5000: 100%|██████████| 10/10 [00:01<00:00,  9.67it/s, loss=3.92]\n"
     ]
    },
    {
     "name": "stdout",
     "output_type": "stream",
     "text": [
      "Epoch 24/5000, Training Loss: 0.3987, Validation Loss: 4.0567\n"
     ]
    },
    {
     "name": "stderr",
     "output_type": "stream",
     "text": [
      "Training Epoch 25/5000: 100%|██████████| 10/10 [00:02<00:00,  3.51it/s, loss=0.448]\n",
      "Validation Epoch 25/5000: 100%|██████████| 10/10 [00:01<00:00,  9.50it/s, loss=3.61]\n"
     ]
    },
    {
     "name": "stdout",
     "output_type": "stream",
     "text": [
      "Epoch 25/5000, Training Loss: 0.4405, Validation Loss: 4.1252\n"
     ]
    },
    {
     "name": "stderr",
     "output_type": "stream",
     "text": [
      "Training Epoch 26/5000: 100%|██████████| 10/10 [00:02<00:00,  3.49it/s, loss=0.559]\n",
      "Validation Epoch 26/5000: 100%|██████████| 10/10 [00:01<00:00,  9.65it/s, loss=4.04]\n"
     ]
    },
    {
     "name": "stdout",
     "output_type": "stream",
     "text": [
      "Epoch 26/5000, Training Loss: 0.3629, Validation Loss: 4.5377\n"
     ]
    },
    {
     "name": "stderr",
     "output_type": "stream",
     "text": [
      "Training Epoch 27/5000: 100%|██████████| 10/10 [00:02<00:00,  3.39it/s, loss=0.527]\n",
      "Validation Epoch 27/5000: 100%|██████████| 10/10 [00:01<00:00,  9.87it/s, loss=3.47]\n"
     ]
    },
    {
     "name": "stdout",
     "output_type": "stream",
     "text": [
      "Epoch 27/5000, Training Loss: 0.3533, Validation Loss: 4.2347\n"
     ]
    },
    {
     "name": "stderr",
     "output_type": "stream",
     "text": [
      "Training Epoch 28/5000: 100%|██████████| 10/10 [00:02<00:00,  3.60it/s, loss=0.468]\n",
      "Validation Epoch 28/5000: 100%|██████████| 10/10 [00:01<00:00,  9.57it/s, loss=3.98]\n"
     ]
    },
    {
     "name": "stdout",
     "output_type": "stream",
     "text": [
      "Epoch 28/5000, Training Loss: 0.3461, Validation Loss: 4.6341\n"
     ]
    },
    {
     "name": "stderr",
     "output_type": "stream",
     "text": [
      "Training Epoch 29/5000: 100%|██████████| 10/10 [00:02<00:00,  3.55it/s, loss=0.155]\n",
      "Validation Epoch 29/5000: 100%|██████████| 10/10 [00:01<00:00,  9.50it/s, loss=3.94]\n"
     ]
    },
    {
     "name": "stdout",
     "output_type": "stream",
     "text": [
      "Epoch 29/5000, Training Loss: 0.4515, Validation Loss: 4.4243\n"
     ]
    },
    {
     "name": "stderr",
     "output_type": "stream",
     "text": [
      "Training Epoch 30/5000: 100%|██████████| 10/10 [00:02<00:00,  3.51it/s, loss=0.51]\n",
      "Validation Epoch 30/5000: 100%|██████████| 10/10 [00:01<00:00,  9.76it/s, loss=3.94]\n"
     ]
    },
    {
     "name": "stdout",
     "output_type": "stream",
     "text": [
      "Epoch 30/5000, Training Loss: 0.3258, Validation Loss: 4.4223\n"
     ]
    },
    {
     "name": "stderr",
     "output_type": "stream",
     "text": [
      "Training Epoch 31/5000: 100%|██████████| 10/10 [00:02<00:00,  3.57it/s, loss=0.603]\n",
      "Validation Epoch 31/5000: 100%|██████████| 10/10 [00:01<00:00,  9.75it/s, loss=3.59]\n"
     ]
    },
    {
     "name": "stdout",
     "output_type": "stream",
     "text": [
      "Epoch 31/5000, Training Loss: 0.3111, Validation Loss: 4.4154\n"
     ]
    },
    {
     "name": "stderr",
     "output_type": "stream",
     "text": [
      "Training Epoch 32/5000: 100%|██████████| 10/10 [00:02<00:00,  3.50it/s, loss=0.223]\n",
      "Validation Epoch 32/5000: 100%|██████████| 10/10 [00:01<00:00,  9.71it/s, loss=3.82]\n"
     ]
    },
    {
     "name": "stdout",
     "output_type": "stream",
     "text": [
      "Epoch 32/5000, Training Loss: 0.2773, Validation Loss: 4.5723\n"
     ]
    },
    {
     "name": "stderr",
     "output_type": "stream",
     "text": [
      "Training Epoch 33/5000: 100%|██████████| 10/10 [00:02<00:00,  3.56it/s, loss=0.219]\n",
      "Validation Epoch 33/5000: 100%|██████████| 10/10 [00:01<00:00,  9.92it/s, loss=4.01]\n"
     ]
    },
    {
     "name": "stdout",
     "output_type": "stream",
     "text": [
      "Epoch 33/5000, Training Loss: 0.2890, Validation Loss: 4.8078\n"
     ]
    },
    {
     "name": "stderr",
     "output_type": "stream",
     "text": [
      "Training Epoch 34/5000: 100%|██████████| 10/10 [00:02<00:00,  3.42it/s, loss=0.233]\n",
      "Validation Epoch 34/5000: 100%|██████████| 10/10 [00:01<00:00,  9.81it/s, loss=3.97]\n"
     ]
    },
    {
     "name": "stdout",
     "output_type": "stream",
     "text": [
      "Epoch 34/5000, Training Loss: 0.2891, Validation Loss: 4.6840\n"
     ]
    },
    {
     "name": "stderr",
     "output_type": "stream",
     "text": [
      "Training Epoch 35/5000: 100%|██████████| 10/10 [00:02<00:00,  3.60it/s, loss=0.231]\n",
      "Validation Epoch 35/5000: 100%|██████████| 10/10 [00:01<00:00,  9.64it/s, loss=3.89]\n"
     ]
    },
    {
     "name": "stdout",
     "output_type": "stream",
     "text": [
      "Epoch 35/5000, Training Loss: 0.2461, Validation Loss: 4.7446\n"
     ]
    },
    {
     "name": "stderr",
     "output_type": "stream",
     "text": [
      "Training Epoch 36/5000: 100%|██████████| 10/10 [00:02<00:00,  3.58it/s, loss=0.533]\n",
      "Validation Epoch 36/5000: 100%|██████████| 10/10 [00:01<00:00,  9.88it/s, loss=3.87]\n"
     ]
    },
    {
     "name": "stdout",
     "output_type": "stream",
     "text": [
      "Epoch 36/5000, Training Loss: 0.2596, Validation Loss: 4.8397\n"
     ]
    },
    {
     "name": "stderr",
     "output_type": "stream",
     "text": [
      "Training Epoch 37/5000: 100%|██████████| 10/10 [00:02<00:00,  3.44it/s, loss=0.273]\n",
      "Validation Epoch 37/5000: 100%|██████████| 10/10 [00:01<00:00,  9.69it/s, loss=3.87]\n"
     ]
    },
    {
     "name": "stdout",
     "output_type": "stream",
     "text": [
      "Epoch 37/5000, Training Loss: 0.2474, Validation Loss: 4.3835\n"
     ]
    },
    {
     "name": "stderr",
     "output_type": "stream",
     "text": [
      "Training Epoch 38/5000: 100%|██████████| 10/10 [00:02<00:00,  3.57it/s, loss=0.328]\n",
      "Validation Epoch 38/5000: 100%|██████████| 10/10 [00:01<00:00,  9.58it/s, loss=3.92]\n"
     ]
    },
    {
     "name": "stdout",
     "output_type": "stream",
     "text": [
      "Epoch 38/5000, Training Loss: 0.2669, Validation Loss: 4.6041\n"
     ]
    },
    {
     "name": "stderr",
     "output_type": "stream",
     "text": [
      "Training Epoch 39/5000: 100%|██████████| 10/10 [00:02<00:00,  3.53it/s, loss=0.354]\n",
      "Validation Epoch 39/5000: 100%|██████████| 10/10 [00:01<00:00,  9.61it/s, loss=3.74]\n"
     ]
    },
    {
     "name": "stdout",
     "output_type": "stream",
     "text": [
      "Epoch 39/5000, Training Loss: 0.2573, Validation Loss: 4.4246\n"
     ]
    },
    {
     "name": "stderr",
     "output_type": "stream",
     "text": [
      "Training Epoch 40/5000: 100%|██████████| 10/10 [00:02<00:00,  3.49it/s, loss=0.155]\n",
      "Validation Epoch 40/5000: 100%|██████████| 10/10 [00:01<00:00,  9.78it/s, loss=3.58]\n"
     ]
    },
    {
     "name": "stdout",
     "output_type": "stream",
     "text": [
      "Epoch 40/5000, Training Loss: 0.2949, Validation Loss: 4.4688\n"
     ]
    },
    {
     "name": "stderr",
     "output_type": "stream",
     "text": [
      "Training Epoch 41/5000: 100%|██████████| 10/10 [00:02<00:00,  3.48it/s, loss=0.222]\n",
      "Validation Epoch 41/5000: 100%|██████████| 10/10 [00:01<00:00,  9.26it/s, loss=4.47]\n"
     ]
    },
    {
     "name": "stdout",
     "output_type": "stream",
     "text": [
      "Epoch 41/5000, Training Loss: 0.2323, Validation Loss: 4.9435\n"
     ]
    },
    {
     "name": "stderr",
     "output_type": "stream",
     "text": [
      "Training Epoch 42/5000: 100%|██████████| 10/10 [00:02<00:00,  3.38it/s, loss=0.544]\n",
      "Validation Epoch 42/5000: 100%|██████████| 10/10 [00:01<00:00,  9.73it/s, loss=4.42]\n"
     ]
    },
    {
     "name": "stdout",
     "output_type": "stream",
     "text": [
      "Epoch 42/5000, Training Loss: 0.2670, Validation Loss: 4.7078\n"
     ]
    },
    {
     "name": "stderr",
     "output_type": "stream",
     "text": [
      "Training Epoch 43/5000: 100%|██████████| 10/10 [00:02<00:00,  3.46it/s, loss=0.132]\n",
      "Validation Epoch 43/5000: 100%|██████████| 10/10 [00:01<00:00,  9.59it/s, loss=3.81]\n"
     ]
    },
    {
     "name": "stdout",
     "output_type": "stream",
     "text": [
      "Epoch 43/5000, Training Loss: 0.2689, Validation Loss: 4.4533\n"
     ]
    },
    {
     "name": "stderr",
     "output_type": "stream",
     "text": [
      "Training Epoch 44/5000: 100%|██████████| 10/10 [00:02<00:00,  3.57it/s, loss=0.305]\n",
      "Validation Epoch 44/5000: 100%|██████████| 10/10 [00:01<00:00,  9.75it/s, loss=4.05]\n"
     ]
    },
    {
     "name": "stdout",
     "output_type": "stream",
     "text": [
      "Epoch 44/5000, Training Loss: 0.2235, Validation Loss: 4.9466\n"
     ]
    },
    {
     "name": "stderr",
     "output_type": "stream",
     "text": [
      "Training Epoch 45/5000: 100%|██████████| 10/10 [00:02<00:00,  3.55it/s, loss=0.179]\n",
      "Validation Epoch 45/5000: 100%|██████████| 10/10 [00:01<00:00,  9.81it/s, loss=3.96]\n"
     ]
    },
    {
     "name": "stdout",
     "output_type": "stream",
     "text": [
      "Epoch 45/5000, Training Loss: 0.2184, Validation Loss: 4.5350\n"
     ]
    },
    {
     "name": "stderr",
     "output_type": "stream",
     "text": [
      "Training Epoch 46/5000: 100%|██████████| 10/10 [00:02<00:00,  3.60it/s, loss=0.0935]\n",
      "Validation Epoch 46/5000: 100%|██████████| 10/10 [00:01<00:00,  9.41it/s, loss=4]  \n"
     ]
    },
    {
     "name": "stdout",
     "output_type": "stream",
     "text": [
      "Epoch 46/5000, Training Loss: 0.2104, Validation Loss: 4.6957\n"
     ]
    },
    {
     "name": "stderr",
     "output_type": "stream",
     "text": [
      "Training Epoch 47/5000: 100%|██████████| 10/10 [00:02<00:00,  3.49it/s, loss=0.266]\n",
      "Validation Epoch 47/5000: 100%|██████████| 10/10 [00:01<00:00,  9.82it/s, loss=4]  \n"
     ]
    },
    {
     "name": "stdout",
     "output_type": "stream",
     "text": [
      "Epoch 47/5000, Training Loss: 0.2026, Validation Loss: 4.8916\n"
     ]
    },
    {
     "name": "stderr",
     "output_type": "stream",
     "text": [
      "Training Epoch 48/5000: 100%|██████████| 10/10 [00:02<00:00,  3.45it/s, loss=0.248]\n",
      "Validation Epoch 48/5000: 100%|██████████| 10/10 [00:01<00:00,  9.59it/s, loss=3.82]\n"
     ]
    },
    {
     "name": "stdout",
     "output_type": "stream",
     "text": [
      "Epoch 48/5000, Training Loss: 0.1878, Validation Loss: 4.8700\n"
     ]
    },
    {
     "name": "stderr",
     "output_type": "stream",
     "text": [
      "Training Epoch 49/5000: 100%|██████████| 10/10 [00:02<00:00,  3.56it/s, loss=0.161]\n",
      "Validation Epoch 49/5000: 100%|██████████| 10/10 [00:01<00:00,  9.49it/s, loss=3.82]\n"
     ]
    },
    {
     "name": "stdout",
     "output_type": "stream",
     "text": [
      "Epoch 49/5000, Training Loss: 0.1823, Validation Loss: 4.9030\n"
     ]
    },
    {
     "name": "stderr",
     "output_type": "stream",
     "text": [
      "Training Epoch 50/5000: 100%|██████████| 10/10 [00:02<00:00,  3.37it/s, loss=0.2]  \n",
      "Validation Epoch 50/5000: 100%|██████████| 10/10 [00:01<00:00,  9.55it/s, loss=3.75]\n"
     ]
    },
    {
     "name": "stdout",
     "output_type": "stream",
     "text": [
      "Epoch 50/5000, Training Loss: 0.1805, Validation Loss: 4.8570\n"
     ]
    },
    {
     "name": "stderr",
     "output_type": "stream",
     "text": [
      "Training Epoch 51/5000: 100%|██████████| 10/10 [00:02<00:00,  3.51it/s, loss=0.351]\n",
      "Validation Epoch 51/5000: 100%|██████████| 10/10 [00:01<00:00,  9.35it/s, loss=4.01]\n"
     ]
    },
    {
     "name": "stdout",
     "output_type": "stream",
     "text": [
      "Epoch 51/5000, Training Loss: 0.1909, Validation Loss: 4.9619\n"
     ]
    },
    {
     "name": "stderr",
     "output_type": "stream",
     "text": [
      "Training Epoch 52/5000: 100%|██████████| 10/10 [00:02<00:00,  3.46it/s, loss=0.106]\n",
      "Validation Epoch 52/5000: 100%|██████████| 10/10 [00:01<00:00,  9.29it/s, loss=3.88]\n"
     ]
    },
    {
     "name": "stdout",
     "output_type": "stream",
     "text": [
      "Epoch 52/5000, Training Loss: 0.1798, Validation Loss: 4.7907\n"
     ]
    },
    {
     "name": "stderr",
     "output_type": "stream",
     "text": [
      "Training Epoch 53/5000: 100%|██████████| 10/10 [00:03<00:00,  3.16it/s, loss=0.24] \n",
      "Validation Epoch 53/5000: 100%|██████████| 10/10 [00:01<00:00,  8.83it/s, loss=3.94]\n"
     ]
    },
    {
     "name": "stdout",
     "output_type": "stream",
     "text": [
      "Epoch 53/5000, Training Loss: 0.1853, Validation Loss: 4.7774\n"
     ]
    },
    {
     "name": "stderr",
     "output_type": "stream",
     "text": [
      "Training Epoch 54/5000: 100%|██████████| 10/10 [00:03<00:00,  3.19it/s, loss=0.163]\n",
      "Validation Epoch 54/5000: 100%|██████████| 10/10 [00:01<00:00,  8.85it/s, loss=4.3]\n"
     ]
    },
    {
     "name": "stdout",
     "output_type": "stream",
     "text": [
      "Epoch 54/5000, Training Loss: 0.1719, Validation Loss: 4.8271\n"
     ]
    },
    {
     "name": "stderr",
     "output_type": "stream",
     "text": [
      "Training Epoch 55/5000: 100%|██████████| 10/10 [00:03<00:00,  3.18it/s, loss=0.108]\n",
      "Validation Epoch 55/5000: 100%|██████████| 10/10 [00:01<00:00,  8.66it/s, loss=4]  \n"
     ]
    },
    {
     "name": "stdout",
     "output_type": "stream",
     "text": [
      "Epoch 55/5000, Training Loss: 0.1716, Validation Loss: 4.7616\n"
     ]
    },
    {
     "name": "stderr",
     "output_type": "stream",
     "text": [
      "Training Epoch 56/5000: 100%|██████████| 10/10 [00:03<00:00,  3.20it/s, loss=0.126]\n",
      "Validation Epoch 56/5000: 100%|██████████| 10/10 [00:01<00:00,  8.79it/s, loss=3.72]\n"
     ]
    },
    {
     "name": "stdout",
     "output_type": "stream",
     "text": [
      "Epoch 56/5000, Training Loss: 0.1679, Validation Loss: 4.5350\n"
     ]
    },
    {
     "name": "stderr",
     "output_type": "stream",
     "text": [
      "Training Epoch 57/5000: 100%|██████████| 10/10 [00:03<00:00,  3.18it/s, loss=0.148]\n"
     ]
    },
    {
     "name": "stdout",
     "output_type": "stream",
     "text": [
      "Epoch 00057: reducing learning rate of group 0 to 1.0000e-04.\n"
     ]
    },
    {
     "name": "stderr",
     "output_type": "stream",
     "text": [
      "Validation Epoch 57/5000: 100%|██████████| 10/10 [00:01<00:00,  8.81it/s, loss=3.87]\n"
     ]
    },
    {
     "name": "stdout",
     "output_type": "stream",
     "text": [
      "Epoch 57/5000, Training Loss: 0.1557, Validation Loss: 4.7548\n"
     ]
    },
    {
     "name": "stderr",
     "output_type": "stream",
     "text": [
      "Training Epoch 58/5000: 100%|██████████| 10/10 [00:03<00:00,  3.30it/s, loss=0.217]\n",
      "Validation Epoch 58/5000: 100%|██████████| 10/10 [00:01<00:00,  9.53it/s, loss=3.88]\n"
     ]
    },
    {
     "name": "stdout",
     "output_type": "stream",
     "text": [
      "Epoch 58/5000, Training Loss: 0.1612, Validation Loss: 4.7678\n"
     ]
    },
    {
     "name": "stderr",
     "output_type": "stream",
     "text": [
      "Training Epoch 59/5000: 100%|██████████| 10/10 [00:02<00:00,  3.53it/s, loss=0.0877]\n",
      "Validation Epoch 59/5000: 100%|██████████| 10/10 [00:01<00:00,  9.77it/s, loss=3.87]\n"
     ]
    },
    {
     "name": "stdout",
     "output_type": "stream",
     "text": [
      "Epoch 59/5000, Training Loss: 0.1426, Validation Loss: 4.7670\n"
     ]
    },
    {
     "name": "stderr",
     "output_type": "stream",
     "text": [
      "Training Epoch 60/5000: 100%|██████████| 10/10 [00:02<00:00,  3.44it/s, loss=0.0526]\n",
      "Validation Epoch 60/5000: 100%|██████████| 10/10 [00:01<00:00,  9.58it/s, loss=3.87]\n"
     ]
    },
    {
     "name": "stdout",
     "output_type": "stream",
     "text": [
      "Epoch 60/5000, Training Loss: 0.1381, Validation Loss: 4.7857\n"
     ]
    },
    {
     "name": "stderr",
     "output_type": "stream",
     "text": [
      "Training Epoch 61/5000: 100%|██████████| 10/10 [00:02<00:00,  3.41it/s, loss=0.0919]\n",
      "Validation Epoch 61/5000: 100%|██████████| 10/10 [00:01<00:00,  8.68it/s, loss=3.89]\n"
     ]
    },
    {
     "name": "stdout",
     "output_type": "stream",
     "text": [
      "Epoch 61/5000, Training Loss: 0.1343, Validation Loss: 4.8159\n"
     ]
    },
    {
     "name": "stderr",
     "output_type": "stream",
     "text": [
      "Training Epoch 62/5000: 100%|██████████| 10/10 [00:02<00:00,  3.38it/s, loss=0.187]\n",
      "Validation Epoch 62/5000: 100%|██████████| 10/10 [00:01<00:00,  9.64it/s, loss=3.86]\n"
     ]
    },
    {
     "name": "stdout",
     "output_type": "stream",
     "text": [
      "Epoch 62/5000, Training Loss: 0.1324, Validation Loss: 4.7537\n"
     ]
    },
    {
     "name": "stderr",
     "output_type": "stream",
     "text": [
      "Training Epoch 63/5000: 100%|██████████| 10/10 [00:02<00:00,  3.56it/s, loss=0.147]\n",
      "Validation Epoch 63/5000: 100%|██████████| 10/10 [00:01<00:00,  9.35it/s, loss=3.93]\n"
     ]
    },
    {
     "name": "stdout",
     "output_type": "stream",
     "text": [
      "Epoch 63/5000, Training Loss: 0.1340, Validation Loss: 4.8520\n"
     ]
    },
    {
     "name": "stderr",
     "output_type": "stream",
     "text": [
      "Training Epoch 64/5000: 100%|██████████| 10/10 [00:02<00:00,  3.46it/s, loss=0.179]\n",
      "Validation Epoch 64/5000: 100%|██████████| 10/10 [00:01<00:00,  9.11it/s, loss=3.92]\n"
     ]
    },
    {
     "name": "stdout",
     "output_type": "stream",
     "text": [
      "Epoch 64/5000, Training Loss: 0.1302, Validation Loss: 4.8015\n"
     ]
    },
    {
     "name": "stderr",
     "output_type": "stream",
     "text": [
      "Training Epoch 65/5000: 100%|██████████| 10/10 [00:02<00:00,  3.37it/s, loss=0.0969]\n",
      "Validation Epoch 65/5000: 100%|██████████| 10/10 [00:01<00:00,  9.42it/s, loss=3.94]\n"
     ]
    },
    {
     "name": "stdout",
     "output_type": "stream",
     "text": [
      "Epoch 65/5000, Training Loss: 0.1247, Validation Loss: 4.8628\n"
     ]
    },
    {
     "name": "stderr",
     "output_type": "stream",
     "text": [
      "Training Epoch 66/5000: 100%|██████████| 10/10 [00:02<00:00,  3.48it/s, loss=0.154]\n",
      "Validation Epoch 66/5000: 100%|██████████| 10/10 [00:01<00:00,  9.58it/s, loss=3.95]\n"
     ]
    },
    {
     "name": "stdout",
     "output_type": "stream",
     "text": [
      "Epoch 66/5000, Training Loss: 0.1247, Validation Loss: 4.8768\n"
     ]
    },
    {
     "name": "stderr",
     "output_type": "stream",
     "text": [
      "Training Epoch 67/5000: 100%|██████████| 10/10 [00:02<00:00,  3.42it/s, loss=0.0568]\n",
      "Validation Epoch 67/5000: 100%|██████████| 10/10 [00:01<00:00,  9.71it/s, loss=4.02]\n"
     ]
    },
    {
     "name": "stdout",
     "output_type": "stream",
     "text": [
      "Epoch 67/5000, Training Loss: 0.1240, Validation Loss: 4.9323\n"
     ]
    },
    {
     "name": "stderr",
     "output_type": "stream",
     "text": [
      "Training Epoch 68/5000: 100%|██████████| 10/10 [00:02<00:00,  3.42it/s, loss=0.143]\n",
      "Validation Epoch 68/5000: 100%|██████████| 10/10 [00:01<00:00,  9.49it/s, loss=4.03]\n"
     ]
    },
    {
     "name": "stdout",
     "output_type": "stream",
     "text": [
      "Epoch 68/5000, Training Loss: 0.1245, Validation Loss: 4.9955\n"
     ]
    },
    {
     "name": "stderr",
     "output_type": "stream",
     "text": [
      "Training Epoch 69/5000: 100%|██████████| 10/10 [00:02<00:00,  3.41it/s, loss=0.154]\n",
      "Validation Epoch 69/5000: 100%|██████████| 10/10 [00:01<00:00,  9.62it/s, loss=4.04]\n"
     ]
    },
    {
     "name": "stdout",
     "output_type": "stream",
     "text": [
      "Epoch 69/5000, Training Loss: 0.1201, Validation Loss: 4.9787\n"
     ]
    },
    {
     "name": "stderr",
     "output_type": "stream",
     "text": [
      "Training Epoch 70/5000: 100%|██████████| 10/10 [00:02<00:00,  3.56it/s, loss=0.0402]\n",
      "Validation Epoch 70/5000: 100%|██████████| 10/10 [00:01<00:00,  9.60it/s, loss=4.05]\n"
     ]
    },
    {
     "name": "stdout",
     "output_type": "stream",
     "text": [
      "Epoch 70/5000, Training Loss: 0.1265, Validation Loss: 4.9926\n"
     ]
    },
    {
     "name": "stderr",
     "output_type": "stream",
     "text": [
      "Training Epoch 71/5000: 100%|██████████| 10/10 [00:02<00:00,  3.46it/s, loss=0.248]\n",
      "Validation Epoch 71/5000: 100%|██████████| 10/10 [00:01<00:00,  9.52it/s, loss=4.07]\n"
     ]
    },
    {
     "name": "stdout",
     "output_type": "stream",
     "text": [
      "Epoch 71/5000, Training Loss: 0.1248, Validation Loss: 5.0252\n"
     ]
    },
    {
     "name": "stderr",
     "output_type": "stream",
     "text": [
      "Training Epoch 72/5000: 100%|██████████| 10/10 [00:02<00:00,  3.46it/s, loss=0.102]\n",
      "Validation Epoch 72/5000: 100%|██████████| 10/10 [00:01<00:00,  9.74it/s, loss=4.08]\n"
     ]
    },
    {
     "name": "stdout",
     "output_type": "stream",
     "text": [
      "Epoch 72/5000, Training Loss: 0.1244, Validation Loss: 5.0264\n"
     ]
    },
    {
     "name": "stderr",
     "output_type": "stream",
     "text": [
      "Training Epoch 73/5000: 100%|██████████| 10/10 [00:02<00:00,  3.53it/s, loss=0.13] \n",
      "Validation Epoch 73/5000: 100%|██████████| 10/10 [00:01<00:00,  9.61it/s, loss=4.07]\n"
     ]
    },
    {
     "name": "stdout",
     "output_type": "stream",
     "text": [
      "Epoch 73/5000, Training Loss: 0.1233, Validation Loss: 5.0436\n"
     ]
    },
    {
     "name": "stderr",
     "output_type": "stream",
     "text": [
      "Training Epoch 74/5000: 100%|██████████| 10/10 [00:02<00:00,  3.53it/s, loss=0.119]\n",
      "Validation Epoch 74/5000: 100%|██████████| 10/10 [00:01<00:00,  9.06it/s, loss=4.08]\n"
     ]
    },
    {
     "name": "stdout",
     "output_type": "stream",
     "text": [
      "Epoch 74/5000, Training Loss: 0.1211, Validation Loss: 5.0726\n"
     ]
    },
    {
     "name": "stderr",
     "output_type": "stream",
     "text": [
      "Training Epoch 75/5000: 100%|██████████| 10/10 [00:02<00:00,  3.43it/s, loss=0.0351]\n",
      "Validation Epoch 75/5000: 100%|██████████| 10/10 [00:01<00:00,  9.66it/s, loss=4.08]\n"
     ]
    },
    {
     "name": "stdout",
     "output_type": "stream",
     "text": [
      "Epoch 75/5000, Training Loss: 0.1225, Validation Loss: 5.0616\n"
     ]
    },
    {
     "name": "stderr",
     "output_type": "stream",
     "text": [
      "Training Epoch 76/5000: 100%|██████████| 10/10 [00:02<00:00,  3.54it/s, loss=0.302]\n",
      "Validation Epoch 76/5000: 100%|██████████| 10/10 [00:01<00:00,  9.60it/s, loss=4.12]\n"
     ]
    },
    {
     "name": "stdout",
     "output_type": "stream",
     "text": [
      "Epoch 76/5000, Training Loss: 0.1276, Validation Loss: 5.1267\n"
     ]
    },
    {
     "name": "stderr",
     "output_type": "stream",
     "text": [
      "Training Epoch 77/5000: 100%|██████████| 10/10 [00:02<00:00,  3.38it/s, loss=0.105]\n",
      "Validation Epoch 77/5000: 100%|██████████| 10/10 [00:01<00:00,  9.83it/s, loss=4.15]\n"
     ]
    },
    {
     "name": "stdout",
     "output_type": "stream",
     "text": [
      "Epoch 77/5000, Training Loss: 0.1194, Validation Loss: 5.0817\n"
     ]
    },
    {
     "name": "stderr",
     "output_type": "stream",
     "text": [
      "Training Epoch 78/5000: 100%|██████████| 10/10 [00:02<00:00,  3.53it/s, loss=0.0977]\n",
      "Validation Epoch 78/5000: 100%|██████████| 10/10 [00:01<00:00,  9.75it/s, loss=4.22]\n"
     ]
    },
    {
     "name": "stdout",
     "output_type": "stream",
     "text": [
      "Epoch 78/5000, Training Loss: 0.1244, Validation Loss: 5.1433\n"
     ]
    },
    {
     "name": "stderr",
     "output_type": "stream",
     "text": [
      "Training Epoch 79/5000: 100%|██████████| 10/10 [00:03<00:00,  3.28it/s, loss=0.108]\n",
      "Validation Epoch 79/5000: 100%|██████████| 10/10 [00:01<00:00,  9.62it/s, loss=4.21]\n"
     ]
    },
    {
     "name": "stdout",
     "output_type": "stream",
     "text": [
      "Epoch 79/5000, Training Loss: 0.1163, Validation Loss: 5.1433\n"
     ]
    },
    {
     "name": "stderr",
     "output_type": "stream",
     "text": [
      "Training Epoch 80/5000: 100%|██████████| 10/10 [00:02<00:00,  3.54it/s, loss=0.195]\n",
      "Validation Epoch 80/5000: 100%|██████████| 10/10 [00:01<00:00,  9.74it/s, loss=4.24]\n"
     ]
    },
    {
     "name": "stdout",
     "output_type": "stream",
     "text": [
      "Epoch 80/5000, Training Loss: 0.1193, Validation Loss: 5.1791\n"
     ]
    },
    {
     "name": "stderr",
     "output_type": "stream",
     "text": [
      "Training Epoch 81/5000: 100%|██████████| 10/10 [00:02<00:00,  3.40it/s, loss=0.145]\n",
      "Validation Epoch 81/5000: 100%|██████████| 10/10 [00:01<00:00,  9.78it/s, loss=4.22]\n"
     ]
    },
    {
     "name": "stdout",
     "output_type": "stream",
     "text": [
      "Epoch 81/5000, Training Loss: 0.1182, Validation Loss: 5.1320\n"
     ]
    },
    {
     "name": "stderr",
     "output_type": "stream",
     "text": [
      "Training Epoch 82/5000: 100%|██████████| 10/10 [00:03<00:00,  3.32it/s, loss=0.147]\n",
      "Validation Epoch 82/5000: 100%|██████████| 10/10 [00:01<00:00,  9.55it/s, loss=4.24]\n"
     ]
    },
    {
     "name": "stdout",
     "output_type": "stream",
     "text": [
      "Epoch 82/5000, Training Loss: 0.1153, Validation Loss: 5.1854\n"
     ]
    },
    {
     "name": "stderr",
     "output_type": "stream",
     "text": [
      "Training Epoch 83/5000: 100%|██████████| 10/10 [00:02<00:00,  3.54it/s, loss=0.0886]\n",
      "Validation Epoch 83/5000: 100%|██████████| 10/10 [00:01<00:00,  9.82it/s, loss=4.25]\n"
     ]
    },
    {
     "name": "stdout",
     "output_type": "stream",
     "text": [
      "Epoch 83/5000, Training Loss: 0.1185, Validation Loss: 5.1678\n"
     ]
    },
    {
     "name": "stderr",
     "output_type": "stream",
     "text": [
      "Training Epoch 84/5000: 100%|██████████| 10/10 [00:02<00:00,  3.54it/s, loss=0.128]\n",
      "Validation Epoch 84/5000: 100%|██████████| 10/10 [00:01<00:00,  9.17it/s, loss=4.28]\n"
     ]
    },
    {
     "name": "stdout",
     "output_type": "stream",
     "text": [
      "Epoch 84/5000, Training Loss: 0.1190, Validation Loss: 5.2466\n"
     ]
    },
    {
     "name": "stderr",
     "output_type": "stream",
     "text": [
      "Training Epoch 85/5000: 100%|██████████| 10/10 [00:02<00:00,  3.46it/s, loss=0.0758]\n",
      "Validation Epoch 85/5000: 100%|██████████| 10/10 [00:01<00:00,  9.31it/s, loss=4.25]\n"
     ]
    },
    {
     "name": "stdout",
     "output_type": "stream",
     "text": [
      "Epoch 85/5000, Training Loss: 0.1175, Validation Loss: 5.1981\n"
     ]
    },
    {
     "name": "stderr",
     "output_type": "stream",
     "text": [
      "Training Epoch 86/5000: 100%|██████████| 10/10 [00:02<00:00,  3.43it/s, loss=0.148]\n"
     ]
    },
    {
     "name": "stdout",
     "output_type": "stream",
     "text": [
      "Epoch 00086: reducing learning rate of group 0 to 1.0000e-05.\n"
     ]
    },
    {
     "name": "stderr",
     "output_type": "stream",
     "text": [
      "Validation Epoch 86/5000: 100%|██████████| 10/10 [00:01<00:00,  8.97it/s, loss=4.27]\n"
     ]
    },
    {
     "name": "stdout",
     "output_type": "stream",
     "text": [
      "Epoch 86/5000, Training Loss: 0.1153, Validation Loss: 5.2005\n"
     ]
    },
    {
     "name": "stderr",
     "output_type": "stream",
     "text": [
      "Training Epoch 87/5000: 100%|██████████| 10/10 [00:02<00:00,  3.37it/s, loss=0.0492]\n",
      "Validation Epoch 87/5000: 100%|██████████| 10/10 [00:01<00:00,  9.21it/s, loss=4.28]\n"
     ]
    },
    {
     "name": "stdout",
     "output_type": "stream",
     "text": [
      "Epoch 87/5000, Training Loss: 0.1190, Validation Loss: 5.2261\n"
     ]
    },
    {
     "name": "stderr",
     "output_type": "stream",
     "text": [
      "Training Epoch 88/5000: 100%|██████████| 10/10 [00:02<00:00,  3.54it/s, loss=0.13] \n",
      "Validation Epoch 88/5000: 100%|██████████| 10/10 [00:01<00:00,  9.91it/s, loss=4.27]\n"
     ]
    },
    {
     "name": "stdout",
     "output_type": "stream",
     "text": [
      "Epoch 88/5000, Training Loss: 0.1166, Validation Loss: 5.2002\n"
     ]
    },
    {
     "name": "stderr",
     "output_type": "stream",
     "text": [
      "Training Epoch 89/5000: 100%|██████████| 10/10 [00:02<00:00,  3.39it/s, loss=0.0621]\n",
      "Validation Epoch 89/5000: 100%|██████████| 10/10 [00:01<00:00,  9.51it/s, loss=4.27]\n"
     ]
    },
    {
     "name": "stdout",
     "output_type": "stream",
     "text": [
      "Epoch 89/5000, Training Loss: 0.1194, Validation Loss: 5.2099\n"
     ]
    },
    {
     "name": "stderr",
     "output_type": "stream",
     "text": [
      "Training Epoch 90/5000: 100%|██████████| 10/10 [00:03<00:00,  3.33it/s, loss=0.191]\n",
      "Validation Epoch 90/5000: 100%|██████████| 10/10 [00:01<00:00,  9.21it/s, loss=4.3]\n"
     ]
    },
    {
     "name": "stdout",
     "output_type": "stream",
     "text": [
      "Epoch 90/5000, Training Loss: 0.1177, Validation Loss: 5.2637\n"
     ]
    },
    {
     "name": "stderr",
     "output_type": "stream",
     "text": [
      "Training Epoch 91/5000: 100%|██████████| 10/10 [00:02<00:00,  3.48it/s, loss=0.0636]\n",
      "Validation Epoch 91/5000: 100%|██████████| 10/10 [00:01<00:00,  9.62it/s, loss=4.31]\n"
     ]
    },
    {
     "name": "stdout",
     "output_type": "stream",
     "text": [
      "Epoch 91/5000, Training Loss: 0.1183, Validation Loss: 5.2646\n"
     ]
    },
    {
     "name": "stderr",
     "output_type": "stream",
     "text": [
      "Training Epoch 92/5000: 100%|██████████| 10/10 [00:03<00:00,  3.30it/s, loss=0.163]\n",
      "Validation Epoch 92/5000: 100%|██████████| 10/10 [00:01<00:00,  9.66it/s, loss=4.28]\n"
     ]
    },
    {
     "name": "stdout",
     "output_type": "stream",
     "text": [
      "Epoch 92/5000, Training Loss: 0.1163, Validation Loss: 5.2540\n"
     ]
    },
    {
     "name": "stderr",
     "output_type": "stream",
     "text": [
      "Training Epoch 93/5000: 100%|██████████| 10/10 [00:02<00:00,  3.54it/s, loss=0.0879]\n",
      "Validation Epoch 93/5000: 100%|██████████| 10/10 [00:01<00:00,  9.53it/s, loss=4.25]\n"
     ]
    },
    {
     "name": "stdout",
     "output_type": "stream",
     "text": [
      "Epoch 93/5000, Training Loss: 0.1162, Validation Loss: 5.1817\n"
     ]
    },
    {
     "name": "stderr",
     "output_type": "stream",
     "text": [
      "Training Epoch 94/5000: 100%|██████████| 10/10 [00:02<00:00,  3.55it/s, loss=0.23] \n",
      "Validation Epoch 94/5000: 100%|██████████| 10/10 [00:01<00:00,  9.62it/s, loss=4.28]\n"
     ]
    },
    {
     "name": "stdout",
     "output_type": "stream",
     "text": [
      "Epoch 94/5000, Training Loss: 0.1167, Validation Loss: 5.2285\n"
     ]
    },
    {
     "name": "stderr",
     "output_type": "stream",
     "text": [
      "Training Epoch 95/5000: 100%|██████████| 10/10 [00:02<00:00,  3.55it/s, loss=0.0902]\n",
      "Validation Epoch 95/5000: 100%|██████████| 10/10 [00:01<00:00,  9.77it/s, loss=4.31]\n"
     ]
    },
    {
     "name": "stdout",
     "output_type": "stream",
     "text": [
      "Epoch 95/5000, Training Loss: 0.1172, Validation Loss: 5.2447\n"
     ]
    },
    {
     "name": "stderr",
     "output_type": "stream",
     "text": [
      "Training Epoch 96/5000: 100%|██████████| 10/10 [00:03<00:00,  3.33it/s, loss=0.064]\n",
      "Validation Epoch 96/5000: 100%|██████████| 10/10 [00:01<00:00,  9.65it/s, loss=4.29]\n"
     ]
    },
    {
     "name": "stdout",
     "output_type": "stream",
     "text": [
      "Epoch 96/5000, Training Loss: 0.1182, Validation Loss: 5.2225\n"
     ]
    },
    {
     "name": "stderr",
     "output_type": "stream",
     "text": [
      "Training Epoch 97/5000: 100%|██████████| 10/10 [00:02<00:00,  3.35it/s, loss=0.106]\n"
     ]
    },
    {
     "name": "stdout",
     "output_type": "stream",
     "text": [
      "Epoch 00097: reducing learning rate of group 0 to 1.0000e-06.\n"
     ]
    },
    {
     "name": "stderr",
     "output_type": "stream",
     "text": [
      "Validation Epoch 97/5000: 100%|██████████| 10/10 [00:01<00:00,  8.89it/s, loss=4.28]\n"
     ]
    },
    {
     "name": "stdout",
     "output_type": "stream",
     "text": [
      "Epoch 97/5000, Training Loss: 0.1195, Validation Loss: 5.2000\n"
     ]
    },
    {
     "name": "stderr",
     "output_type": "stream",
     "text": [
      "Training Epoch 98/5000: 100%|██████████| 10/10 [00:02<00:00,  3.43it/s, loss=0.0813]\n",
      "Validation Epoch 98/5000: 100%|██████████| 10/10 [00:01<00:00,  9.39it/s, loss=4.24]\n"
     ]
    },
    {
     "name": "stdout",
     "output_type": "stream",
     "text": [
      "Epoch 98/5000, Training Loss: 0.1175, Validation Loss: 5.1385\n"
     ]
    },
    {
     "name": "stderr",
     "output_type": "stream",
     "text": [
      "Training Epoch 99/5000: 100%|██████████| 10/10 [00:02<00:00,  3.55it/s, loss=0.151]\n",
      "Validation Epoch 99/5000: 100%|██████████| 10/10 [00:01<00:00,  9.52it/s, loss=4.26]\n"
     ]
    },
    {
     "name": "stdout",
     "output_type": "stream",
     "text": [
      "Epoch 99/5000, Training Loss: 0.1174, Validation Loss: 5.1965\n"
     ]
    },
    {
     "name": "stderr",
     "output_type": "stream",
     "text": [
      "Training Epoch 100/5000: 100%|██████████| 10/10 [00:02<00:00,  3.50it/s, loss=0.0539]\n",
      "Validation Epoch 100/5000: 100%|██████████| 10/10 [00:01<00:00,  9.78it/s, loss=4.28]\n"
     ]
    },
    {
     "name": "stdout",
     "output_type": "stream",
     "text": [
      "Epoch 100/5000, Training Loss: 0.1170, Validation Loss: 5.2050\n"
     ]
    },
    {
     "name": "stderr",
     "output_type": "stream",
     "text": [
      "Training Epoch 101/5000: 100%|██████████| 10/10 [00:02<00:00,  3.55it/s, loss=0.199]\n",
      "Validation Epoch 101/5000: 100%|██████████| 10/10 [00:01<00:00,  9.68it/s, loss=4.28]\n"
     ]
    },
    {
     "name": "stdout",
     "output_type": "stream",
     "text": [
      "Epoch 101/5000, Training Loss: 0.1161, Validation Loss: 5.2237\n"
     ]
    },
    {
     "name": "stderr",
     "output_type": "stream",
     "text": [
      "Training Epoch 102/5000: 100%|██████████| 10/10 [00:02<00:00,  3.49it/s, loss=0.123]\n",
      "Validation Epoch 102/5000: 100%|██████████| 10/10 [00:01<00:00,  8.87it/s, loss=4.32]\n"
     ]
    },
    {
     "name": "stdout",
     "output_type": "stream",
     "text": [
      "Epoch 102/5000, Training Loss: 0.1208, Validation Loss: 5.2512\n"
     ]
    },
    {
     "name": "stderr",
     "output_type": "stream",
     "text": [
      "Training Epoch 103/5000: 100%|██████████| 10/10 [00:02<00:00,  3.48it/s, loss=0.0852]\n",
      "Validation Epoch 103/5000: 100%|██████████| 10/10 [00:01<00:00,  9.01it/s, loss=4.29]\n"
     ]
    },
    {
     "name": "stdout",
     "output_type": "stream",
     "text": [
      "Epoch 103/5000, Training Loss: 0.1162, Validation Loss: 5.1918\n"
     ]
    },
    {
     "name": "stderr",
     "output_type": "stream",
     "text": [
      "Training Epoch 104/5000: 100%|██████████| 10/10 [00:03<00:00,  3.32it/s, loss=0.112]\n",
      "Validation Epoch 104/5000: 100%|██████████| 10/10 [00:01<00:00,  8.97it/s, loss=4.27]\n"
     ]
    },
    {
     "name": "stdout",
     "output_type": "stream",
     "text": [
      "Epoch 104/5000, Training Loss: 0.1174, Validation Loss: 5.2074\n"
     ]
    },
    {
     "name": "stderr",
     "output_type": "stream",
     "text": [
      "Training Epoch 105/5000: 100%|██████████| 10/10 [00:02<00:00,  3.49it/s, loss=0.0619]\n",
      "Validation Epoch 105/5000: 100%|██████████| 10/10 [00:01<00:00,  9.51it/s, loss=4.31]\n"
     ]
    },
    {
     "name": "stdout",
     "output_type": "stream",
     "text": [
      "Epoch 105/5000, Training Loss: 0.1177, Validation Loss: 5.2075\n"
     ]
    },
    {
     "name": "stderr",
     "output_type": "stream",
     "text": [
      "Training Epoch 106/5000: 100%|██████████| 10/10 [00:03<00:00,  3.32it/s, loss=0.155]\n",
      "Validation Epoch 106/5000: 100%|██████████| 10/10 [00:01<00:00,  9.57it/s, loss=4.28]\n"
     ]
    },
    {
     "name": "stdout",
     "output_type": "stream",
     "text": [
      "Epoch 106/5000, Training Loss: 0.1147, Validation Loss: 5.2151\n"
     ]
    },
    {
     "name": "stderr",
     "output_type": "stream",
     "text": [
      "Training Epoch 107/5000: 100%|██████████| 10/10 [00:02<00:00,  3.37it/s, loss=0.0525]\n",
      "Validation Epoch 107/5000: 100%|██████████| 10/10 [00:01<00:00,  9.75it/s, loss=4.3]\n"
     ]
    },
    {
     "name": "stdout",
     "output_type": "stream",
     "text": [
      "Epoch 107/5000, Training Loss: 0.1185, Validation Loss: 5.2482\n"
     ]
    },
    {
     "name": "stderr",
     "output_type": "stream",
     "text": [
      "Training Epoch 108/5000: 100%|██████████| 10/10 [00:02<00:00,  3.49it/s, loss=0.144]\n"
     ]
    },
    {
     "name": "stdout",
     "output_type": "stream",
     "text": [
      "Epoch 00108: reducing learning rate of group 0 to 1.0000e-07.\n"
     ]
    },
    {
     "name": "stderr",
     "output_type": "stream",
     "text": [
      "Validation Epoch 108/5000: 100%|██████████| 10/10 [00:01<00:00,  8.92it/s, loss=4.26]\n"
     ]
    },
    {
     "name": "stdout",
     "output_type": "stream",
     "text": [
      "Epoch 108/5000, Training Loss: 0.1153, Validation Loss: 5.2153\n"
     ]
    },
    {
     "name": "stderr",
     "output_type": "stream",
     "text": [
      "Training Epoch 109/5000: 100%|██████████| 10/10 [00:02<00:00,  3.37it/s, loss=0.147]\n",
      "Validation Epoch 109/5000: 100%|██████████| 10/10 [00:01<00:00,  8.81it/s, loss=4.3]\n"
     ]
    },
    {
     "name": "stdout",
     "output_type": "stream",
     "text": [
      "Epoch 109/5000, Training Loss: 0.1202, Validation Loss: 5.2615\n"
     ]
    },
    {
     "name": "stderr",
     "output_type": "stream",
     "text": [
      "Training Epoch 110/5000: 100%|██████████| 10/10 [00:02<00:00,  3.45it/s, loss=0.0794]\n",
      "Validation Epoch 110/5000: 100%|██████████| 10/10 [00:01<00:00,  9.52it/s, loss=4.26]\n"
     ]
    },
    {
     "name": "stdout",
     "output_type": "stream",
     "text": [
      "Epoch 110/5000, Training Loss: 0.1195, Validation Loss: 5.2162\n"
     ]
    },
    {
     "name": "stderr",
     "output_type": "stream",
     "text": [
      "Training Epoch 111/5000: 100%|██████████| 10/10 [00:02<00:00,  3.42it/s, loss=0.0682]\n",
      "Validation Epoch 111/5000: 100%|██████████| 10/10 [00:01<00:00,  9.46it/s, loss=4.29]\n"
     ]
    },
    {
     "name": "stdout",
     "output_type": "stream",
     "text": [
      "Epoch 111/5000, Training Loss: 0.1177, Validation Loss: 5.2690\n"
     ]
    },
    {
     "name": "stderr",
     "output_type": "stream",
     "text": [
      "Training Epoch 112/5000: 100%|██████████| 10/10 [00:02<00:00,  3.38it/s, loss=0.121]\n",
      "Validation Epoch 112/5000: 100%|██████████| 10/10 [00:01<00:00,  9.42it/s, loss=4.28]\n"
     ]
    },
    {
     "name": "stdout",
     "output_type": "stream",
     "text": [
      "Epoch 112/5000, Training Loss: 0.1160, Validation Loss: 5.2267\n"
     ]
    },
    {
     "name": "stderr",
     "output_type": "stream",
     "text": [
      "Training Epoch 113/5000: 100%|██████████| 10/10 [00:02<00:00,  3.50it/s, loss=0.111]\n",
      "Validation Epoch 113/5000: 100%|██████████| 10/10 [00:01<00:00,  9.60it/s, loss=4.24]\n"
     ]
    },
    {
     "name": "stdout",
     "output_type": "stream",
     "text": [
      "Epoch 113/5000, Training Loss: 0.1204, Validation Loss: 5.1746\n"
     ]
    },
    {
     "name": "stderr",
     "output_type": "stream",
     "text": [
      "Training Epoch 114/5000: 100%|██████████| 10/10 [00:02<00:00,  3.54it/s, loss=0.152]\n",
      "Validation Epoch 114/5000: 100%|██████████| 10/10 [00:01<00:00,  9.61it/s, loss=4.32]\n"
     ]
    },
    {
     "name": "stdout",
     "output_type": "stream",
     "text": [
      "Epoch 114/5000, Training Loss: 0.1340, Validation Loss: 5.2896\n"
     ]
    },
    {
     "name": "stderr",
     "output_type": "stream",
     "text": [
      "Training Epoch 115/5000: 100%|██████████| 10/10 [00:02<00:00,  3.42it/s, loss=0.149]\n",
      "Validation Epoch 115/5000: 100%|██████████| 10/10 [00:01<00:00,  9.44it/s, loss=4.29]\n"
     ]
    },
    {
     "name": "stdout",
     "output_type": "stream",
     "text": [
      "Epoch 115/5000, Training Loss: 0.1177, Validation Loss: 5.2270\n"
     ]
    },
    {
     "name": "stderr",
     "output_type": "stream",
     "text": [
      "Training Epoch 116/5000: 100%|██████████| 10/10 [00:02<00:00,  3.54it/s, loss=0.0956]\n",
      "Validation Epoch 116/5000: 100%|██████████| 10/10 [00:01<00:00,  9.07it/s, loss=4.28]\n"
     ]
    },
    {
     "name": "stdout",
     "output_type": "stream",
     "text": [
      "Epoch 116/5000, Training Loss: 0.1160, Validation Loss: 5.2181\n"
     ]
    },
    {
     "name": "stderr",
     "output_type": "stream",
     "text": [
      "Training Epoch 117/5000: 100%|██████████| 10/10 [00:02<00:00,  3.39it/s, loss=0.0894]\n",
      "Validation Epoch 117/5000: 100%|██████████| 10/10 [00:01<00:00,  9.74it/s, loss=4.34]\n"
     ]
    },
    {
     "name": "stdout",
     "output_type": "stream",
     "text": [
      "Epoch 117/5000, Training Loss: 0.1221, Validation Loss: 5.2437\n"
     ]
    },
    {
     "name": "stderr",
     "output_type": "stream",
     "text": [
      "Training Epoch 118/5000:  70%|███████   | 7/10 [00:02<00:00,  3.54it/s, loss=0.118] "
     ]
    }
   ],
   "source": [
    "import os\n",
    "import re\n",
    "import random\n",
    "\n",
    "import torch\n",
    "import torch.nn as nn\n",
    "import torch.nn.functional as F\n",
    "from torch.utils.data import DataLoader, random_split\n",
    "from torch.utils.tensorboard import SummaryWriter\n",
    "from tqdm import tqdm\n",
    "\n",
    "from common.file_paths import TRAINING_DATA_DIR\n",
    "from model.dataset import MinecraftDataset\n",
    "from model.model import MinecraftStructureGenerator\n",
    "\n",
    "random.seed(0)\n",
    "torch.manual_seed(0)\n",
    "torch.cuda.manual_seed_all(0)\n",
    "\n",
    "experiment_name = 'test14'\n",
    "\n",
    "INPUT_EMBEDDING_SIZE = 1536\n",
    "NUM_CLASSES = 345\n",
    "OUTPUT_SIZE = [64, 64, 64]\n",
    "model = MinecraftStructureGenerator(INPUT_EMBEDDING_SIZE, NUM_CLASSES, OUTPUT_SIZE)\n",
    "print(model)\n",
    "print(f\"Number of parameters: {sum(p.numel() for p in model.parameters() if p.requires_grad)}\")\n",
    "\n",
    "device = torch.device(\"cuda\" if torch.cuda.is_available() else \"cpu\")\n",
    "model.to(device)\n",
    "\n",
    "optimizer = torch.optim.Adam(model.parameters(), lr=1e-3)\n",
    "scheduler = torch.optim.lr_scheduler.ReduceLROnPlateau(optimizer, 'min', factor=0.1, patience=10, verbose=True)\n",
    "\n",
    "# Define the directory where checkpoints are saved\n",
    "checkpoint_dir = f'checkpoints/{experiment_name}'\n",
    "os.makedirs(checkpoint_dir, exist_ok=True)\n",
    "\n",
    "# List all checkpoint files\n",
    "checkpoint_files = [f for f in os.listdir(checkpoint_dir) if f.startswith('checkpoint_') and f.endswith('.pth')]\n",
    "\n",
    "# Extract epochs from file names and sort them\n",
    "epochs = [int(re.search(r'checkpoint_(\\d+).pth', f).group(1)) for f in checkpoint_files]\n",
    "latest_epoch = max(epochs, default=0)  # Use default=0 to handle the case when the list is empty\n",
    "\n",
    "# Load the latest checkpoint\n",
    "if epochs:  # Check if the list is not empty\n",
    "    latest_checkpoint_file = f'checkpoint_{latest_epoch}.pth'\n",
    "    checkpoint_path = os.path.join(checkpoint_dir, latest_checkpoint_file)\n",
    "    checkpoint = torch.load(checkpoint_path)\n",
    "\n",
    "    # Restore the model and optimizer state\n",
    "    model.load_state_dict(checkpoint['model_state_dict'])\n",
    "    optimizer.load_state_dict(checkpoint['optimizer_state_dict'])\n",
    "\n",
    "    # If you saved the epoch number and loss in the checkpoint, you can restore these too\n",
    "    epoch = checkpoint['epoch']\n",
    "    loss = checkpoint['loss']\n",
    "\n",
    "    print(f\"Checkpoint '{latest_checkpoint_file}' loaded. Resuming training from epoch {epoch}.\")\n",
    "else:\n",
    "    print(\"No checkpoints found. Starting training from scratch.\")\n",
    "    epoch = 0  # Start from the first epoch\n",
    "    loss = None  # Loss will be initialized during training\n",
    "\n",
    "    # Initialize the weights of the model\n",
    "    for m in model.modules():\n",
    "        if isinstance(m, nn.Conv2d):\n",
    "            # He initialization for layers with ReLU activation\n",
    "            nn.init.kaiming_normal_(m.weight, mode='fan_out', nonlinearity='relu')\n",
    "            if m.bias is not None:\n",
    "                nn.init.constant_(m.bias, 0)\n",
    "        elif isinstance(m, nn.BatchNorm2d):\n",
    "            # Default initialization for batch normalization\n",
    "            nn.init.constant_(m.weight, 1)\n",
    "            nn.init.constant_(m.bias, 0)\n",
    "        elif isinstance(m, nn.Linear):\n",
    "            # Xavier initialization for fully connected layers\n",
    "            nn.init.xavier_normal_(m.weight)\n",
    "            nn.init.constant_(m.bias, 0)\n",
    "\n",
    "# Load the dataset from the HDF5 file\n",
    "hdf5_file = os.path.join(TRAINING_DATA_DIR, 'data.h5')\n",
    "\n",
    "# Assuming you have already defined your complete dataset\n",
    "dataset = MinecraftDataset(hdf5_file)\n",
    "\n",
    "# # Define the lengths of the splits - 80% training, 10% validation, and 10% testing\n",
    "# train_size = int(0.8 * len(dataset))\n",
    "# val_test_size = len(dataset) - train_size\n",
    "# val_size = int(0.5 * val_test_size)\n",
    "# test_size = val_test_size - val_size\n",
    "\n",
    "# # Randomly split the dataset into training, validation, and testing\n",
    "# train_dataset, val_test_dataset = random_split(dataset, [train_size, val_test_size])\n",
    "# val_dataset, test_dataset = random_split(val_test_dataset, [val_size, test_size])\n",
    "\n",
    "train_dataset, val_dataset, test_dataset, _ = random_split(dataset, [100, 100, 100, len(dataset) - 300])\n",
    "\n",
    "# Create DataLoaders for all datasets\n",
    "BATCH_SIZE = 10\n",
    "train_dataloader = DataLoader(train_dataset, batch_size=BATCH_SIZE, shuffle=True)\n",
    "val_dataloader = DataLoader(val_dataset, batch_size=BATCH_SIZE, shuffle=False)\n",
    "test_dataloader = DataLoader(test_dataset, batch_size=BATCH_SIZE, shuffle=False)\n",
    "\n",
    "# Print 1 batch of training data\n",
    "for inputs, targets, name in train_dataloader:\n",
    "    print(f\"Inputs Shape: {inputs.shape}\")\n",
    "    print(f\"Targets Shape: {targets.shape}\")\n",
    "    print(f\"Name: {name}\")\n",
    "    break\n",
    "\n",
    "# Log the model architecture to TensorBoard\n",
    "example_dataloader = DataLoader(train_dataset, batch_size=1, shuffle=True)\n",
    "example_inputs, _, _ = next(iter(example_dataloader))\n",
    "example_inputs = example_inputs.to(device)\n",
    "writer = SummaryWriter(f'runs/{experiment_name}')\n",
    "writer.add_graph(model, example_inputs)\n",
    "\n",
    "# Move the example inputs back to CPU to free up GPU memory\n",
    "example_inputs = example_inputs.to('cpu')\n",
    "del example_inputs  # Explicitly delete the example inputs\n",
    "torch.cuda.empty_cache()  # Clear the cache if necessary\n",
    "\n",
    "# Training loop\n",
    "NUM_EPOCHS = 5000\n",
    "for epoch in range(epoch, NUM_EPOCHS):\n",
    "    model.train()\n",
    "    train_loss = 0.0\n",
    "    val_loss = 0.0\n",
    "\n",
    "    train_bar = tqdm(train_dataloader, desc=f\"Training Epoch {epoch + 1}/{NUM_EPOCHS}\")\n",
    "    for inputs, targets, prompt in train_bar:\n",
    "        inputs, targets = inputs.to(device), targets.to(device)\n",
    "\n",
    "        optimizer.zero_grad()\n",
    "        logits = model(inputs)\n",
    "\n",
    "        # Bring the classes dimension to the end before flattening\n",
    "        loss = F.cross_entropy(logits, targets)\n",
    "        train_loss += loss.item()\n",
    "\n",
    "        loss.backward()\n",
    "\n",
    "        # Clip gradients\n",
    "        torch.nn.utils.clip_grad_norm_(model.parameters(), 1.0)\n",
    "\n",
    "        optimizer.step()\n",
    "\n",
    "        # Update the progress bar with the latest loss\n",
    "        train_bar.set_postfix(loss=loss.item())\n",
    "\n",
    "        # Log the loss to TensorBoard\n",
    "        writer.add_scalar('Loss/train', loss, epoch)\n",
    "\n",
    "    # Calculate average training loss for the epoch\n",
    "    train_loss /= len(train_dataloader)\n",
    "\n",
    "    scheduler.step(loss)\n",
    "\n",
    "    # Validation loop\n",
    "    val_bar = tqdm(val_dataloader, desc=f\"Validation Epoch {epoch + 1}/{NUM_EPOCHS}\")\n",
    "    model.eval()\n",
    "    with torch.no_grad():\n",
    "        for inputs, targets, _ in val_bar:\n",
    "            inputs, targets = inputs.to(device), targets.to(device)\n",
    "\n",
    "            logits = model(inputs)\n",
    "\n",
    "            loss = F.cross_entropy(logits, targets)\n",
    "            val_loss += loss.item()\n",
    "\n",
    "            # Update the progress bar with the latest loss\n",
    "            val_bar.set_postfix(loss=loss.item())\n",
    "\n",
    "            # Log the loss to TensorBoard\n",
    "            writer.add_scalar('Loss/val', loss, epoch)\n",
    "\n",
    "    # Calculate average validation loss for the epoch\n",
    "    val_loss /= len(val_dataloader)\n",
    "\n",
    "    # Print training and validation loss\n",
    "    print(f\"Epoch {epoch+1}/{NUM_EPOCHS}, Training Loss: {train_loss:.4f}, Validation Loss: {val_loss:.4f}\")\n",
    "\n",
    "    # Save checkpoint\n",
    "    if epoch % 5 == 0:\n",
    "        torch.save({\n",
    "            'epoch': epoch,\n",
    "            'model_state_dict': model.state_dict(),\n",
    "            'optimizer_state_dict': optimizer.state_dict(),\n",
    "            'loss': loss\n",
    "        }, os.path.join(checkpoint_dir, f\"checkpoint_{epoch}.pth\"))\n",
    "\n",
    "writer.close()"
   ]
  },
  {
   "cell_type": "markdown",
   "metadata": {},
   "source": [
    "Inference"
   ]
  },
  {
   "cell_type": "code",
   "execution_count": 1,
   "metadata": {},
   "outputs": [],
   "source": [
    "import os\n",
    "import re\n",
    "\n",
    "import torch\n",
    "from openai import OpenAI\n",
    "\n",
    "from common.file_paths import TRAINING_DATA_DIR\n",
    "from model.model import MinecraftStructureGenerator\n",
    "from converter.converter import RegionTensorConverter\n",
    "\n",
    "# Assuming the constants are defined as in the training script\n",
    "INPUT_EMBEDDING_SIZE = 1536\n",
    "NUM_CLASSES = 345\n",
    "OUTPUT_SIZE = [64, 64, 64]\n",
    "\n",
    "# Initialize the model\n",
    "model = MinecraftStructureGenerator(INPUT_EMBEDDING_SIZE, NUM_CLASSES, OUTPUT_SIZE)\n",
    "device = torch.device(\"cuda\" if torch.cuda.is_available() else \"cpu\")\n",
    "model.to(device)\n",
    "\n",
    "# Define the directory where checkpoints are saved\n",
    "experiment_name = 'test14'\n",
    "checkpoint_dir = f'checkpoints/{experiment_name}'\n",
    "\n",
    "# List all checkpoint files\n",
    "checkpoint_files = [f for f in os.listdir(checkpoint_dir) if f.startswith('checkpoint_') and f.endswith('.pth')]\n",
    "\n",
    "# Extract epochs from file names and sort them\n",
    "epochs = [int(re.search(r'checkpoint_(\\d+).pth', f).group(1)) for f in checkpoint_files]\n",
    "latest_epoch = max(epochs, default=0)  # Use default=0 to handle the case when the list is empty\n",
    "\n",
    "# Load the trained model weights\n",
    "latest_checkpoint_file = f'checkpoint_{latest_epoch}.pth'\n",
    "print(f\"Loading checkpoint '{latest_checkpoint_file}'...\")\n",
    "checkpoint_path = os.path.join(checkpoint_dir, latest_checkpoint_file)\n",
    "checkpoint = torch.load(checkpoint_path, map_location=torch.device('cpu'))\n",
    "model.load_state_dict(checkpoint['model_state_dict'])\n",
    "\n",
    "# Set the model to evaluation mode\n",
    "model.eval()\n",
    "\n",
    "converter = RegionTensorConverter()\n",
    "\n",
    "# Loop to take user input and perform inference\n",
    "while True:\n",
    "    user_input = input(\"Enter your text input (or type 'exit' to stop): \")\n",
    "    if user_input.lower() == 'exit':\n",
    "        break\n",
    "    print(f\"Input: {user_input}\")\n",
    "\n",
    "    # Get the embedding\n",
    "    print(\"Getting embedding...\")\n",
    "    client = OpenAI()\n",
    "    embedding = client.embeddings.create(input=user_input, model=\"text-embedding-ada-002\").data[0].embedding\n",
    "    input_tensor = torch.tensor(embedding).unsqueeze(0)  # Add batch dimension\n",
    "    input_tensor = input_tensor.float()\n",
    "    input_tensor = input_tensor.to(device)\n",
    "    print(f\"Embedding: {input_tensor.shape}\")\n",
    "\n",
    "    # Perform inference\n",
    "    with torch.no_grad():\n",
    "        print(\"Performing inference...\")\n",
    "        output = model(input_tensor)\n",
    "        print(f\"Output: {output.shape}\")\n",
    "\n",
    "    # Process result\n",
    "    predicted_tokens = torch.argmax(output, dim=1)\n",
    "    predicted_tokens = predicted_tokens.squeeze(0)\n",
    "    print(f\"Predicted Tokens: {predicted_tokens.shape}\")\n",
    "\n",
    "    # Convert the output tensor to a schematic\n",
    "    print(\"Converting output tensor to schematic...\")\n",
    "    region = converter.tensor_to_region(predicted_tokens)\n",
    "    print(\"Conversion complete.\")\n",
    "\n",
    "    # Save the schematic to a file\n",
    "    print(\"Saving schematic to file...\")\n",
    "    # try:\n",
    "    #     schematic = region.as_schematic()\n",
    "    #     schematic.save('test.litematic')\n",
    "    # except:\n",
    "    #     print(\"Failed to save litematica schematic to file.\")\n",
    "    # try:\n",
    "    #     structure_nbt = region.to_structure_nbt()\n",
    "    #     structure_nbt.save('test.nbt')\n",
    "    # except:\n",
    "    #     print(\"Failed to save NBT schematic to file.\")\n",
    "    sponge_nbt = region.to_sponge_nbt()\n",
    "    sponge_nbt.save(f'{user_input.lower().replace(\" \", \"\")}.schem')\n",
    "    print(\"Schematic saved to file.\")"
   ]
  },
  {
   "cell_type": "code",
   "execution_count": 13,
   "metadata": {},
   "outputs": [
    {
     "name": "stdout",
     "output_type": "stream",
     "text": [
      "The autoreload extension is already loaded. To reload it, use:\n",
      "  %reload_ext autoreload\n",
      "Compound({'Date': Long(1700278591692), 'WorldEdit': Compound({'Version': String('(unknown)'), 'EditingPlatform': String('enginehub:fabric'), 'Origin': IntArray([Int(0), Int(0), Int(0)]), 'Platforms': Compound({'enginehub:fabric': Compound({'Name': String('Fabric-Official'), 'Version': String('7.3.0-beta-02+e11f161')})})})})\n",
      "minecraft:air\n"
     ]
    }
   ],
   "source": [
    "%load_ext autoreload\n",
    "%autoreload 2\n",
    "\n",
    "from pathlib import Path\n",
    "\n",
    "from schempy.schematic import Block, Schematic, BlockEntity\n",
    "\n",
    "schematic = Schematic.from_file(Path('sponge.3.schem'))\n",
    "print(schematic.metadata)\n",
    "\n",
    "# Usage example\n",
    "# schematic = Schematic(width=10, height=10, length=10)\n",
    "schematic.metadata['Description'] = \"This is a schematic generated by SchemPy\"\n",
    "\n",
    "# Set a block at coordinates (x=1, y=2, z=3) to a specific value, e.g., 42\n",
    "block = Block(\"minecraft:andesite\")\n",
    "schematic.set_block(1, 2, 3, block)\n",
    "block = Block(\"minecraft:oak_planks\")\n",
    "schematic.set_block(0, 0, 0, block)\n",
    "\n",
    "# Retrieve the block value at coordinates (x=1, y=2, z=3)\n",
    "block = schematic.get_block(8, 9, 0)\n",
    "print(block)\n",
    "block_entity = BlockEntity(\"minecraft:chest\", 0, 0, 0, {\"LootTable\": \"minecraft:chests/simple_dungeon\"})\n",
    "schematic.add_block_entity(block_entity)\n",
    "\n",
    "schematic.save_to_file(Path('example.schem'), 3)"
   ]
  }
 ],
 "metadata": {
  "kernelspec": {
   "display_name": ".venv",
   "language": "python",
   "name": "python3"
  },
  "language_info": {
   "codemirror_mode": {
    "name": "ipython",
    "version": 3
   },
   "file_extension": ".py",
   "mimetype": "text/x-python",
   "name": "python",
   "nbconvert_exporter": "python",
   "pygments_lexer": "ipython3",
   "version": "3.11.4"
  }
 },
 "nbformat": 4,
 "nbformat_minor": 2
}
