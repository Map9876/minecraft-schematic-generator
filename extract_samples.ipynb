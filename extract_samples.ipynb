{
 "cells": [
  {
   "cell_type": "code",
   "execution_count": 1,
   "metadata": {},
   "outputs": [
    {
     "name": "stderr",
     "output_type": "stream",
     "text": [
      "INFO - PyMCTranslate Version 263\n"
     ]
    },
    {
     "ename": "TypeError",
     "evalue": "load_level() missing 1 required positional argument: 'path'",
     "output_type": "error",
     "traceback": [
      "\u001b[1;31m---------------------------------------------------------------------------\u001b[0m",
      "\u001b[1;31mTypeError\u001b[0m                                 Traceback (most recent call last)",
      "Cell \u001b[1;32mIn[1], line 3\u001b[0m\n\u001b[0;32m      1\u001b[0m \u001b[38;5;28;01mfrom\u001b[39;00m \u001b[38;5;21;01mdata_sampler\u001b[39;00m \u001b[38;5;28;01mimport\u001b[39;00m WorldSampler\n\u001b[0;32m      2\u001b[0m world_sampler \u001b[38;5;241m=\u001b[39m WorldSampler()\n\u001b[1;32m----> 3\u001b[0m \u001b[43mworld_sampler\u001b[49m\u001b[38;5;241;43m.\u001b[39;49m\u001b[43msample_directory\u001b[49m\u001b[43m(\u001b[49m\u001b[38;5;124;43m'\u001b[39;49m\u001b[38;5;124;43mdata/worlds/\u001b[39;49m\u001b[38;5;124;43m'\u001b[39;49m\u001b[43m)\u001b[49m\n\u001b[0;32m      4\u001b[0m \u001b[38;5;66;03m# r\"C:\\Users\\mmmfr\\AppData\\Roaming\\.minecraft\\saves\\New World (8)\"\u001b[39;00m\n",
      "File \u001b[1;32mc:\\Users\\mmmfr\\Documents\\Repositories\\minecraft-schematic-generator\\data_sampler\\world_sampler.py:142\u001b[0m, in \u001b[0;36mWorldSampler.sample_directory\u001b[1;34m(self, directory)\u001b[0m\n\u001b[0;32m    140\u001b[0m \u001b[38;5;28;01mfor\u001b[39;00m subdir \u001b[38;5;129;01min\u001b[39;00m os\u001b[38;5;241m.\u001b[39mlistdir(directory):\n\u001b[0;32m    141\u001b[0m     \u001b[38;5;28;01mif\u001b[39;00m os\u001b[38;5;241m.\u001b[39mpath\u001b[38;5;241m.\u001b[39misdir(os\u001b[38;5;241m.\u001b[39mpath\u001b[38;5;241m.\u001b[39mjoin(directory, subdir)):\n\u001b[1;32m--> 142\u001b[0m         \u001b[38;5;28;43mself\u001b[39;49m\u001b[38;5;241;43m.\u001b[39;49m\u001b[43msample_world\u001b[49m\u001b[43m(\u001b[49m\u001b[43mos\u001b[49m\u001b[38;5;241;43m.\u001b[39;49m\u001b[43mpath\u001b[49m\u001b[38;5;241;43m.\u001b[39;49m\u001b[43mjoin\u001b[49m\u001b[43m(\u001b[49m\u001b[43mdirectory\u001b[49m\u001b[43m,\u001b[49m\u001b[43m \u001b[49m\u001b[43msubdir\u001b[49m\u001b[43m)\u001b[49m\u001b[43m)\u001b[49m\n",
      "File \u001b[1;32mc:\\Users\\mmmfr\\Documents\\Repositories\\minecraft-schematic-generator\\data_sampler\\world_sampler.py:145\u001b[0m, in \u001b[0;36mWorldSampler.sample_world\u001b[1;34m(self, directory)\u001b[0m\n\u001b[0;32m    144\u001b[0m \u001b[38;5;28;01mdef\u001b[39;00m \u001b[38;5;21msample_world\u001b[39m(\u001b[38;5;28mself\u001b[39m, directory: \u001b[38;5;28mstr\u001b[39m) \u001b[38;5;241m-\u001b[39m\u001b[38;5;241m>\u001b[39m \u001b[38;5;28;01mNone\u001b[39;00m:\n\u001b[1;32m--> 145\u001b[0m     world \u001b[38;5;241m=\u001b[39m \u001b[43mamulet\u001b[49m\u001b[38;5;241;43m.\u001b[39;49m\u001b[43mload_level\u001b[49m\u001b[43m(\u001b[49m\u001b[43m)\u001b[49m\n\u001b[0;32m    147\u001b[0m     translator \u001b[38;5;241m=\u001b[39m world\u001b[38;5;241m.\u001b[39mtranslation_manager\u001b[38;5;241m.\u001b[39mget_version(\u001b[38;5;124m'\u001b[39m\u001b[38;5;124mjava\u001b[39m\u001b[38;5;124m'\u001b[39m, (\u001b[38;5;241m1\u001b[39m, \u001b[38;5;241m20\u001b[39m, \u001b[38;5;241m4\u001b[39m))\n\u001b[0;32m    149\u001b[0m     \u001b[38;5;66;03m# Load progress if it exists\u001b[39;00m\n",
      "\u001b[1;31mTypeError\u001b[0m: load_level() missing 1 required positional argument: 'path'"
     ]
    }
   ],
   "source": [
    "from data_sampler import WorldSampler\n",
    "world_sampler = WorldSampler()\n",
    "world_sampler.sample_directory('data/worlds/')\n",
    "# r\"C:\\Users\\mmmfr\\AppData\\Roaming\\.minecraft\\saves\\New World (8)\""
   ]
  },
  {
   "cell_type": "code",
   "execution_count": 5,
   "metadata": {},
   "outputs": [
    {
     "name": "stdout",
     "output_type": "stream",
     "text": [
      "8\n",
      "19\n",
      "0 11\n",
      "8 19\n"
     ]
    }
   ],
   "source": [
    "import random\n",
    "\n",
    "\n",
    "sample_size = 11\n",
    "sample_offset = 8\n",
    "last_start = 15 // sample_offset * sample_offset\n",
    "print(last_start)\n",
    "last_end = last_start + sample_size\n",
    "print(last_end)\n",
    "for i in range(0, 16, sample_offset):\n",
    "    print(i, i + sample_size)"
   ]
  },
  {
   "cell_type": "code",
   "execution_count": 1,
   "metadata": {},
   "outputs": [
    {
     "name": "stderr",
     "output_type": "stream",
     "text": [
      "INFO - PyMCTranslate Version 263\n",
      "INFO - Loading level C:\\Users\\mmmfr\\AppData\\Roaming\\.minecraft\\saves\\New World (7)\n"
     ]
    },
    {
     "name": "stdout",
     "output_type": "stream",
     "text": [
      "minecraft:polished_blackstone_bricks\n",
      "Found minecraft:polished_blackstone_bricks\n",
      "minecraft:spruce_leaves\n",
      "minecraft:quartz_slab\n",
      "Found minecraft:quartz_slab\n",
      "minecraft:oak_leaves\n",
      "minecraft:cracked_nether_bricks\n",
      "Found minecraft:cracked_nether_bricks\n",
      "minecraft:netherite_block\n",
      "minecraft:nether_brick_stairs\n",
      "Found minecraft:nether_brick_stairs\n",
      "minecraft:red_nether_bricks\n",
      "Found minecraft:red_nether_bricks\n",
      "minecraft:oak_leaves\n",
      "minecraft:polished_blackstone_brick_stairs\n",
      "Found minecraft:polished_blackstone_brick_stairs\n",
      "minecraft:stripped_warped_stem\n",
      "Found minecraft:stripped_warped_stem\n",
      "Found minecraft:stripped_warped_stem\n",
      "minecraft:end_stone_brick_wall\n",
      "Found minecraft:end_stone_brick_wall\n",
      "minecraft:warped_hyphae\n",
      "Found minecraft:warped_hyphae\n",
      "minecraft:end_rod\n",
      "Found minecraft:end_rod\n",
      "Found minecraft:end_rod\n",
      "minecraft:grass_block\n",
      "minecraft:stripped_spruce_log\n",
      "Found minecraft:stripped_spruce_log\n",
      "minecraft:purpur_block\n",
      "Found minecraft:purpur_block\n",
      "minecraft:oak_leaves\n",
      "minecraft:oak_leaves\n",
      "minecraft:mossy_cobblestone_wall\n",
      "Found minecraft:mossy_cobblestone_wall\n",
      "minecraft:chiseled_quartz_block\n",
      "Found minecraft:chiseled_quartz_block\n",
      "minecraft:polished_blackstone_brick_slab\n",
      "Found minecraft:polished_blackstone_brick_slab\n",
      "minecraft:quartz_block\n",
      "Found minecraft:quartz_block\n",
      "minecraft:oak_wood\n",
      "minecraft:air\n",
      "minecraft:honeycomb_block\n",
      "Found minecraft:honeycomb_block\n",
      "minecraft:mossy_cobblestone_stairs\n",
      "Found minecraft:mossy_cobblestone_stairs\n",
      "minecraft:warped_planks\n",
      "Found minecraft:warped_planks\n",
      "minecraft:soul_sand\n",
      "minecraft:stripped_oak_log\n",
      "Found minecraft:stripped_oak_log\n",
      "minecraft:mossy_stone_brick_stairs\n",
      "minecraft:iron_block\n",
      "Found minecraft:iron_block\n",
      "minecraft:cake\n",
      "Found minecraft:cake\n",
      "minecraft:honey_block\n",
      "Found minecraft:honey_block\n",
      "minecraft:nether_bricks\n",
      "Found minecraft:nether_bricks\n",
      "minecraft:purpur_stairs\n",
      "Found minecraft:purpur_stairs\n",
      "minecraft:quartz_bricks\n",
      "Found minecraft:quartz_bricks\n",
      "minecraft:mossy_cobblestone\n",
      "minecraft:mossy_stone_bricks\n",
      "minecraft:mossy_stone_brick_slab\n",
      "minecraft:purpur_pillar\n",
      "Found minecraft:purpur_pillar\n",
      "minecraft:shroomlight\n",
      "Found minecraft:shroomlight\n",
      "minecraft:white_concrete\n",
      "Found minecraft:white_concrete\n",
      "minecraft:end_stone_brick_slab\n",
      "Found minecraft:end_stone_brick_slab\n",
      "minecraft:birch_leaves\n",
      "minecraft:dirt\n",
      "minecraft:oak_leaves\n",
      "minecraft:warped_stairs\n",
      "Found minecraft:warped_stairs\n",
      "minecraft:slime_block\n",
      "Found minecraft:slime_block\n",
      "minecraft:soul_soil\n",
      "minecraft:scaffolding\n",
      "Found minecraft:scaffolding\n",
      "minecraft:end_stone_brick_stairs\n",
      "Found minecraft:end_stone_brick_stairs\n",
      "minecraft:mossy_stone_brick_wall\n",
      "minecraft:bedrock\n",
      "minecraft:acacia_stairs\n",
      "Found minecraft:acacia_stairs\n",
      "minecraft:mossy_cobblestone_slab\n",
      "Found minecraft:mossy_cobblestone_slab\n",
      "minecraft:purpur_slab\n",
      "Found minecraft:purpur_slab\n",
      "minecraft:end_stone_bricks\n",
      "Found minecraft:end_stone_bricks\n",
      "minecraft:oak_log\n",
      "minecraft:iron_ore\n",
      "minecraft:warped_stem\n",
      "Found minecraft:warped_stem\n",
      "minecraft:soul_campfire\n",
      "Found minecraft:soul_campfire\n",
      "minecraft:red_nether_brick_slab\n",
      "Found minecraft:red_nether_brick_slab\n",
      "minecraft:end_stone\n",
      "Found minecraft:end_stone\n",
      "minecraft:blackstone\n",
      "Found minecraft:blackstone\n",
      "minecraft:stripped_oak_wood\n",
      "Found minecraft:stripped_oak_wood\n",
      "minecraft:quartz_stairs\n",
      "Found minecraft:quartz_stairs\n",
      "minecraft:hopper\n",
      "Found minecraft:hopper\n",
      "minecraft:daylight_detector\n",
      "Found minecraft:daylight_detector\n",
      "minecraft:enchanting_table\n",
      "Found minecraft:enchanting_table\n",
      "minecraft:beacon\n",
      "Found minecraft:beacon\n"
     ]
    },
    {
     "data": {
      "text/plain": [
       "False"
      ]
     },
     "execution_count": 1,
     "metadata": {},
     "output_type": "execute_result"
    }
   ],
   "source": [
    "import amulet\n",
    "\n",
    "# List of block types we are interested in\n",
    "universal_man_made_blocks = ['beacon', 'scaffolding', 'concrete', 'slime', 'rod', 'hopper', ':iron_block',\n",
    "                             'stripped', 'honey', 'enchant', 'daylight_detector', 'mossy_cobblestone_', ':stone_brick_', 'cake', 'acacia_stairs', 'soul_campfire']\n",
    "overworld_man_made_blocks = ['nether_brick', 'glowstone', 'soulsand',\n",
    "                             'warped', 'crimson', 'quartz', 'purpur', 'end', 'shroomlight', 'blackstone', 'chorus', 'wart']\n",
    "nether_man_made_blocks = ['campfire']\n",
    "target_blocks = universal_man_made_blocks + overworld_man_made_blocks\n",
    "\n",
    "def chunk_contains_target_blocks(chunk, target_blocks, translator):\n",
    "    \"\"\"Returns True if the chunk contains any of the target blocks\"\"\"\n",
    "    for block in chunk.block_palette:\n",
    "        block, _, _ = translator.block.from_universal(block)\n",
    "        name = block.namespaced_name\n",
    "        print(name)\n",
    "        for target_block in target_blocks:\n",
    "            if target_block in name:\n",
    "                print(f\"Found {name}\")\n",
    "                # return True\n",
    "    return False\n",
    "\n",
    "# Load the world\n",
    "world = amulet.load_level(\n",
    "    r\"C:\\Users\\mmmfr\\AppData\\Roaming\\.minecraft\\saves\\New World (7)\")\n",
    "\n",
    "translator = world.translation_manager.get_version('java', (1, 20, 4))\n",
    "\n",
    "chunk = world.level_wrapper.load_chunk(0, 0, 'minecraft:overworld')\n",
    "\n",
    "chunk_contains_target_blocks(chunk, target_blocks, translator)"
   ]
  }
 ],
 "metadata": {
  "kernelspec": {
   "display_name": ".venv",
   "language": "python",
   "name": "python3"
  },
  "language_info": {
   "codemirror_mode": {
    "name": "ipython",
    "version": 3
   },
   "file_extension": ".py",
   "mimetype": "text/x-python",
   "name": "python",
   "nbconvert_exporter": "python",
   "pygments_lexer": "ipython3",
   "version": "3.11.4"
  }
 },
 "nbformat": 4,
 "nbformat_minor": 2
}
