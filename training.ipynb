{
 "cells": [
  {
   "cell_type": "code",
   "execution_count": 1,
   "metadata": {},
   "outputs": [
    {
     "name": "stderr",
     "output_type": "stream",
     "text": [
      "c:\\Users\\mmmfr\\Documents\\Repositories\\minecraft-schematic-generator\\.venv\\Lib\\site-packages\\tqdm\\auto.py:21: TqdmWarning: IProgress not found. Please update jupyter and ipywidgets. See https://ipywidgets.readthedocs.io/en/stable/user_install.html\n",
      "  from .autonotebook import tqdm as notebook_tqdm\n",
      "Seed set to 0\n"
     ]
    },
    {
     "name": "stdout",
     "output_type": "stream",
     "text": [
      "Creating new model\n"
     ]
    },
    {
     "name": "stderr",
     "output_type": "stream",
     "text": [
      "GPU available: True (cuda), used: True\n",
      "TPU available: False, using: 0 TPU cores\n",
      "IPU available: False, using: 0 IPUs\n",
      "HPU available: False, using: 0 HPUs\n"
     ]
    },
    {
     "name": "stdout",
     "output_type": "stream",
     "text": [
      "WARNING:tensorflow:From c:\\Users\\mmmfr\\Documents\\Repositories\\minecraft-schematic-generator\\.venv\\Lib\\site-packages\\keras\\src\\losses.py:2976: The name tf.losses.sparse_softmax_cross_entropy is deprecated. Please use tf.compat.v1.losses.sparse_softmax_cross_entropy instead.\n",
      "\n"
     ]
    },
    {
     "name": "stderr",
     "output_type": "stream",
     "text": [
      "LOCAL_RANK: 0 - CUDA_VISIBLE_DEVICES: [0]\n",
      "\n",
      "  | Name  | Type                                   | Params\n",
      "-----------------------------------------------------------------\n",
      "0 | model | TransformerMinecraftStructureGenerator | 110 M \n",
      "-----------------------------------------------------------------\n",
      "110 M     Trainable params\n",
      "0         Non-trainable params\n",
      "110 M     Total params\n",
      "443.707   Total estimated model params size (MB)\n"
     ]
    },
    {
     "name": "stdout",
     "output_type": "stream",
     "text": [
      "Sanity Checking DataLoader 0:   0%|          | 0/2 [00:00<?, ?it/s]"
     ]
    },
    {
     "name": "stderr",
     "output_type": "stream",
     "text": [
      "c:\\Users\\mmmfr\\Documents\\Repositories\\minecraft-schematic-generator\\.venv\\Lib\\site-packages\\lightning\\pytorch\\trainer\\connectors\\data_connector.py:441: The 'val_dataloader' does not have many workers which may be a bottleneck. Consider increasing the value of the `num_workers` argument` to `num_workers=31` in the `DataLoader` to improve performance.\n"
     ]
    },
    {
     "name": "stdout",
     "output_type": "stream",
     "text": [
      "                                                                           "
     ]
    },
    {
     "name": "stderr",
     "output_type": "stream",
     "text": [
      "c:\\Users\\mmmfr\\Documents\\Repositories\\minecraft-schematic-generator\\.venv\\Lib\\site-packages\\lightning\\pytorch\\trainer\\connectors\\data_connector.py:441: The 'train_dataloader' does not have many workers which may be a bottleneck. Consider increasing the value of the `num_workers` argument` to `num_workers=31` in the `DataLoader` to improve performance.\n"
     ]
    },
    {
     "name": "stdout",
     "output_type": "stream",
     "text": [
      "Epoch 0:   8%|▊         | 4/48 [00:02<00:22,  1.91it/s, v_num=3]"
     ]
    }
   ],
   "source": [
    "import os\n",
    "\n",
    "import torch\n",
    "from lightning.pytorch import Trainer, seed_everything\n",
    "from lightning.pytorch.callbacks import EarlyStopping, ModelCheckpoint\n",
    "from lightning.pytorch.loggers import TensorBoardLogger\n",
    "\n",
    "from common.file_paths import BASE_DIR\n",
    "from modules import (GenerateSchematicCallback,\n",
    "                     LightningTransformerMinecraftStructureGenerator,\n",
    "                     MinecraftDataModule)\n",
    "\n",
    "torch.set_float32_matmul_precision('medium')\n",
    "\n",
    "seed_everything(0, workers=True)\n",
    "\n",
    "experiment_name = \"real_run\"\n",
    "experiment_version = 0\n",
    "checkpoint_dir = \"lightning_logs\"\n",
    "\n",
    "# Load the checkpoint and create the logger\n",
    "logger = TensorBoardLogger(checkpoint_dir, name=experiment_name, version=experiment_version)\n",
    "\n",
    "# Load the model and create the trainer\n",
    "latest_checkpoint = os.path.join(checkpoint_dir, experiment_name, f'version_{experiment_version}', 'checkpoints', 'last.ckpt')\n",
    "if os.path.exists(latest_checkpoint):\n",
    "    print(f\"Loading checkpoint {latest_checkpoint}\")\n",
    "    lightning_model = LightningTransformerMinecraftStructureGenerator.load_from_checkpoint(\n",
    "        latest_checkpoint)\n",
    "else:\n",
    "    print(\"Creating new model\")\n",
    "    lightning_model = LightningTransformerMinecraftStructureGenerator(\n",
    "        num_classes=10000,\n",
    "        max_sequence_length=1331,\n",
    "        embedding_dropout=0.2,\n",
    "        model_dim=768,\n",
    "        num_heads=12,\n",
    "        num_layers=12,\n",
    "        decoder_dropout=0.2,\n",
    "        learning_rate=1e-4\n",
    "    )\n",
    "\n",
    "hdf5_file = os.path.join(BASE_DIR, 'data.h5')\n",
    "data_module = MinecraftDataModule(\n",
    "    file_path=hdf5_file,\n",
    "    batch_size=1,\n",
    "    # num_workers=4\n",
    ")\n",
    "\n",
    "# Callback to save the latest checkpoint for resuming training\n",
    "latest_checkpoint_callback = ModelCheckpoint(\n",
    "    save_last=True,\n",
    "    save_weights_only=False\n",
    ")\n",
    "# Callback to save the best model (weights only)\n",
    "best_checkpoint_callback = ModelCheckpoint(\n",
    "    filename='best-{epoch}-{val_loss:.2f}',\n",
    "    save_top_k=2,\n",
    "    monitor='val_loss',\n",
    "    mode='min',\n",
    "    save_weights_only=True\n",
    ")\n",
    "early_stop_callback = EarlyStopping(\n",
    "    monitor='val_loss',\n",
    "    patience=50,\n",
    "    mode='min'\n",
    ")\n",
    "generate_schematic_callback = GenerateSchematicCallback(\n",
    "    masked_path='schematic_viewer/public/schematics/masked/',\n",
    "    filled_path='schematic_viewer/public/schematics/filled/',\n",
    "    data_module=data_module,\n",
    "    generate_train=False,\n",
    "    generate_val=True,\n",
    "    generate_all_datasets=False,\n",
    "    generate_every_n_epochs=1,\n",
    "    temperature=0.7\n",
    ")\n",
    "\n",
    "trainer = Trainer(\n",
    "    max_epochs=5000,\n",
    "    # profiler='simple',\n",
    "    gradient_clip_val=1.0,\n",
    "    log_every_n_steps=5,\n",
    "    val_check_interval=0.1,\n",
    "    callbacks=[\n",
    "        latest_checkpoint_callback,\n",
    "        best_checkpoint_callback,\n",
    "        early_stop_callback,\n",
    "        generate_schematic_callback\n",
    "    ]\n",
    ")\n",
    "\n",
    "trainer.fit(lightning_model, datamodule=data_module)"
   ]
  }
 ],
 "metadata": {
  "kernelspec": {
   "display_name": ".venv",
   "language": "python",
   "name": "python3"
  },
  "language_info": {
   "codemirror_mode": {
    "name": "ipython",
    "version": 3
   },
   "file_extension": ".py",
   "mimetype": "text/x-python",
   "name": "python",
   "nbconvert_exporter": "python",
   "pygments_lexer": "ipython3",
   "version": "3.11.4"
  }
 },
 "nbformat": 4,
 "nbformat_minor": 2
}
