{
 "cells": [
  {
   "cell_type": "markdown",
   "metadata": {},
   "source": [
    "Hyperparameter Tuning"
   ]
  },
  {
   "cell_type": "code",
   "execution_count": 3,
   "metadata": {},
   "outputs": [
    {
     "name": "stderr",
     "output_type": "stream",
     "text": [
      "[I 2024-01-13 19:22:04,278] Using an existing study with name 'limited_blocks_spheres_increased_samples' instead of creating a new one.\n",
      "Seed set to 0\n",
      "c:\\Users\\mmmfr\\Documents\\Repositories\\minecraft-schematic-generator\\.venv\\Lib\\site-packages\\optuna\\distributions.py:700: UserWarning: The distribution is specified by [2, 4] and step=6, but the range is not divisible by `step`. It will be replaced by [2, 2].\n",
      "  warnings.warn(\n",
      "[W 2024-01-13 19:22:04,385] Trial 45 failed with parameters: {'embedding_dim': 64, 'embedding_dropout': 0.4, 'num_heads': 32, 'num_layers': 2, 'decoder_dropout': 0.1, 'learning_rate': 0.00033275115474582705} because of the following error: TypeError(\"LightningTransformerMinecraftStructureGenerator.__init__() got an unexpected keyword argument 'embedding_dim'\").\n",
      "Traceback (most recent call last):\n",
      "  File \"c:\\Users\\mmmfr\\Documents\\Repositories\\minecraft-schematic-generator\\.venv\\Lib\\site-packages\\optuna\\study\\_optimize.py\", line 200, in _run_trial\n",
      "    value_or_values = func(trial)\n",
      "                      ^^^^^^^^^^^\n",
      "  File \"C:\\Users\\mmmfr\\AppData\\Local\\Temp\\ipykernel_10980\\1385454416.py\", line 21, in objective\n",
      "    lightning_model = LightningTransformerMinecraftStructureGenerator(\n",
      "                      ^^^^^^^^^^^^^^^^^^^^^^^^^^^^^^^^^^^^^^^^^^^^^^^^\n",
      "TypeError: LightningTransformerMinecraftStructureGenerator.__init__() got an unexpected keyword argument 'embedding_dim'\n",
      "[W 2024-01-13 19:22:04,393] Trial 45 failed with value None.\n"
     ]
    }
   ],
   "source": [
    "import os\n",
    "from datetime import datetime\n",
    "\n",
    "import optuna\n",
    "import torch\n",
    "from lightning.pytorch import Trainer, seed_everything\n",
    "from lightning.pytorch.callbacks import EarlyStopping, ModelCheckpoint\n",
    "from lightning.pytorch.loggers import TensorBoardLogger\n",
    "\n",
    "from common.file_paths import BASE_DIR\n",
    "from modules import (GenerateSchematicCallback,\n",
    "                     LightningTransformerMinecraftStructureGenerator,\n",
    "                     MinecraftDataModule)\n",
    "\n",
    "torch.set_float32_matmul_precision('medium')\n",
    "\n",
    "\n",
    "def objective(trial: optuna.Trial):\n",
    "    seed_everything(0, workers=True)\n",
    "\n",
    "    lightning_model = LightningTransformerMinecraftStructureGenerator(\n",
    "        num_classes=250,\n",
    "        max_sequence_length=512,\n",
    "        embedding_dim=trial.suggest_categorical(\"embedding_dim\", [16, 32, 64]),\n",
    "        embedding_dropout=trial.suggest_float(\n",
    "            \"embedding_dropout\", 0.1, 0.4, step=0.1),\n",
    "        num_heads=trial.suggest_categorical(\"num_heads\", [8, 16, 32]),\n",
    "        num_layers=trial.suggest_int(\"num_layers\", 2, 4, 6),\n",
    "        decoder_dropout=trial.suggest_float(\n",
    "            \"decoder_dropout\", 0.1, 0.4, step=0.1),\n",
    "        freeze_encoder=True,\n",
    "        learning_rate=trial.suggest_float(\n",
    "            \"learning_rate\", 1e-5, 1e-3, log=True)\n",
    "    )\n",
    "\n",
    "    hdf5_file = os.path.join(BASE_DIR, 'data.h5')\n",
    "    data_module = MinecraftDataModule(\n",
    "        file_path=hdf5_file,\n",
    "        batch_size=trial.suggest_categorical(\"batch_size\", [32, 64, 128]),\n",
    "    )\n",
    "\n",
    "    logger = TensorBoardLogger(\n",
    "        'lightning_logs', name='minecraft_structure_generator', log_graph=False)\n",
    "    checkpoint_callback = ModelCheckpoint(\n",
    "        monitor='val_loss',\n",
    "        mode='min',\n",
    "        save_last=True,\n",
    "        save_weights_only=True\n",
    "    )\n",
    "    early_stop_callback = EarlyStopping(\n",
    "        monitor='val_loss',\n",
    "        patience=20,\n",
    "        verbose=True,\n",
    "        mode='min'\n",
    "    )\n",
    "    generate_schematic_callback = GenerateSchematicCallback(\n",
    "        save_path='schematic_viewer/public/schematics/',\n",
    "        data_module=data_module,\n",
    "        generate_train=False,\n",
    "        generate_val=True,\n",
    "        generate_all_datasets=False,\n",
    "        generate_every_n_epochs=10\n",
    "    )\n",
    "\n",
    "    trainer = Trainer(\n",
    "        max_epochs=5000,\n",
    "        logger=logger,\n",
    "        gradient_clip_val=1.0,\n",
    "        log_every_n_steps=5,\n",
    "        callbacks=[\n",
    "            checkpoint_callback,\n",
    "            early_stop_callback,\n",
    "            generate_schematic_callback\n",
    "        ]\n",
    "    )\n",
    "\n",
    "    trainer.fit(lightning_model, datamodule=data_module)\n",
    "\n",
    "    best_score = checkpoint_callback.best_model_score\n",
    "    if best_score is not None:\n",
    "        return best_score.item()\n",
    "    elif \"val_loss\" in trainer.callback_metrics:\n",
    "        return trainer.callback_metrics[\"val_loss\"].item()\n",
    "    else:\n",
    "        return 0.25\n",
    "\n",
    "\n",
    "study_name = \"limited_blocks_spheres_increased_samples\"\n",
    "# study_name = f\"study_{datetime.now().strftime('%Y%m%d%H%M%S')}\"\n",
    "study = optuna.create_study(direction='minimize', study_name=study_name,\n",
    "                            storage='sqlite:///studies.db', load_if_exists=True)\n",
    "study.optimize(objective, n_trials=100)\n",
    "\n",
    "print(\"Best hyperparameters:\", study.best_trial.params)"
   ]
  },
  {
   "cell_type": "code",
   "execution_count": 1,
   "metadata": {},
   "outputs": [
    {
     "name": "stderr",
     "output_type": "stream",
     "text": [
      "c:\\Users\\mmmfr\\Documents\\Repositories\\minecraft-schematic-generator\\.venv\\Lib\\site-packages\\tqdm\\auto.py:21: TqdmWarning: IProgress not found. Please update jupyter and ipywidgets. See https://ipywidgets.readthedocs.io/en/stable/user_install.html\n",
      "  from .autonotebook import tqdm as notebook_tqdm\n",
      "Seed set to 0\n",
      "GPU available: True (cuda), used: True\n",
      "TPU available: False, using: 0 TPU cores\n",
      "IPU available: False, using: 0 IPUs\n",
      "HPU available: False, using: 0 HPUs\n"
     ]
    },
    {
     "name": "stdout",
     "output_type": "stream",
     "text": [
      "WARNING:tensorflow:From c:\\Users\\mmmfr\\Documents\\Repositories\\minecraft-schematic-generator\\.venv\\Lib\\site-packages\\keras\\src\\losses.py:2976: The name tf.losses.sparse_softmax_cross_entropy is deprecated. Please use tf.compat.v1.losses.sparse_softmax_cross_entropy instead.\n",
      "\n"
     ]
    },
    {
     "name": "stderr",
     "output_type": "stream",
     "text": [
      "LOCAL_RANK: 0 - CUDA_VISIBLE_DEVICES: [0]\n",
      "\n",
      "  | Name  | Type                                   | Params\n",
      "-----------------------------------------------------------------\n",
      "0 | model | TransformerMinecraftStructureGenerator | 110 M \n",
      "-----------------------------------------------------------------\n",
      "110 M     Trainable params\n",
      "0         Non-trainable params\n",
      "110 M     Total params\n",
      "443.707   Total estimated model params size (MB)\n"
     ]
    },
    {
     "name": "stdout",
     "output_type": "stream",
     "text": [
      "Sanity Checking DataLoader 0:   0%|          | 0/2 [00:00<?, ?it/s]"
     ]
    },
    {
     "name": "stderr",
     "output_type": "stream",
     "text": [
      "c:\\Users\\mmmfr\\Documents\\Repositories\\minecraft-schematic-generator\\.venv\\Lib\\site-packages\\lightning\\pytorch\\trainer\\connectors\\data_connector.py:441: The 'val_dataloader' does not have many workers which may be a bottleneck. Consider increasing the value of the `num_workers` argument` to `num_workers=31` in the `DataLoader` to improve performance.\n"
     ]
    },
    {
     "name": "stdout",
     "output_type": "stream",
     "text": [
      "                                                                           "
     ]
    },
    {
     "name": "stderr",
     "output_type": "stream",
     "text": [
      "c:\\Users\\mmmfr\\Documents\\Repositories\\minecraft-schematic-generator\\.venv\\Lib\\site-packages\\lightning\\pytorch\\trainer\\connectors\\data_connector.py:441: The 'train_dataloader' does not have many workers which may be a bottleneck. Consider increasing the value of the `num_workers` argument` to `num_workers=31` in the `DataLoader` to improve performance.\n"
     ]
    },
    {
     "name": "stdout",
     "output_type": "stream",
     "text": [
      "Epoch 0: 100%|██████████| 621/621 [08:31<00:00,  1.21it/s, v_num=67]"
     ]
    },
    {
     "name": "stderr",
     "output_type": "stream",
     "text": [
      "Metric val_loss improved. New best score: 1.129\n"
     ]
    },
    {
     "name": "stdout",
     "output_type": "stream",
     "text": [
      "Epoch 1: 100%|██████████| 621/621 [08:38<00:00,  1.20it/s, v_num=67]"
     ]
    },
    {
     "name": "stderr",
     "output_type": "stream",
     "text": [
      "Metric val_loss improved by 0.170 >= min_delta = 0.0. New best score: 0.959\n"
     ]
    },
    {
     "name": "stdout",
     "output_type": "stream",
     "text": [
      "Epoch 2: 100%|██████████| 621/621 [08:28<00:00,  1.22it/s, v_num=67]"
     ]
    },
    {
     "name": "stderr",
     "output_type": "stream",
     "text": [
      "Metric val_loss improved by 0.080 >= min_delta = 0.0. New best score: 0.879\n"
     ]
    },
    {
     "name": "stdout",
     "output_type": "stream",
     "text": [
      "Epoch 3: 100%|██████████| 621/621 [08:29<00:00,  1.22it/s, v_num=67]"
     ]
    },
    {
     "name": "stderr",
     "output_type": "stream",
     "text": [
      "Metric val_loss improved by 0.022 >= min_delta = 0.0. New best score: 0.857\n"
     ]
    },
    {
     "name": "stdout",
     "output_type": "stream",
     "text": [
      "Epoch 7: 100%|██████████| 621/621 [08:28<00:00,  1.22it/s, v_num=67]"
     ]
    },
    {
     "name": "stderr",
     "output_type": "stream",
     "text": [
      "Metric val_loss improved by 0.013 >= min_delta = 0.0. New best score: 0.844\n"
     ]
    },
    {
     "name": "stdout",
     "output_type": "stream",
     "text": [
      "Epoch 11: 100%|██████████| 621/621 [09:45<00:00,  1.06it/s, v_num=67]"
     ]
    },
    {
     "name": "stderr",
     "output_type": "stream",
     "text": [
      "Metric val_loss improved by 0.001 >= min_delta = 0.0. New best score: 0.842\n"
     ]
    },
    {
     "name": "stdout",
     "output_type": "stream",
     "text": [
      "Epoch 14: 100%|██████████| 621/621 [08:33<00:00,  1.21it/s, v_num=67]"
     ]
    },
    {
     "name": "stderr",
     "output_type": "stream",
     "text": [
      "Metric val_loss improved by 0.036 >= min_delta = 0.0. New best score: 0.806\n"
     ]
    },
    {
     "name": "stdout",
     "output_type": "stream",
     "text": [
      "Epoch 18: 100%|██████████| 621/621 [14:22<00:00,  0.72it/s, v_num=67]"
     ]
    },
    {
     "name": "stderr",
     "output_type": "stream",
     "text": [
      "Metric val_loss improved by 0.034 >= min_delta = 0.0. New best score: 0.772\n"
     ]
    },
    {
     "name": "stdout",
     "output_type": "stream",
     "text": [
      "Epoch 25: 100%|██████████| 621/621 [08:41<00:00,  1.19it/s, v_num=67]"
     ]
    },
    {
     "name": "stderr",
     "output_type": "stream",
     "text": [
      "Metric val_loss improved by 0.004 >= min_delta = 0.0. New best score: 0.768\n"
     ]
    },
    {
     "name": "stdout",
     "output_type": "stream",
     "text": [
      "Epoch 42: 100%|██████████| 621/621 [07:29<00:00,  1.38it/s, v_num=67]"
     ]
    },
    {
     "name": "stderr",
     "output_type": "stream",
     "text": [
      "Metric val_loss improved by 0.027 >= min_delta = 0.0. New best score: 0.741\n"
     ]
    },
    {
     "name": "stdout",
     "output_type": "stream",
     "text": [
      "Epoch 55: 100%|██████████| 621/621 [07:29<00:00,  1.38it/s, v_num=67]"
     ]
    },
    {
     "name": "stderr",
     "output_type": "stream",
     "text": [
      "Metric val_loss improved by 0.017 >= min_delta = 0.0. New best score: 0.724\n"
     ]
    },
    {
     "name": "stdout",
     "output_type": "stream",
     "text": [
      "Epoch 58: 100%|██████████| 621/621 [07:27<00:00,  1.39it/s, v_num=67]"
     ]
    },
    {
     "name": "stderr",
     "output_type": "stream",
     "text": [
      "Metric val_loss improved by 0.028 >= min_delta = 0.0. New best score: 0.696\n"
     ]
    },
    {
     "name": "stdout",
     "output_type": "stream",
     "text": [
      "Epoch 84: 100%|██████████| 621/621 [07:57<00:00,  1.30it/s, v_num=67]Epoch 00085: reducing learning rate of group 0 to 5.0000e-05.\n",
      "Epoch 88: 100%|██████████| 621/621 [07:20<00:00,  1.41it/s, v_num=67]"
     ]
    },
    {
     "name": "stderr",
     "output_type": "stream",
     "text": [
      "Metric val_loss improved by 0.021 >= min_delta = 0.0. New best score: 0.675\n"
     ]
    },
    {
     "name": "stdout",
     "output_type": "stream",
     "text": [
      "Epoch 110: 100%|██████████| 621/621 [07:45<00:00,  1.33it/s, v_num=67]"
     ]
    },
    {
     "name": "stderr",
     "output_type": "stream",
     "text": [
      "Metric val_loss improved by 0.031 >= min_delta = 0.0. New best score: 0.644\n"
     ]
    },
    {
     "name": "stdout",
     "output_type": "stream",
     "text": [
      "Epoch 130: 100%|██████████| 621/621 [09:10<00:00,  1.13it/s, v_num=67]"
     ]
    },
    {
     "name": "stderr",
     "output_type": "stream",
     "text": [
      "Metric val_loss improved by 0.015 >= min_delta = 0.0. New best score: 0.629\n"
     ]
    },
    {
     "name": "stdout",
     "output_type": "stream",
     "text": [
      "Epoch 140:  34%|███▎      | 209/621 [02:56<05:47,  1.19it/s, v_num=67]"
     ]
    }
   ],
   "source": [
    "import os\n",
    "\n",
    "import torch\n",
    "from lightning.pytorch import Trainer, seed_everything\n",
    "from lightning.pytorch.callbacks import EarlyStopping, ModelCheckpoint\n",
    "from lightning.pytorch.loggers import TensorBoardLogger\n",
    "\n",
    "from common.file_paths import BASE_DIR\n",
    "from modules import (GenerateSchematicCallback,\n",
    "                     LightningTransformerMinecraftStructureGenerator,\n",
    "                     MinecraftDataModule)\n",
    "\n",
    "torch.set_float32_matmul_precision('medium')\n",
    "\n",
    "seed_everything(0, workers=True)\n",
    "\n",
    "lightning_model = LightningTransformerMinecraftStructureGenerator(\n",
    "    num_classes=10000,\n",
    "    max_sequence_length=1331,\n",
    "    embedding_dropout=0.2,\n",
    "    model_dim=768,\n",
    "    num_heads=12,\n",
    "    num_layers=12,\n",
    "    decoder_dropout=0.2,\n",
    "    learning_rate=1e-4\n",
    ")\n",
    "# lightning_model = LightningTransformerMinecraftStructureGenerator.load_from_checkpoint(\n",
    "#     'lightning_logs/version_55/checkpoints/last.ckpt')\n",
    "\n",
    "hdf5_file = os.path.join(BASE_DIR, 'data.h5')\n",
    "data_module = MinecraftDataModule(\n",
    "    file_path=hdf5_file,\n",
    "    batch_size=6,\n",
    "    # num_workers=4\n",
    ")\n",
    "\n",
    "logger = TensorBoardLogger(\n",
    "    'lightning_logs', name='minecraft_structure_generator', log_graph=False)\n",
    "checkpoint_callback = ModelCheckpoint(\n",
    "    monitor='val_loss',\n",
    "    mode='min',\n",
    "    save_last=True,\n",
    "    save_weights_only=False,\n",
    "    save_top_k=2\n",
    ")\n",
    "early_stop_callback = EarlyStopping(\n",
    "    monitor='val_loss',\n",
    "    patience=50,\n",
    "    verbose=True,\n",
    "    mode='min'\n",
    ")\n",
    "generate_schematic_callback = GenerateSchematicCallback(\n",
    "    masked_path='schematic_viewer/public/schematics/masked/',\n",
    "    filled_path='schematic_viewer/public/schematics/filled/',\n",
    "    data_module=data_module,\n",
    "    generate_train=False,\n",
    "    generate_val=True,\n",
    "    generate_all_datasets=False,\n",
    "    generate_every_n_epochs=1,\n",
    "    temperature=0.7\n",
    ")\n",
    "\n",
    "trainer = Trainer(\n",
    "    max_epochs=5000,\n",
    "    # profiler='simple',\n",
    "    gradient_clip_val=1.0,\n",
    "    log_every_n_steps=5,\n",
    "    callbacks=[\n",
    "        checkpoint_callback,\n",
    "        early_stop_callback,\n",
    "        generate_schematic_callback\n",
    "    ]\n",
    ")\n",
    "\n",
    "# lightning_model.trainer = trainer\n",
    "\n",
    "# # Set the new learning rate\n",
    "# lightning_model.learning_rate = 1e-3  # Set the new learning rate\n",
    "\n",
    "# # Recreate the optimizers and schedulers\n",
    "# optimizers_and_schedulers = lightning_model.configure_optimizers()\n",
    "\n",
    "# # Assign the recreated optimizers and schedulers to the trainer\n",
    "# lightning_model.trainer.optimizers = [optimizers_and_schedulers['optimizer']]\n",
    "# lightning_model.trainer.lr_schedulers = [optimizers_and_schedulers['lr_scheduler']]\n",
    "\n",
    "trainer.fit(lightning_model, datamodule=data_module)"
   ]
  },
  {
   "cell_type": "code",
   "execution_count": null,
   "metadata": {},
   "outputs": [
    {
     "name": "stderr",
     "output_type": "stream",
     "text": [
      "c:\\Users\\mmmfr\\Documents\\Repositories\\minecraft-schematic-generator\\.venv\\Lib\\site-packages\\tqdm\\auto.py:21: TqdmWarning: IProgress not found. Please update jupyter and ipywidgets. See https://ipywidgets.readthedocs.io/en/stable/user_install.html\n",
      "  from .autonotebook import tqdm as notebook_tqdm\n",
      "Seed set to 0\n",
      "GPU available: True (cuda), used: True\n",
      "TPU available: False, using: 0 TPU cores\n",
      "IPU available: False, using: 0 IPUs\n",
      "HPU available: False, using: 0 HPUs\n"
     ]
    },
    {
     "name": "stdout",
     "output_type": "stream",
     "text": [
      "WARNING:tensorflow:From c:\\Users\\mmmfr\\Documents\\Repositories\\minecraft-schematic-generator\\.venv\\Lib\\site-packages\\keras\\src\\losses.py:2976: The name tf.losses.sparse_softmax_cross_entropy is deprecated. Please use tf.compat.v1.losses.sparse_softmax_cross_entropy instead.\n",
      "\n"
     ]
    },
    {
     "name": "stderr",
     "output_type": "stream",
     "text": [
      "LOCAL_RANK: 0 - CUDA_VISIBLE_DEVICES: [0]\n",
      "\n",
      "  | Name | Type | Params\n",
      "------------------------------\n",
      "0 | vae  | VAE  | 102 M \n",
      "------------------------------\n",
      "102 M     Trainable params\n",
      "0         Non-trainable params\n",
      "102 M     Total params\n",
      "410.976   Total estimated model params size (MB)\n"
     ]
    },
    {
     "name": "stdout",
     "output_type": "stream",
     "text": [
      "Sanity Checking DataLoader 0:   0%|          | 0/2 [00:00<?, ?it/s]"
     ]
    },
    {
     "name": "stderr",
     "output_type": "stream",
     "text": [
      "c:\\Users\\mmmfr\\Documents\\Repositories\\minecraft-schematic-generator\\.venv\\Lib\\site-packages\\lightning\\pytorch\\trainer\\connectors\\data_connector.py:441: The 'val_dataloader' does not have many workers which may be a bottleneck. Consider increasing the value of the `num_workers` argument` to `num_workers=31` in the `DataLoader` to improve performance.\n"
     ]
    },
    {
     "name": "stdout",
     "output_type": "stream",
     "text": [
      "                                                                           "
     ]
    },
    {
     "name": "stderr",
     "output_type": "stream",
     "text": [
      "c:\\Users\\mmmfr\\Documents\\Repositories\\minecraft-schematic-generator\\.venv\\Lib\\site-packages\\lightning\\pytorch\\trainer\\connectors\\data_connector.py:441: The 'train_dataloader' does not have many workers which may be a bottleneck. Consider increasing the value of the `num_workers` argument` to `num_workers=31` in the `DataLoader` to improve performance.\n"
     ]
    },
    {
     "name": "stdout",
     "output_type": "stream",
     "text": [
      "Epoch 0: 100%|██████████| 42/42 [00:05<00:00,  8.12it/s, v_num=21]"
     ]
    },
    {
     "name": "stderr",
     "output_type": "stream",
     "text": [
      "Metric val_loss improved. New best score: 25804.637\n"
     ]
    },
    {
     "name": "stdout",
     "output_type": "stream",
     "text": [
      "Epoch 1: 100%|██████████| 42/42 [00:05<00:00,  8.24it/s, v_num=21]"
     ]
    },
    {
     "name": "stderr",
     "output_type": "stream",
     "text": [
      "Metric val_loss improved by 3963.539 >= min_delta = 0.0. New best score: 21841.098\n"
     ]
    },
    {
     "name": "stdout",
     "output_type": "stream",
     "text": [
      "Epoch 2: 100%|██████████| 42/42 [00:05<00:00,  8.00it/s, v_num=21]"
     ]
    },
    {
     "name": "stderr",
     "output_type": "stream",
     "text": [
      "Metric val_loss improved by 16292.732 >= min_delta = 0.0. New best score: 5548.365\n"
     ]
    },
    {
     "name": "stdout",
     "output_type": "stream",
     "text": [
      "Epoch 3: 100%|██████████| 42/42 [00:05<00:00,  7.72it/s, v_num=21]"
     ]
    },
    {
     "name": "stderr",
     "output_type": "stream",
     "text": [
      "Metric val_loss improved by 3058.820 >= min_delta = 0.0. New best score: 2489.545\n"
     ]
    },
    {
     "name": "stdout",
     "output_type": "stream",
     "text": [
      "Epoch 4: 100%|██████████| 42/42 [00:05<00:00,  7.67it/s, v_num=21]"
     ]
    },
    {
     "name": "stderr",
     "output_type": "stream",
     "text": [
      "Metric val_loss improved by 2420.658 >= min_delta = 0.0. New best score: 68.887\n"
     ]
    },
    {
     "name": "stdout",
     "output_type": "stream",
     "text": [
      "Epoch 5: 100%|██████████| 42/42 [00:05<00:00,  8.16it/s, v_num=21]"
     ]
    },
    {
     "name": "stderr",
     "output_type": "stream",
     "text": [
      "Metric val_loss improved by 57.936 >= min_delta = 0.0. New best score: 10.951\n"
     ]
    },
    {
     "name": "stdout",
     "output_type": "stream",
     "text": [
      "Epoch 6: 100%|██████████| 42/42 [00:05<00:00,  8.20it/s, v_num=21]"
     ]
    },
    {
     "name": "stderr",
     "output_type": "stream",
     "text": [
      "Metric val_loss improved by 4.765 >= min_delta = 0.0. New best score: 6.186\n"
     ]
    },
    {
     "name": "stdout",
     "output_type": "stream",
     "text": [
      "Epoch 7: 100%|██████████| 42/42 [00:05<00:00,  8.10it/s, v_num=21]"
     ]
    },
    {
     "name": "stderr",
     "output_type": "stream",
     "text": [
      "Metric val_loss improved by 4.634 >= min_delta = 0.0. New best score: 1.552\n"
     ]
    },
    {
     "name": "stdout",
     "output_type": "stream",
     "text": [
      "Epoch 8: 100%|██████████| 42/42 [00:05<00:00,  8.14it/s, v_num=21]"
     ]
    },
    {
     "name": "stderr",
     "output_type": "stream",
     "text": [
      "Metric val_loss improved by 0.976 >= min_delta = 0.0. New best score: 0.575\n"
     ]
    },
    {
     "name": "stdout",
     "output_type": "stream",
     "text": [
      "Epoch 9: 100%|██████████| 42/42 [00:05<00:00,  8.12it/s, v_num=21]"
     ]
    },
    {
     "name": "stderr",
     "output_type": "stream",
     "text": [
      "Metric val_loss improved by 0.106 >= min_delta = 0.0. New best score: 0.470\n"
     ]
    },
    {
     "name": "stdout",
     "output_type": "stream",
     "text": [
      "Epoch 10: 100%|██████████| 42/42 [00:05<00:00,  8.24it/s, v_num=21]"
     ]
    },
    {
     "name": "stderr",
     "output_type": "stream",
     "text": [
      "Metric val_loss improved by 0.109 >= min_delta = 0.0. New best score: 0.361\n"
     ]
    },
    {
     "name": "stdout",
     "output_type": "stream",
     "text": [
      "Epoch 11: 100%|██████████| 42/42 [00:05<00:00,  8.07it/s, v_num=21]"
     ]
    },
    {
     "name": "stderr",
     "output_type": "stream",
     "text": [
      "Metric val_loss improved by 0.031 >= min_delta = 0.0. New best score: 0.330\n"
     ]
    },
    {
     "name": "stdout",
     "output_type": "stream",
     "text": [
      "Epoch 12: 100%|██████████| 42/42 [00:05<00:00,  8.03it/s, v_num=21]"
     ]
    },
    {
     "name": "stderr",
     "output_type": "stream",
     "text": [
      "Metric val_loss improved by 0.025 >= min_delta = 0.0. New best score: 0.304\n"
     ]
    },
    {
     "name": "stdout",
     "output_type": "stream",
     "text": [
      "Epoch 15: 100%|██████████| 42/42 [00:05<00:00,  7.92it/s, v_num=21]"
     ]
    },
    {
     "name": "stderr",
     "output_type": "stream",
     "text": [
      "Metric val_loss improved by 0.013 >= min_delta = 0.0. New best score: 0.291\n"
     ]
    },
    {
     "name": "stdout",
     "output_type": "stream",
     "text": [
      "Epoch 16: 100%|██████████| 42/42 [00:05<00:00,  8.05it/s, v_num=21]"
     ]
    },
    {
     "name": "stderr",
     "output_type": "stream",
     "text": [
      "Metric val_loss improved by 0.005 >= min_delta = 0.0. New best score: 0.287\n"
     ]
    },
    {
     "name": "stdout",
     "output_type": "stream",
     "text": [
      "Epoch 18: 100%|██████████| 42/42 [00:05<00:00,  7.97it/s, v_num=21]"
     ]
    },
    {
     "name": "stderr",
     "output_type": "stream",
     "text": [
      "Metric val_loss improved by 0.005 >= min_delta = 0.0. New best score: 0.281\n"
     ]
    },
    {
     "name": "stdout",
     "output_type": "stream",
     "text": [
      "Epoch 23: 100%|██████████| 42/42 [00:05<00:00,  8.08it/s, v_num=21]"
     ]
    },
    {
     "name": "stderr",
     "output_type": "stream",
     "text": [
      "Metric val_loss improved by 0.003 >= min_delta = 0.0. New best score: 0.278\n"
     ]
    },
    {
     "name": "stdout",
     "output_type": "stream",
     "text": [
      "Epoch 25: 100%|██████████| 42/42 [00:05<00:00,  8.08it/s, v_num=21]"
     ]
    },
    {
     "name": "stderr",
     "output_type": "stream",
     "text": [
      "Metric val_loss improved by 0.000 >= min_delta = 0.0. New best score: 0.277\n"
     ]
    },
    {
     "name": "stdout",
     "output_type": "stream",
     "text": [
      "Epoch 26: 100%|██████████| 42/42 [00:05<00:00,  7.88it/s, v_num=21]"
     ]
    },
    {
     "name": "stderr",
     "output_type": "stream",
     "text": [
      "Metric val_loss improved by 0.001 >= min_delta = 0.0. New best score: 0.276\n"
     ]
    },
    {
     "name": "stdout",
     "output_type": "stream",
     "text": [
      "Epoch 32: 100%|██████████| 42/42 [00:05<00:00,  7.91it/s, v_num=21]Epoch 00033: reducing learning rate of group 0 to 5.0000e-04.\n",
      "Epoch 36: 100%|██████████| 42/42 [00:05<00:00,  7.88it/s, v_num=21]"
     ]
    },
    {
     "name": "stderr",
     "output_type": "stream",
     "text": [
      "Metric val_loss improved by 0.004 >= min_delta = 0.0. New best score: 0.272\n"
     ]
    },
    {
     "name": "stdout",
     "output_type": "stream",
     "text": [
      "Epoch 38: 100%|██████████| 42/42 [00:05<00:00,  8.06it/s, v_num=21]"
     ]
    },
    {
     "name": "stderr",
     "output_type": "stream",
     "text": [
      "Metric val_loss improved by 0.000 >= min_delta = 0.0. New best score: 0.272\n"
     ]
    },
    {
     "name": "stdout",
     "output_type": "stream",
     "text": [
      "Epoch 39: 100%|██████████| 42/42 [00:05<00:00,  7.68it/s, v_num=21]"
     ]
    },
    {
     "name": "stderr",
     "output_type": "stream",
     "text": [
      "Metric val_loss improved by 0.000 >= min_delta = 0.0. New best score: 0.272\n"
     ]
    },
    {
     "name": "stdout",
     "output_type": "stream",
     "text": [
      "Epoch 41: 100%|██████████| 42/42 [00:05<00:00,  7.72it/s, v_num=21]"
     ]
    },
    {
     "name": "stderr",
     "output_type": "stream",
     "text": [
      "Metric val_loss improved by 0.001 >= min_delta = 0.0. New best score: 0.271\n"
     ]
    },
    {
     "name": "stdout",
     "output_type": "stream",
     "text": [
      "Epoch 44: 100%|██████████| 42/42 [00:05<00:00,  7.87it/s, v_num=21]"
     ]
    },
    {
     "name": "stderr",
     "output_type": "stream",
     "text": [
      "Metric val_loss improved by 0.000 >= min_delta = 0.0. New best score: 0.271\n"
     ]
    },
    {
     "name": "stdout",
     "output_type": "stream",
     "text": [
      "Epoch 45: 100%|██████████| 42/42 [00:05<00:00,  8.20it/s, v_num=21]"
     ]
    },
    {
     "name": "stderr",
     "output_type": "stream",
     "text": [
      "Metric val_loss improved by 0.000 >= min_delta = 0.0. New best score: 0.270\n"
     ]
    },
    {
     "name": "stdout",
     "output_type": "stream",
     "text": [
      "Epoch 46: 100%|██████████| 42/42 [00:05<00:00,  8.12it/s, v_num=21]"
     ]
    },
    {
     "name": "stderr",
     "output_type": "stream",
     "text": [
      "Metric val_loss improved by 0.000 >= min_delta = 0.0. New best score: 0.270\n"
     ]
    },
    {
     "name": "stdout",
     "output_type": "stream",
     "text": [
      "Epoch 52: 100%|██████████| 42/42 [00:05<00:00,  7.75it/s, v_num=21]Epoch 00053: reducing learning rate of group 0 to 2.5000e-04.\n",
      "Epoch 55: 100%|██████████| 42/42 [00:05<00:00,  7.85it/s, v_num=21]"
     ]
    },
    {
     "name": "stderr",
     "output_type": "stream",
     "text": [
      "Metric val_loss improved by 0.000 >= min_delta = 0.0. New best score: 0.270\n"
     ]
    },
    {
     "name": "stdout",
     "output_type": "stream",
     "text": [
      "Epoch 57: 100%|██████████| 42/42 [00:05<00:00,  8.19it/s, v_num=21]"
     ]
    },
    {
     "name": "stderr",
     "output_type": "stream",
     "text": [
      "Metric val_loss improved by 0.000 >= min_delta = 0.0. New best score: 0.270\n"
     ]
    },
    {
     "name": "stdout",
     "output_type": "stream",
     "text": [
      "Epoch 63: 100%|██████████| 42/42 [00:05<00:00,  7.97it/s, v_num=21]Epoch 00064: reducing learning rate of group 0 to 1.2500e-04.\n",
      "Epoch 65: 100%|██████████| 42/42 [00:05<00:00,  8.16it/s, v_num=21]"
     ]
    },
    {
     "name": "stderr",
     "output_type": "stream",
     "text": [
      "Metric val_loss improved by 0.000 >= min_delta = 0.0. New best score: 0.270\n"
     ]
    },
    {
     "name": "stdout",
     "output_type": "stream",
     "text": [
      "Epoch 66: 100%|██████████| 42/42 [00:05<00:00,  8.16it/s, v_num=21]"
     ]
    },
    {
     "name": "stderr",
     "output_type": "stream",
     "text": [
      "Metric val_loss improved by 0.000 >= min_delta = 0.0. New best score: 0.270\n"
     ]
    },
    {
     "name": "stdout",
     "output_type": "stream",
     "text": [
      "Epoch 72: 100%|██████████| 42/42 [00:05<00:00,  8.05it/s, v_num=21]Epoch 00073: reducing learning rate of group 0 to 6.2500e-05.\n",
      "Epoch 78: 100%|██████████| 42/42 [00:05<00:00,  8.23it/s, v_num=21]Epoch 00079: reducing learning rate of group 0 to 3.1250e-05.\n",
      "Epoch 84: 100%|██████████| 42/42 [00:05<00:00,  8.20it/s, v_num=21]Epoch 00085: reducing learning rate of group 0 to 1.5625e-05.\n",
      "Epoch 86: 100%|██████████| 42/42 [00:04<00:00,  8.41it/s, v_num=21]"
     ]
    },
    {
     "name": "stderr",
     "output_type": "stream",
     "text": [
      "Monitored metric val_loss did not improve in the last 20 records. Best score: 0.270. Signaling Trainer to stop.\n"
     ]
    },
    {
     "name": "stdout",
     "output_type": "stream",
     "text": [
      "Epoch 86: 100%|██████████| 42/42 [00:05<00:00,  7.55it/s, v_num=21]\n"
     ]
    }
   ],
   "source": [
    "import os\n",
    "\n",
    "import torch\n",
    "from lightning.pytorch import Trainer, seed_everything\n",
    "from lightning.pytorch.callbacks import EarlyStopping, ModelCheckpoint\n",
    "from lightning.pytorch.loggers import TensorBoardLogger\n",
    "\n",
    "from common.file_paths import BASE_DIR\n",
    "from model import VAE\n",
    "from modules import (GenerateSchematicCallback, MinecraftDataModule,\n",
    "                     VAELightningModule)\n",
    "\n",
    "torch.set_float32_matmul_precision('medium')\n",
    "\n",
    "seed_everything(0, workers=True)\n",
    "\n",
    "vae = VAE(num_classes=256)\n",
    "lightning_model = VAELightningModule(vae, learning_rate=1e-3)\n",
    "\n",
    "hdf5_file = os.path.join(BASE_DIR, 'data.h5')\n",
    "data_module = MinecraftDataModule(\n",
    "    file_path=hdf5_file,\n",
    "    batch_size=32,\n",
    "    # num_workers=4\n",
    ")\n",
    "\n",
    "logger = TensorBoardLogger(\n",
    "    'lightning_logs', name='minecraft_structure_generator', log_graph=False)\n",
    "checkpoint_callback = ModelCheckpoint(\n",
    "    monitor='val_loss',\n",
    "    mode='min',\n",
    "    save_last=True,\n",
    "    save_weights_only=False\n",
    ")\n",
    "early_stop_callback = EarlyStopping(\n",
    "    monitor='val_loss',\n",
    "    patience=20,\n",
    "    verbose=True,\n",
    "    mode='min'\n",
    ")\n",
    "generate_schematic_callback = GenerateSchematicCallback(\n",
    "    save_path='schematic_viewer/public/schematics/',\n",
    "    data_module=data_module,\n",
    "    generate_train=False,\n",
    "    generate_val=True,\n",
    "    generate_all_datasets=False,\n",
    "    generate_every_n_epochs=1\n",
    ")\n",
    "\n",
    "trainer = Trainer(\n",
    "    max_epochs=5000,\n",
    "    logger=logger,\n",
    "    gradient_clip_val=1.0,\n",
    "    log_every_n_steps=5,\n",
    "    callbacks=[\n",
    "        checkpoint_callback,\n",
    "        early_stop_callback,\n",
    "        generate_schematic_callback\n",
    "    ]\n",
    ")\n",
    "\n",
    "trainer.fit(lightning_model, datamodule=data_module)"
   ]
  },
  {
   "cell_type": "markdown",
   "metadata": {},
   "source": [
    "Running Best Model"
   ]
  },
  {
   "cell_type": "code",
   "execution_count": null,
   "metadata": {},
   "outputs": [
    {
     "name": "stderr",
     "output_type": "stream",
     "text": [
      "Seed set to 1\n"
     ]
    },
    {
     "name": "stdout",
     "output_type": "stream",
     "text": [
      "{'embedding_dim': 64, 'embedding_dropout': 0.5, 'decoder_dim': 32, 'num_heads': 2, 'num_layers': 3, 'decoder_dropout': 0.2, 'learning_rate': 0.0006395506262517658}\n"
     ]
    },
    {
     "name": "stderr",
     "output_type": "stream",
     "text": [
      "GPU available: True (cuda), used: True\n",
      "TPU available: False, using: 0 TPU cores\n",
      "IPU available: False, using: 0 IPUs\n",
      "HPU available: False, using: 0 HPUs\n",
      "LOCAL_RANK: 0 - CUDA_VISIBLE_DEVICES: [0]\n",
      "\n",
      "  | Name  | Type                                   | Params\n",
      "-----------------------------------------------------------------\n",
      "0 | model | TransformerMinecraftStructureGenerator | 66.9 M\n",
      "-----------------------------------------------------------------\n",
      "489 K     Trainable params\n",
      "66.4 M    Non-trainable params\n",
      "66.9 M    Total params\n",
      "267.410   Total estimated model params size (MB)\n"
     ]
    },
    {
     "name": "stdout",
     "output_type": "stream",
     "text": [
      "Epoch 322: 100%|██████████| 21/21 [00:03<00:00,  5.85it/s, v_num=22]       Epoch 00323: reducing learning rate of group 0 to 6.3955e-05.\n",
      "Epoch 369: 100%|██████████| 21/21 [00:06<00:00,  3.08it/s, v_num=22]Epoch 00370: reducing learning rate of group 0 to 6.3955e-06.\n",
      "Epoch 380: 100%|██████████| 21/21 [00:03<00:00,  5.95it/s, v_num=22]Epoch 00381: reducing learning rate of group 0 to 6.3955e-07.\n",
      "Epoch 391: 100%|██████████| 21/21 [00:03<00:00,  5.81it/s, v_num=22]Epoch 00392: reducing learning rate of group 0 to 6.3955e-08.\n",
      "Epoch 402: 100%|██████████| 21/21 [00:03<00:00,  5.80it/s, v_num=22]Epoch 00403: reducing learning rate of group 0 to 6.3955e-09.\n",
      "Epoch 408: 100%|██████████| 21/21 [00:03<00:00,  5.57it/s, v_num=22]\n"
     ]
    },
    {
     "name": "stderr",
     "output_type": "stream",
     "text": [
      "FIT Profiler Report\n",
      "\n",
      "-----------------------------------------------------------------------------------------------------------------------------------------------------------------------------------------------------------------------------------------------------------------------------------\n",
      "|  Action                                                                                                                                                               \t|  Mean duration (s)\t|  Num calls      \t|  Total time (s) \t|  Percentage %   \t|\n",
      "-----------------------------------------------------------------------------------------------------------------------------------------------------------------------------------------------------------------------------------------------------------------------------------\n",
      "|  Total                                                                                                                                                                \t|  -              \t|  467916         \t|  1663.3         \t|  100 %          \t|\n",
      "-----------------------------------------------------------------------------------------------------------------------------------------------------------------------------------------------------------------------------------------------------------------------------------\n",
      "|  run_training_epoch                                                                                                                                                   \t|  3.6155         \t|  409            \t|  1478.7         \t|  88.902         \t|\n",
      "|  run_training_batch                                                                                                                                                   \t|  0.11519        \t|  8589           \t|  989.38         \t|  59.482         \t|\n",
      "|  [LightningModule]LightningTransformerMinecraftStructureGenerator.optimizer_step                                                                                      \t|  0.11494        \t|  8589           \t|  987.23         \t|  59.352         \t|\n",
      "|  [Strategy]SingleDeviceStrategy.training_step                                                                                                                         \t|  0.059283       \t|  8589           \t|  509.18         \t|  30.612         \t|\n",
      "|  [Strategy]SingleDeviceStrategy.backward                                                                                                                              \t|  0.039196       \t|  8589           \t|  336.65         \t|  20.24          \t|\n",
      "|  [_TrainingEpochLoop].train_dataloader_next                                                                                                                           \t|  0.022361       \t|  8589           \t|  192.06         \t|  11.547         \t|\n",
      "|  [Callback]ModelCheckpoint{'monitor': 'val_loss', 'mode': 'min', 'every_n_train_steps': 0, 'every_n_epochs': 1, 'train_time_interval': None}.on_train_epoch_end       \t|  0.442          \t|  409            \t|  180.78         \t|  10.868         \t|\n",
      "|  [LightningModule]LightningTransformerMinecraftStructureGenerator.on_before_optimizer_step                                                                            \t|  0.01368        \t|  8589           \t|  117.5          \t|  7.0641         \t|\n",
      "|  [Callback]GenerateSchematicCallback.on_validation_epoch_end                                                                                                          \t|  0.2689         \t|  410            \t|  110.25         \t|  6.6281         \t|\n",
      "|  [Strategy]SingleDeviceStrategy.validation_step                                                                                                                       \t|  0.050055       \t|  2047           \t|  102.46         \t|  6.16           \t|\n",
      "|  [_EvaluationLoop].val_next                                                                                                                                           \t|  0.018858       \t|  2047           \t|  38.603         \t|  2.3208         \t|\n",
      "|  [Callback]TQDMProgressBar.on_train_batch_end                                                                                                                         \t|  0.0018675      \t|  8589           \t|  16.04          \t|  0.96432        \t|\n",
      "|  [LightningModule]LightningTransformerMinecraftStructureGenerator.configure_gradient_clipping                                                                         \t|  0.00073338     \t|  8589           \t|  6.299          \t|  0.37869        \t|\n",
      "|  [Callback]TQDMProgressBar.on_validation_batch_end                                                                                                                    \t|  0.0018261      \t|  2047           \t|  3.738          \t|  0.22473        \t|\n",
      "|  [Strategy]SingleDeviceStrategy.batch_to_device                                                                                                                       \t|  0.00031807     \t|  10636          \t|  3.383          \t|  0.20339        \t|\n",
      "|  [LightningModule]LightningTransformerMinecraftStructureGenerator.optimizer_zero_grad                                                                                 \t|  0.00038386     \t|  8589           \t|  3.297          \t|  0.19822        \t|\n",
      "|  [LightningModule]LightningTransformerMinecraftStructureGenerator.transfer_batch_to_device                                                                            \t|  0.00026937     \t|  10636          \t|  2.865          \t|  0.17224        \t|\n",
      "|  [Callback]TQDMProgressBar.on_validation_batch_start                                                                                                                  \t|  0.00056571     \t|  2047           \t|  1.158          \t|  0.069619       \t|\n",
      "|  [Callback]TQDMProgressBar.on_validation_start                                                                                                                        \t|  0.0017439      \t|  410            \t|  0.715          \t|  0.042986       \t|\n",
      "|  [Callback]TQDMProgressBar.on_train_epoch_start                                                                                                                       \t|  0.0017188      \t|  409            \t|  0.703          \t|  0.042264       \t|\n",
      "|  [Callback]TQDMProgressBar.on_validation_end                                                                                                                          \t|  0.0015683      \t|  410            \t|  0.643          \t|  0.038657       \t|\n",
      "|  [LightningModule]LightningTransformerMinecraftStructureGenerator.on_validation_epoch_end                                                                             \t|  0.0015585      \t|  410            \t|  0.639          \t|  0.038417       \t|\n",
      "|  [Callback]EarlyStopping{'monitor': 'val_loss', 'mode': 'min'}.on_train_epoch_end                                                                                     \t|  0.001379       \t|  409            \t|  0.564          \t|  0.033908       \t|\n",
      "|  [LightningModule]LightningTransformerMinecraftStructureGenerator.on_validation_model_zero_grad                                                                       \t|  0.00062347     \t|  409            \t|  0.255          \t|  0.015331       \t|\n",
      "|  [LightningModule]LightningTransformerMinecraftStructureGenerator.on_validation_model_train                                                                           \t|  0.00042439     \t|  410            \t|  0.174          \t|  0.010461       \t|\n",
      "|  [Callback]ModelCheckpoint{'monitor': 'val_loss', 'mode': 'min', 'every_n_train_steps': 0, 'every_n_epochs': 1, 'train_time_interval': None}.on_train_batch_end       \t|  1.8512e-05     \t|  8589           \t|  0.159          \t|  0.0095591      \t|\n",
      "|  [LightningModule]LightningTransformerMinecraftStructureGenerator.on_validation_model_eval                                                                            \t|  0.00038293     \t|  410            \t|  0.157          \t|  0.0094388      \t|\n",
      "|  [Callback]TQDMProgressBar.on_train_epoch_end                                                                                                                         \t|  0.0003423      \t|  409            \t|  0.14           \t|  0.0084168      \t|\n",
      "|  [LightningModule]LightningTransformerMinecraftStructureGenerator.lr_scheduler_step                                                                                   \t|  0.00022983     \t|  409            \t|  0.094          \t|  0.0056513      \t|\n",
      "|  [Callback]EarlyStopping{'monitor': 'val_loss', 'mode': 'min'}.on_before_zero_grad                                                                                    \t|  5.5885e-06     \t|  8589           \t|  0.048          \t|  0.0028858      \t|\n",
      "|  [Callback]GenerateSchematicCallback.on_after_backward                                                                                                                \t|  5.5885e-06     \t|  8589           \t|  0.048          \t|  0.0028858      \t|\n",
      "|  [LightningModule]LightningTransformerMinecraftStructureGenerator.on_after_batch_transfer                                                                             \t|  4.419e-06      \t|  10636          \t|  0.047          \t|  0.0028256      \t|\n",
      "|  [Callback]ModelCheckpoint{'monitor': 'val_loss', 'mode': 'min', 'every_n_train_steps': 0, 'every_n_epochs': 1, 'train_time_interval': None}.on_train_batch_start     \t|  3.7257e-06     \t|  8589           \t|  0.032          \t|  0.0019238      \t|\n",
      "|  [Callback]GenerateSchematicCallback.on_train_batch_start                                                                                                             \t|  3.6093e-06     \t|  8589           \t|  0.031          \t|  0.0018637      \t|\n",
      "|  [Callback]GenerateSchematicCallback.on_train_batch_end                                                                                                               \t|  3.6093e-06     \t|  8589           \t|  0.031          \t|  0.0018637      \t|\n",
      "|  [Callback]EarlyStopping{'monitor': 'val_loss', 'mode': 'min'}.on_validation_batch_end                                                                                \t|  1.4656e-05     \t|  2047           \t|  0.03           \t|  0.0018036      \t|\n",
      "|  [Callback]ModelSummary.on_validation_epoch_start                                                                                                                     \t|  3.9024e-05     \t|  410            \t|  0.016          \t|  0.00096192     \t|\n",
      "|  [LightningDataModule]MinecraftDataModule.train_dataloader                                                                                                            \t|  0.016          \t|  1              \t|  0.016          \t|  0.00096192     \t|\n",
      "|  [Callback]GenerateSchematicCallback.on_before_zero_grad                                                                                                              \t|  1.8628e-06     \t|  8589           \t|  0.016          \t|  0.00096192     \t|\n",
      "|  [Callback]TQDMProgressBar.on_before_zero_grad                                                                                                                        \t|  1.8628e-06     \t|  8589           \t|  0.016          \t|  0.00096192     \t|\n",
      "|  [Callback]ModelCheckpoint{'monitor': 'val_loss', 'mode': 'min', 'every_n_train_steps': 0, 'every_n_epochs': 1, 'train_time_interval': None}.on_before_backward       \t|  1.8628e-06     \t|  8589           \t|  0.016          \t|  0.00096192     \t|\n",
      "|  [Callback]ModelSummary.on_after_backward                                                                                                                             \t|  1.8628e-06     \t|  8589           \t|  0.016          \t|  0.00096192     \t|\n",
      "|  [Callback]ModelSummary.on_train_batch_end                                                                                                                            \t|  1.8628e-06     \t|  8589           \t|  0.016          \t|  0.00096192     \t|\n",
      "|  [LightningModule]LightningTransformerMinecraftStructureGenerator.on_train_batch_end                                                                                  \t|  1.8628e-06     \t|  8589           \t|  0.016          \t|  0.00096192     \t|\n",
      "|  [Callback]GenerateSchematicCallback.setup                                                                                                                            \t|  0.015          \t|  1              \t|  0.015          \t|  0.0009018      \t|\n",
      "|  [Callback]EarlyStopping{'monitor': 'val_loss', 'mode': 'min'}.on_train_batch_start                                                                                   \t|  1.7464e-06     \t|  8589           \t|  0.015          \t|  0.0009018      \t|\n",
      "|  [Callback]ModelSummary.on_train_batch_start                                                                                                                          \t|  1.7464e-06     \t|  8589           \t|  0.015          \t|  0.0009018      \t|\n",
      "|  [Callback]EarlyStopping{'monitor': 'val_loss', 'mode': 'min'}.on_before_backward                                                                                     \t|  1.7464e-06     \t|  8589           \t|  0.015          \t|  0.0009018      \t|\n",
      "|  [Callback]TQDMProgressBar.on_before_backward                                                                                                                         \t|  1.7464e-06     \t|  8589           \t|  0.015          \t|  0.0009018      \t|\n",
      "|  [Callback]ModelSummary.on_before_optimizer_step                                                                                                                      \t|  1.7464e-06     \t|  8589           \t|  0.015          \t|  0.0009018      \t|\n",
      "|  [Callback]EarlyStopping{'monitor': 'val_loss', 'mode': 'min'}.on_train_batch_end                                                                                     \t|  1.7464e-06     \t|  8589           \t|  0.015          \t|  0.0009018      \t|\n",
      "|  [LightningModule]LightningTransformerMinecraftStructureGenerator.configure_callbacks                                                                                 \t|  0.0            \t|  1              \t|  0.0            \t|  0.0            \t|\n",
      "|  [LightningDataModule]MinecraftDataModule.prepare_data                                                                                                                \t|  0.0            \t|  1              \t|  0.0            \t|  0.0            \t|\n",
      "|  [LightningModule]LightningTransformerMinecraftStructureGenerator.prepare_data                                                                                        \t|  0.0            \t|  1              \t|  0.0            \t|  0.0            \t|\n",
      "|  [LightningDataModule]MinecraftDataModule.setup                                                                                                                       \t|  0.0            \t|  1              \t|  0.0            \t|  0.0            \t|\n",
      "|  [Callback]EarlyStopping{'monitor': 'val_loss', 'mode': 'min'}.setup                                                                                                  \t|  0.0            \t|  1              \t|  0.0            \t|  0.0            \t|\n",
      "|  [Callback]TQDMProgressBar.setup                                                                                                                                      \t|  0.0            \t|  1              \t|  0.0            \t|  0.0            \t|\n",
      "|  [Callback]ModelSummary.setup                                                                                                                                         \t|  0.0            \t|  1              \t|  0.0            \t|  0.0            \t|\n",
      "|  [Callback]ModelCheckpoint{'monitor': 'val_loss', 'mode': 'min', 'every_n_train_steps': 0, 'every_n_epochs': 1, 'train_time_interval': None}.setup                    \t|  0.0            \t|  1              \t|  0.0            \t|  0.0            \t|\n",
      "|  [LightningModule]LightningTransformerMinecraftStructureGenerator.setup                                                                                               \t|  0.0            \t|  1              \t|  0.0            \t|  0.0            \t|\n",
      "|  [LightningModule]LightningTransformerMinecraftStructureGenerator.configure_optimizers                                                                                \t|  0.0            \t|  1              \t|  0.0            \t|  0.0            \t|\n",
      "|  [Callback]EarlyStopping{'monitor': 'val_loss', 'mode': 'min'}.on_fit_start                                                                                           \t|  0.0            \t|  1              \t|  0.0            \t|  0.0            \t|\n",
      "|  [Callback]GenerateSchematicCallback.on_fit_start                                                                                                                     \t|  0.0            \t|  1              \t|  0.0            \t|  0.0            \t|\n",
      "|  [Callback]TQDMProgressBar.on_fit_start                                                                                                                               \t|  0.0            \t|  1              \t|  0.0            \t|  0.0            \t|\n",
      "|  [Callback]ModelSummary.on_fit_start                                                                                                                                  \t|  0.0            \t|  1              \t|  0.0            \t|  0.0            \t|\n",
      "|  [Callback]ModelCheckpoint{'monitor': 'val_loss', 'mode': 'min', 'every_n_train_steps': 0, 'every_n_epochs': 1, 'train_time_interval': None}.on_fit_start             \t|  0.0            \t|  1              \t|  0.0            \t|  0.0            \t|\n",
      "|  [LightningModule]LightningTransformerMinecraftStructureGenerator.on_fit_start                                                                                        \t|  0.0            \t|  1              \t|  0.0            \t|  0.0            \t|\n",
      "|  [Callback]EarlyStopping{'monitor': 'val_loss', 'mode': 'min'}.on_sanity_check_start                                                                                  \t|  0.0            \t|  1              \t|  0.0            \t|  0.0            \t|\n",
      "|  [Callback]GenerateSchematicCallback.on_sanity_check_start                                                                                                            \t|  0.0            \t|  1              \t|  0.0            \t|  0.0            \t|\n",
      "|  [Callback]TQDMProgressBar.on_sanity_check_start                                                                                                                      \t|  0.0            \t|  1              \t|  0.0            \t|  0.0            \t|\n",
      "|  [Callback]ModelSummary.on_sanity_check_start                                                                                                                         \t|  0.0            \t|  1              \t|  0.0            \t|  0.0            \t|\n",
      "|  [Callback]ModelCheckpoint{'monitor': 'val_loss', 'mode': 'min', 'every_n_train_steps': 0, 'every_n_epochs': 1, 'train_time_interval': None}.on_sanity_check_start    \t|  0.0            \t|  1              \t|  0.0            \t|  0.0            \t|\n",
      "|  [LightningDataModule]MinecraftDataModule.val_dataloader                                                                                                              \t|  0.0            \t|  1              \t|  0.0            \t|  0.0            \t|\n",
      "|  [Callback]EarlyStopping{'monitor': 'val_loss', 'mode': 'min'}.on_validation_start                                                                                    \t|  0.0            \t|  410            \t|  0.0            \t|  0.0            \t|\n",
      "|  [Callback]GenerateSchematicCallback.on_validation_start                                                                                                              \t|  0.0            \t|  410            \t|  0.0            \t|  0.0            \t|\n",
      "|  [Callback]ModelSummary.on_validation_start                                                                                                                           \t|  0.0            \t|  410            \t|  0.0            \t|  0.0            \t|\n",
      "|  [Callback]ModelCheckpoint{'monitor': 'val_loss', 'mode': 'min', 'every_n_train_steps': 0, 'every_n_epochs': 1, 'train_time_interval': None}.on_validation_start      \t|  0.0            \t|  410            \t|  0.0            \t|  0.0            \t|\n",
      "|  [LightningModule]LightningTransformerMinecraftStructureGenerator.on_validation_start                                                                                 \t|  0.0            \t|  410            \t|  0.0            \t|  0.0            \t|\n",
      "|  [Strategy]SingleDeviceStrategy.on_validation_start                                                                                                                   \t|  0.0            \t|  410            \t|  0.0            \t|  0.0            \t|\n",
      "|  [Callback]EarlyStopping{'monitor': 'val_loss', 'mode': 'min'}.on_validation_epoch_start                                                                              \t|  0.0            \t|  410            \t|  0.0            \t|  0.0            \t|\n",
      "|  [Callback]GenerateSchematicCallback.on_validation_epoch_start                                                                                                        \t|  0.0            \t|  410            \t|  0.0            \t|  0.0            \t|\n",
      "|  [Callback]TQDMProgressBar.on_validation_epoch_start                                                                                                                  \t|  0.0            \t|  410            \t|  0.0            \t|  0.0            \t|\n",
      "|  [Callback]ModelCheckpoint{'monitor': 'val_loss', 'mode': 'min', 'every_n_train_steps': 0, 'every_n_epochs': 1, 'train_time_interval': None}.on_validation_epoch_start\t|  0.0            \t|  410            \t|  0.0            \t|  0.0            \t|\n",
      "|  [LightningModule]LightningTransformerMinecraftStructureGenerator.on_validation_epoch_start                                                                           \t|  0.0            \t|  410            \t|  0.0            \t|  0.0            \t|\n",
      "|  [LightningModule]LightningTransformerMinecraftStructureGenerator.on_before_batch_transfer                                                                            \t|  0.0            \t|  10636          \t|  0.0            \t|  0.0            \t|\n",
      "|  [Callback]EarlyStopping{'monitor': 'val_loss', 'mode': 'min'}.on_validation_batch_start                                                                              \t|  0.0            \t|  2047           \t|  0.0            \t|  0.0            \t|\n",
      "|  [Callback]GenerateSchematicCallback.on_validation_batch_start                                                                                                        \t|  0.0            \t|  2047           \t|  0.0            \t|  0.0            \t|\n",
      "|  [Callback]ModelSummary.on_validation_batch_start                                                                                                                     \t|  0.0            \t|  2047           \t|  0.0            \t|  0.0            \t|\n",
      "|  [Callback]ModelCheckpoint{'monitor': 'val_loss', 'mode': 'min', 'every_n_train_steps': 0, 'every_n_epochs': 1, 'train_time_interval': None}.on_validation_batch_start\t|  0.0            \t|  2047           \t|  0.0            \t|  0.0            \t|\n",
      "|  [LightningModule]LightningTransformerMinecraftStructureGenerator.on_validation_batch_start                                                                           \t|  0.0            \t|  2047           \t|  0.0            \t|  0.0            \t|\n",
      "|  [Callback]GenerateSchematicCallback.on_validation_batch_end                                                                                                          \t|  0.0            \t|  2047           \t|  0.0            \t|  0.0            \t|\n",
      "|  [Callback]ModelSummary.on_validation_batch_end                                                                                                                       \t|  0.0            \t|  2047           \t|  0.0            \t|  0.0            \t|\n",
      "|  [Callback]ModelCheckpoint{'monitor': 'val_loss', 'mode': 'min', 'every_n_train_steps': 0, 'every_n_epochs': 1, 'train_time_interval': None}.on_validation_batch_end  \t|  0.0            \t|  2047           \t|  0.0            \t|  0.0            \t|\n",
      "|  [LightningModule]LightningTransformerMinecraftStructureGenerator.on_validation_batch_end                                                                             \t|  0.0            \t|  2047           \t|  0.0            \t|  0.0            \t|\n",
      "|  [Callback]EarlyStopping{'monitor': 'val_loss', 'mode': 'min'}.on_validation_epoch_end                                                                                \t|  0.0            \t|  410            \t|  0.0            \t|  0.0            \t|\n",
      "|  [Callback]TQDMProgressBar.on_validation_epoch_end                                                                                                                    \t|  0.0            \t|  410            \t|  0.0            \t|  0.0            \t|\n",
      "|  [Callback]ModelSummary.on_validation_epoch_end                                                                                                                       \t|  0.0            \t|  410            \t|  0.0            \t|  0.0            \t|\n",
      "|  [Callback]ModelCheckpoint{'monitor': 'val_loss', 'mode': 'min', 'every_n_train_steps': 0, 'every_n_epochs': 1, 'train_time_interval': None}.on_validation_epoch_end  \t|  0.0            \t|  410            \t|  0.0            \t|  0.0            \t|\n",
      "|  [Callback]EarlyStopping{'monitor': 'val_loss', 'mode': 'min'}.on_validation_end                                                                                      \t|  0.0            \t|  410            \t|  0.0            \t|  0.0            \t|\n",
      "|  [Callback]GenerateSchematicCallback.on_validation_end                                                                                                                \t|  0.0            \t|  410            \t|  0.0            \t|  0.0            \t|\n",
      "|  [Callback]ModelSummary.on_validation_end                                                                                                                             \t|  0.0            \t|  410            \t|  0.0            \t|  0.0            \t|\n",
      "|  [Callback]ModelCheckpoint{'monitor': 'val_loss', 'mode': 'min', 'every_n_train_steps': 0, 'every_n_epochs': 1, 'train_time_interval': None}.on_validation_end        \t|  0.0            \t|  410            \t|  0.0            \t|  0.0            \t|\n",
      "|  [LightningModule]LightningTransformerMinecraftStructureGenerator.on_validation_end                                                                                   \t|  0.0            \t|  410            \t|  0.0            \t|  0.0            \t|\n",
      "|  [Strategy]SingleDeviceStrategy.on_validation_end                                                                                                                     \t|  0.0            \t|  410            \t|  0.0            \t|  0.0            \t|\n",
      "|  [Callback]EarlyStopping{'monitor': 'val_loss', 'mode': 'min'}.on_sanity_check_end                                                                                    \t|  0.0            \t|  1              \t|  0.0            \t|  0.0            \t|\n",
      "|  [Callback]GenerateSchematicCallback.on_sanity_check_end                                                                                                              \t|  0.0            \t|  1              \t|  0.0            \t|  0.0            \t|\n",
      "|  [Callback]TQDMProgressBar.on_sanity_check_end                                                                                                                        \t|  0.0            \t|  1              \t|  0.0            \t|  0.0            \t|\n",
      "|  [Callback]ModelSummary.on_sanity_check_end                                                                                                                           \t|  0.0            \t|  1              \t|  0.0            \t|  0.0            \t|\n",
      "|  [Callback]ModelCheckpoint{'monitor': 'val_loss', 'mode': 'min', 'every_n_train_steps': 0, 'every_n_epochs': 1, 'train_time_interval': None}.on_sanity_check_end      \t|  0.0            \t|  1              \t|  0.0            \t|  0.0            \t|\n",
      "|  [Callback]EarlyStopping{'monitor': 'val_loss', 'mode': 'min'}.on_train_start                                                                                         \t|  0.0            \t|  1              \t|  0.0            \t|  0.0            \t|\n",
      "|  [Callback]GenerateSchematicCallback.on_train_start                                                                                                                   \t|  0.0            \t|  1              \t|  0.0            \t|  0.0            \t|\n",
      "|  [Callback]TQDMProgressBar.on_train_start                                                                                                                             \t|  0.0            \t|  1              \t|  0.0            \t|  0.0            \t|\n",
      "|  [Callback]ModelSummary.on_train_start                                                                                                                                \t|  0.0            \t|  1              \t|  0.0            \t|  0.0            \t|\n",
      "|  [Callback]ModelCheckpoint{'monitor': 'val_loss', 'mode': 'min', 'every_n_train_steps': 0, 'every_n_epochs': 1, 'train_time_interval': None}.on_train_start           \t|  0.0            \t|  1              \t|  0.0            \t|  0.0            \t|\n",
      "|  [LightningModule]LightningTransformerMinecraftStructureGenerator.on_train_start                                                                                      \t|  0.0            \t|  1              \t|  0.0            \t|  0.0            \t|\n",
      "|  [Strategy]SingleDeviceStrategy.on_train_start                                                                                                                        \t|  0.0            \t|  1              \t|  0.0            \t|  0.0            \t|\n",
      "|  [Callback]EarlyStopping{'monitor': 'val_loss', 'mode': 'min'}.on_train_epoch_start                                                                                   \t|  0.0            \t|  409            \t|  0.0            \t|  0.0            \t|\n",
      "|  [Callback]GenerateSchematicCallback.on_train_epoch_start                                                                                                             \t|  0.0            \t|  409            \t|  0.0            \t|  0.0            \t|\n",
      "|  [Callback]ModelSummary.on_train_epoch_start                                                                                                                          \t|  0.0            \t|  409            \t|  0.0            \t|  0.0            \t|\n",
      "|  [Callback]ModelCheckpoint{'monitor': 'val_loss', 'mode': 'min', 'every_n_train_steps': 0, 'every_n_epochs': 1, 'train_time_interval': None}.on_train_epoch_start     \t|  0.0            \t|  409            \t|  0.0            \t|  0.0            \t|\n",
      "|  [LightningModule]LightningTransformerMinecraftStructureGenerator.on_train_epoch_start                                                                                \t|  0.0            \t|  409            \t|  0.0            \t|  0.0            \t|\n",
      "|  [Callback]TQDMProgressBar.on_train_batch_start                                                                                                                       \t|  0.0            \t|  8589           \t|  0.0            \t|  0.0            \t|\n",
      "|  [LightningModule]LightningTransformerMinecraftStructureGenerator.on_train_batch_start                                                                                \t|  0.0            \t|  8589           \t|  0.0            \t|  0.0            \t|\n",
      "|  [Strategy]SingleDeviceStrategy.on_train_batch_start                                                                                                                  \t|  0.0            \t|  8589           \t|  0.0            \t|  0.0            \t|\n",
      "|  [Callback]ModelSummary.on_before_zero_grad                                                                                                                           \t|  0.0            \t|  8589           \t|  0.0            \t|  0.0            \t|\n",
      "|  [Callback]ModelCheckpoint{'monitor': 'val_loss', 'mode': 'min', 'every_n_train_steps': 0, 'every_n_epochs': 1, 'train_time_interval': None}.on_before_zero_grad      \t|  0.0            \t|  8589           \t|  0.0            \t|  0.0            \t|\n",
      "|  [LightningModule]LightningTransformerMinecraftStructureGenerator.on_before_zero_grad                                                                                 \t|  0.0            \t|  8589           \t|  0.0            \t|  0.0            \t|\n",
      "|  [Callback]GenerateSchematicCallback.on_before_backward                                                                                                               \t|  0.0            \t|  8589           \t|  0.0            \t|  0.0            \t|\n",
      "|  [Callback]ModelSummary.on_before_backward                                                                                                                            \t|  0.0            \t|  8589           \t|  0.0            \t|  0.0            \t|\n",
      "|  [LightningModule]LightningTransformerMinecraftStructureGenerator.on_before_backward                                                                                  \t|  0.0            \t|  8589           \t|  0.0            \t|  0.0            \t|\n",
      "|  [Callback]EarlyStopping{'monitor': 'val_loss', 'mode': 'min'}.on_after_backward                                                                                      \t|  0.0            \t|  8589           \t|  0.0            \t|  0.0            \t|\n",
      "|  [Callback]TQDMProgressBar.on_after_backward                                                                                                                          \t|  0.0            \t|  8589           \t|  0.0            \t|  0.0            \t|\n",
      "|  [Callback]ModelCheckpoint{'monitor': 'val_loss', 'mode': 'min', 'every_n_train_steps': 0, 'every_n_epochs': 1, 'train_time_interval': None}.on_after_backward        \t|  0.0            \t|  8589           \t|  0.0            \t|  0.0            \t|\n",
      "|  [LightningModule]LightningTransformerMinecraftStructureGenerator.on_after_backward                                                                                   \t|  0.0            \t|  8589           \t|  0.0            \t|  0.0            \t|\n",
      "|  [Callback]EarlyStopping{'monitor': 'val_loss', 'mode': 'min'}.on_before_optimizer_step                                                                               \t|  0.0            \t|  8589           \t|  0.0            \t|  0.0            \t|\n",
      "|  [Callback]GenerateSchematicCallback.on_before_optimizer_step                                                                                                         \t|  0.0            \t|  8589           \t|  0.0            \t|  0.0            \t|\n",
      "|  [Callback]TQDMProgressBar.on_before_optimizer_step                                                                                                                   \t|  0.0            \t|  8589           \t|  0.0            \t|  0.0            \t|\n",
      "|  [Callback]ModelCheckpoint{'monitor': 'val_loss', 'mode': 'min', 'every_n_train_steps': 0, 'every_n_epochs': 1, 'train_time_interval': None}.on_before_optimizer_step \t|  0.0            \t|  8589           \t|  0.0            \t|  0.0            \t|\n",
      "|  [Callback]GenerateSchematicCallback.on_train_epoch_end                                                                                                               \t|  0.0            \t|  409            \t|  0.0            \t|  0.0            \t|\n",
      "|  [Callback]ModelSummary.on_train_epoch_end                                                                                                                            \t|  0.0            \t|  409            \t|  0.0            \t|  0.0            \t|\n",
      "|  [LightningModule]LightningTransformerMinecraftStructureGenerator.on_train_epoch_end                                                                                  \t|  0.0            \t|  409            \t|  0.0            \t|  0.0            \t|\n",
      "|  [LightningDataModule]MinecraftDataModule.state_dict                                                                                                                  \t|  0.0            \t|  161            \t|  0.0            \t|  0.0            \t|\n",
      "|  [Callback]EarlyStopping{'monitor': 'val_loss', 'mode': 'min'}.on_save_checkpoint                                                                                     \t|  0.0            \t|  161            \t|  0.0            \t|  0.0            \t|\n",
      "|  [Callback]GenerateSchematicCallback.on_save_checkpoint                                                                                                               \t|  0.0            \t|  161            \t|  0.0            \t|  0.0            \t|\n",
      "|  [Callback]TQDMProgressBar.on_save_checkpoint                                                                                                                         \t|  0.0            \t|  161            \t|  0.0            \t|  0.0            \t|\n",
      "|  [Callback]ModelSummary.on_save_checkpoint                                                                                                                            \t|  0.0            \t|  161            \t|  0.0            \t|  0.0            \t|\n",
      "|  [Callback]ModelCheckpoint{'monitor': 'val_loss', 'mode': 'min', 'every_n_train_steps': 0, 'every_n_epochs': 1, 'train_time_interval': None}.on_save_checkpoint       \t|  0.0            \t|  161            \t|  0.0            \t|  0.0            \t|\n",
      "|  [LightningModule]LightningTransformerMinecraftStructureGenerator.on_save_checkpoint                                                                                  \t|  0.0            \t|  161            \t|  0.0            \t|  0.0            \t|\n",
      "|  [Callback]EarlyStopping{'monitor': 'val_loss', 'mode': 'min'}.on_train_end                                                                                           \t|  0.0            \t|  1              \t|  0.0            \t|  0.0            \t|\n",
      "|  [Callback]GenerateSchematicCallback.on_train_end                                                                                                                     \t|  0.0            \t|  1              \t|  0.0            \t|  0.0            \t|\n",
      "|  [Callback]TQDMProgressBar.on_train_end                                                                                                                               \t|  0.0            \t|  1              \t|  0.0            \t|  0.0            \t|\n",
      "|  [Callback]ModelSummary.on_train_end                                                                                                                                  \t|  0.0            \t|  1              \t|  0.0            \t|  0.0            \t|\n",
      "|  [Callback]ModelCheckpoint{'monitor': 'val_loss', 'mode': 'min', 'every_n_train_steps': 0, 'every_n_epochs': 1, 'train_time_interval': None}.on_train_end             \t|  0.0            \t|  1              \t|  0.0            \t|  0.0            \t|\n",
      "|  [LightningModule]LightningTransformerMinecraftStructureGenerator.on_train_end                                                                                        \t|  0.0            \t|  1              \t|  0.0            \t|  0.0            \t|\n",
      "|  [Strategy]SingleDeviceStrategy.on_train_end                                                                                                                          \t|  0.0            \t|  1              \t|  0.0            \t|  0.0            \t|\n",
      "|  [Callback]EarlyStopping{'monitor': 'val_loss', 'mode': 'min'}.on_fit_end                                                                                             \t|  0.0            \t|  1              \t|  0.0            \t|  0.0            \t|\n",
      "|  [Callback]GenerateSchematicCallback.on_fit_end                                                                                                                       \t|  0.0            \t|  1              \t|  0.0            \t|  0.0            \t|\n",
      "|  [Callback]TQDMProgressBar.on_fit_end                                                                                                                                 \t|  0.0            \t|  1              \t|  0.0            \t|  0.0            \t|\n",
      "|  [Callback]ModelSummary.on_fit_end                                                                                                                                    \t|  0.0            \t|  1              \t|  0.0            \t|  0.0            \t|\n",
      "|  [Callback]ModelCheckpoint{'monitor': 'val_loss', 'mode': 'min', 'every_n_train_steps': 0, 'every_n_epochs': 1, 'train_time_interval': None}.on_fit_end               \t|  0.0            \t|  1              \t|  0.0            \t|  0.0            \t|\n",
      "|  [LightningModule]LightningTransformerMinecraftStructureGenerator.on_fit_end                                                                                          \t|  0.0            \t|  1              \t|  0.0            \t|  0.0            \t|\n",
      "|  [LightningDataModule]MinecraftDataModule.teardown                                                                                                                    \t|  0.0            \t|  1              \t|  0.0            \t|  0.0            \t|\n",
      "|  [Callback]EarlyStopping{'monitor': 'val_loss', 'mode': 'min'}.teardown                                                                                               \t|  0.0            \t|  1              \t|  0.0            \t|  0.0            \t|\n",
      "|  [Callback]GenerateSchematicCallback.teardown                                                                                                                         \t|  0.0            \t|  1              \t|  0.0            \t|  0.0            \t|\n",
      "|  [Callback]TQDMProgressBar.teardown                                                                                                                                   \t|  0.0            \t|  1              \t|  0.0            \t|  0.0            \t|\n",
      "|  [Callback]ModelSummary.teardown                                                                                                                                      \t|  0.0            \t|  1              \t|  0.0            \t|  0.0            \t|\n",
      "|  [Callback]ModelCheckpoint{'monitor': 'val_loss', 'mode': 'min', 'every_n_train_steps': 0, 'every_n_epochs': 1, 'train_time_interval': None}.teardown                 \t|  0.0            \t|  1              \t|  0.0            \t|  0.0            \t|\n",
      "|  [LightningModule]LightningTransformerMinecraftStructureGenerator.teardown                                                                                            \t|  0.0            \t|  1              \t|  0.0            \t|  0.0            \t|\n",
      "-----------------------------------------------------------------------------------------------------------------------------------------------------------------------------------------------------------------------------------------------------------------------------------\n",
      "\n"
     ]
    }
   ],
   "source": [
    "import os\n",
    "\n",
    "import optuna\n",
    "from lightning.pytorch import Trainer, seed_everything\n",
    "from lightning.pytorch.callbacks import EarlyStopping, ModelCheckpoint\n",
    "from lightning.pytorch.loggers import TensorBoardLogger\n",
    "from lightning.pytorch.profilers import SimpleProfiler\n",
    "\n",
    "from common.file_paths import BASE_DIR\n",
    "from modules import (GenerateSchematicCallback,\n",
    "                     LightningTransformerMinecraftStructureGenerator,\n",
    "                     MinecraftDataModule)\n",
    "\n",
    "study_name = 'study_20231205030812'\n",
    "storage_url = 'sqlite:///studies.db'\n",
    "\n",
    "study = optuna.load_study(study_name=study_name, storage=storage_url)\n",
    "\n",
    "\n",
    "def get_nth_best_trial(study, n, objective_id=0):\n",
    "    # Sort the completed trials of the study object by the specified objective value.\n",
    "    sorted_trials = sorted(\n",
    "        study.trials, key=lambda t: t.values[objective_id] if t.values is not None else float('inf'))\n",
    "\n",
    "    # Return the parameters of the n-th best trial.\n",
    "    return sorted_trials[n].params\n",
    "\n",
    "\n",
    "objective_id = 1\n",
    "x = 0\n",
    "nth_best_params = get_nth_best_trial(study, x, objective_id=0)\n",
    "print(nth_best_params)\n",
    "\n",
    "seed_everything(1, workers=True)\n",
    "\n",
    "lightning_model = LightningTransformerMinecraftStructureGenerator(\n",
    "    num_classes=20,\n",
    "    max_sequence_length=512,\n",
    "    freeze_encoder=True,\n",
    "    **nth_best_params\n",
    ")\n",
    "\n",
    "hdf5_file = os.path.join(BASE_DIR, 'data.h5')\n",
    "data_module = MinecraftDataModule(\n",
    "    file_path=hdf5_file,\n",
    "    batch_size=32,\n",
    "    # num_workers=4\n",
    ")\n",
    "\n",
    "logger = TensorBoardLogger(\n",
    "    'lightning_logs', name='minecraft_structure_generator', log_graph=False)\n",
    "profiler = SimpleProfiler()\n",
    "checkpoint_callback = ModelCheckpoint(\n",
    "    monitor='val_loss',\n",
    "    mode='min',\n",
    "    save_last=True\n",
    ")\n",
    "early_stop_callback = EarlyStopping(\n",
    "    monitor='val_loss',\n",
    "    patience=50,\n",
    "    verbose=False,\n",
    "    mode='min'\n",
    ")\n",
    "generate_schematic_callback = GenerateSchematicCallback(\n",
    "    save_path='schematic_viewer/public/schematics/',\n",
    "    data_module=data_module,\n",
    "    generate_train=False,\n",
    "    generate_val=True,\n",
    "    generate_all_datasets=False,\n",
    "    generate_every_n_epochs=10,\n",
    "    autoregressive=True\n",
    ")\n",
    "\n",
    "trainer = Trainer(\n",
    "    max_epochs=5000,\n",
    "    logger=logger,\n",
    "    profiler=profiler,\n",
    "    gradient_clip_val=1.0,\n",
    "    log_every_n_steps=5,\n",
    "    callbacks=[\n",
    "        checkpoint_callback,\n",
    "        early_stop_callback,\n",
    "        generate_schematic_callback\n",
    "    ]\n",
    ")\n",
    "\n",
    "trainer.fit(lightning_model, datamodule=data_module)"
   ]
  }
 ],
 "metadata": {
  "kernelspec": {
   "display_name": ".venv",
   "language": "python",
   "name": "python3"
  },
  "language_info": {
   "codemirror_mode": {
    "name": "ipython",
    "version": 3
   },
   "file_extension": ".py",
   "mimetype": "text/x-python",
   "name": "python",
   "nbconvert_exporter": "python",
   "pygments_lexer": "ipython3",
   "version": "3.11.4"
  }
 },
 "nbformat": 4,
 "nbformat_minor": 2
}
