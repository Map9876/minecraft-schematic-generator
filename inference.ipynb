{
 "cells": [
  {
   "cell_type": "code",
   "execution_count": 2,
   "metadata": {},
   "outputs": [
    {
     "name": "stderr",
     "output_type": "stream",
     "text": [
      "c:\\Users\\mmmfr\\Documents\\Repositories\\minecraft-schematic-generator\\.venv\\Lib\\site-packages\\tqdm\\auto.py:21: TqdmWarning: IProgress not found. Please update jupyter and ipywidgets. See https://ipywidgets.readthedocs.io/en/stable/user_install.html\n",
      "  from .autonotebook import tqdm as notebook_tqdm\n"
     ]
    }
   ],
   "source": [
    "from datetime import datetime\n",
    "from pathlib import Path\n",
    "\n",
    "import torch\n",
    "\n",
    "from converter import SchematicArrayConverter\n",
    "from modules import LightningTransformerMinecraftStructureGenerator\n",
    "\n",
    "model_version = 47\n",
    "output_dir = 'schematic_viewer/public/schematics/'\n",
    "checkpoint_path = f'lightning_logs/version_{model_version}/checkpoints/last.ckpt'\n",
    "model = LightningTransformerMinecraftStructureGenerator.load_from_checkpoint(\n",
    "    checkpoint_path)\n",
    "model.eval()\n",
    "\n",
    "converter = SchematicArrayConverter()"
   ]
  },
  {
   "cell_type": "code",
   "execution_count": 3,
   "metadata": {},
   "outputs": [],
   "source": [
    "import os\n",
    "\n",
    "from common.file_paths import BASE_DIR\n",
    "from converter import SchematicArrayConverter\n",
    "from modules.data_module import MinecraftDataModule\n",
    "\n",
    "hdf5_file = os.path.join(BASE_DIR, 'data.h5')\n",
    "data_module = MinecraftDataModule(\n",
    "    file_path=hdf5_file,\n",
    "    batch_size=192,\n",
    "    # num_workers=4\n",
    ")\n",
    "\n",
    "data_module.setup()\n",
    "val_dataloaders = data_module.val_dataloader()\n",
    "schematic_array_converter = SchematicArrayConverter()"
   ]
  },
  {
   "cell_type": "code",
   "execution_count": 4,
   "metadata": {},
   "outputs": [],
   "source": [
    "import random\n",
    "\n",
    "# Pick a random validation dataloader\n",
    "dataloader = random.choice(val_dataloaders)\n",
    "i = val_dataloaders.index(dataloader)\n",
    "dataset_name = data_module.val_datasets[i][0]\n",
    "trees_pos_1_dataset = data_module.val_datasets[i][1]\n",
    "\n",
    "# dataset_name = 'trees_pos_1'\n",
    "# trees_pos_1_dataset = None\n",
    "# for name, dataset in data_module.val_datasets:\n",
    "#     if name == dataset_name:\n",
    "#         trees_pos_1_dataset = dataset\n",
    "#         break\n",
    "\n",
    "# Pick a random sample from the dataloader\n",
    "i = random.randint(0, len(trees_pos_1_dataset) - 1)\n",
    "masked_structure, full_structure = trees_pos_1_dataset[i]\n",
    "masked_structure = masked_structure.to(model.device)\n",
    "full_structure = full_structure.to(model.device)\n",
    "\n",
    "# Convert the sample to the desired format using the provided function\n",
    "masked_structure_schematic = schematic_array_converter.array_to_schematic(\n",
    "    masked_structure)\n",
    "masked_structure_schematic.name = 'Test'\n",
    "\n",
    "# Save the sample\n",
    "filename = f'sample_epoch_{random.random()}_dataloader_{dataset_name}.schem'\n",
    "filepath = os.path.join('schematic_viewer/public/schematics/masked/', filename)\n",
    "masked_structure_schematic.save_to_file(Path(filepath), 2)\n",
    "\n",
    "filled_structure = masked_structure.clone()"
   ]
  },
  {
   "cell_type": "code",
   "execution_count": 5,
   "metadata": {},
   "outputs": [
    {
     "name": "stdout",
     "output_type": "stream",
     "text": [
      "Generation time: 3.169405698776245\n"
     ]
    }
   ],
   "source": [
    "import time\n",
    "\n",
    "filled_structure = masked_structure.clone()\n",
    "filled_structure[filled_structure == 1] = 0\n",
    "\n",
    "# Generate a sample using the model\n",
    "start_time = time.time()\n",
    "model.complete_structure(filled_structure, temperature=1.0, fill_order='random')\n",
    "end_time = time.time()\n",
    "print(f'Generation time: {end_time - start_time}')\n",
    "\n",
    "# Convert the sample to the desired format using the provided function\n",
    "filled_structure_schematic = schematic_array_converter.array_to_schematic(\n",
    "    filled_structure)\n",
    "filled_structure_schematic.name = 'Test'\n",
    "\n",
    "# Save the sample\n",
    "filename = f'sample_epoch_{random.random()}_dataloader_{dataset_name}.schem'\n",
    "filepath = os.path.join('schematic_viewer/public/schematics/filled/', filename)\n",
    "filled_structure_schematic.save_to_file(Path(filepath), 2)"
   ]
  },
  {
   "cell_type": "code",
   "execution_count": 18,
   "metadata": {},
   "outputs": [
    {
     "name": "stdout",
     "output_type": "stream",
     "text": [
      "Request time: 6.34930682182312\n"
     ]
    }
   ],
   "source": [
    "import time\n",
    "import json\n",
    "import requests\n",
    "\n",
    "filled_structure = masked_structure.clone()\n",
    "filled_structure[filled_structure == 1] = 0\n",
    "\n",
    "# The URL of the FastAPI streaming endpoint\n",
    "url = 'http://127.0.0.1:8000/complete-structure/'\n",
    "\n",
    "# The input data to send to the server\n",
    "input_data = {\n",
    "    'temperature': 0.7,\n",
    "    'structure': filled_structure.tolist()\n",
    "}\n",
    "\n",
    "serialized_data = json.dumps(input_data)\n",
    "\n",
    "start_time = time.time()\n",
    "\n",
    "# Make a POST request and stream the response\n",
    "response = requests.post(url, data=serialized_data, stream=True)\n",
    "\n",
    "# Check if the request was successful\n",
    "if response.status_code == 200:\n",
    "    # Iterate over the response\n",
    "    for line in response.iter_lines():\n",
    "        # Filter out keep-alive new lines\n",
    "        if line:\n",
    "            decoded_line = line.decode('utf-8')\n",
    "            json_data = json.loads(decoded_line)\n",
    "            value = json_data['value']\n",
    "            z, y, x = json_data['position']\n",
    "            filled_structure[z, y, x] = value\n",
    "else:\n",
    "    print(f\"Error: {response.status_code}\")\n",
    "\n",
    "end_time = time.time()\n",
    "print(f'Request time: {end_time - start_time}')\n",
    "\n",
    "# Convert the sample to the desired format using the provided function\n",
    "filled_structure_schematic = schematic_array_converter.array_to_schematic(\n",
    "    filled_structure)\n",
    "filled_structure_schematic.name = 'Test'\n",
    "\n",
    "# Save the sample\n",
    "filename = f'sample_epoch_{random.random()}_dataloader_{dataset_name}.schem'\n",
    "filepath = os.path.join('schematic_viewer/public/schematics/filled/', filename)\n",
    "filled_structure_schematic.save_to_file(Path(filepath), 2)"
   ]
  },
  {
   "cell_type": "code",
   "execution_count": null,
   "metadata": {},
   "outputs": [],
   "source": []
  }
 ],
 "metadata": {
  "kernelspec": {
   "display_name": ".venv",
   "language": "python",
   "name": "python3"
  },
  "language_info": {
   "codemirror_mode": {
    "name": "ipython",
    "version": 3
   },
   "file_extension": ".py",
   "mimetype": "text/x-python",
   "name": "python",
   "nbconvert_exporter": "python",
   "pygments_lexer": "ipython3",
   "version": "3.11.4"
  }
 },
 "nbformat": 4,
 "nbformat_minor": 2
}
